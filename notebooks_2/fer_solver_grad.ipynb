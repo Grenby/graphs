{
 "cells": [
  {
   "cell_type": "code",
   "outputs": [],
   "source": [
    "import random\n",
    "from multiprocessing import Pool\n",
    "\n",
    "import numpy as np\n",
    "import matplotlib.pyplot as plt\n",
    "from tqdm.notebook import tqdm, trange\n"
   ],
   "metadata": {
    "collapsed": false,
    "ExecuteTime": {
     "end_time": "2024-06-12T22:19:20.691049Z",
     "start_time": "2024-06-12T22:19:20.687632Z"
    }
   },
   "id": "72671d9643825ea8",
   "execution_count": 650
  },
  {
   "cell_type": "code",
   "outputs": [],
   "source": [
    "plt.rc('legend', fontsize=8)  # legend fontsize\n",
    "plt.rcParams.update({'font.size': 14})"
   ],
   "metadata": {
    "collapsed": false,
    "ExecuteTime": {
     "end_time": "2024-06-12T22:19:20.827548Z",
     "start_time": "2024-06-12T22:19:20.824411Z"
    }
   },
   "id": "53090f9cf3fc0c08",
   "execution_count": 651
  },
  {
   "cell_type": "code",
   "outputs": [],
   "source": [
    "N = 24  # число субъединиц"
   ],
   "metadata": {
    "collapsed": false,
    "ExecuteTime": {
     "end_time": "2024-06-12T22:19:20.850314Z",
     "start_time": "2024-06-12T22:19:20.847275Z"
    }
   },
   "id": "d59c2802325b0cc2",
   "execution_count": 652
  },
  {
   "cell_type": "code",
   "outputs": [],
   "source": [
    "K = np.zeros((N + 1, N + 1, N + 1, N + 1))\n",
    "for i in range(N + 1):\n",
    "    for j in range(N + 1):\n",
    "        for k in range(N + 1):\n",
    "            for l in range(N + 1):\n",
    "                a = i + j\n",
    "                b = k + l\n",
    "                # if a == 1 and b == 1:\n",
    "                #   K[i,j,k,l]=1\n",
    "                # if a == 2 and b == 2:\n",
    "                #   K[i,j,k,l]=1\n",
    "                # if (a == 4 and b == 2) or (a == 2 and b == 4):\n",
    "                #   K[i,j,k,l]=1\n",
    "                if a == 6 and b == 6:\n",
    "                    K[i, j, k, l] = 1\n",
    "                if a == 12 and b == 12:\n",
    "                    K[i, j, k, l] = 1\n",
    "\n",
    "indx = np.argwhere(K > 0.01)"
   ],
   "metadata": {
    "collapsed": false,
    "ExecuteTime": {
     "end_time": "2024-06-12T22:19:20.971661Z",
     "start_time": "2024-06-12T22:19:20.873174Z"
    }
   },
   "id": "69a54f887bcbd840",
   "execution_count": 653
  },
  {
   "cell_type": "code",
   "outputs": [],
   "source": [
    "def model(_C, delta_time):  # уравнения Смолуховского\n",
    "    dC = np.zeros((N + 1, N + 1))\n",
    "    for [i, j, k, l] in indx:\n",
    "        dC[i + k, j + l] += 1 / 2 * _C[i, j] * _C[k, l] * K[i, j, k, l]\n",
    "        dC[i, j] -= K[i, j, k, l] * _C[i, j] * _C[k, l]\n",
    "    return _C + dC * delta_time"
   ],
   "metadata": {
    "collapsed": false,
    "ExecuteTime": {
     "end_time": "2024-06-12T22:19:20.978544Z",
     "start_time": "2024-06-12T22:19:20.973862Z"
    }
   },
   "id": "744bb04f0337e5bb",
   "execution_count": 654
  },
  {
   "cell_type": "code",
   "outputs": [],
   "source": [
    "def get_b():\n",
    "    b = np.zeros(25)\n",
    "    b[0] = 0.015\n",
    "    b[1] = 0.025\n",
    "    b[2] = 0.038\n",
    "    b[3] = 0.05\n",
    "    b[4] = 0.061\n",
    "    b[5] = 0.068\n",
    "    b[6] = 0.068\n",
    "    b[7] = 0.065\n",
    "    b[8] = 0.061\n",
    "    b[9] = 0.059\n",
    "    b[10] = 0.059\n",
    "    b[11] = 0.061\n",
    "    b[12] = 0.055\n",
    "    b[13] = 0.052\n",
    "    b[14] = 0.047\n",
    "    b[15] = 0.043\n",
    "    b[16] = 0.036\n",
    "    b[17] = 0.03\n",
    "    b[18] = 0.025\n",
    "    b[19] = 0.02\n",
    "    b[20] = 0.017\n",
    "    b[21] = 0.015\n",
    "    b[22] = 0.011\n",
    "    b[23] = 0.009\n",
    "    b[24] = 0.007\n",
    "\n",
    "    b /= np.sum(b)\n",
    "    return b"
   ],
   "metadata": {
    "collapsed": false,
    "ExecuteTime": {
     "end_time": "2024-06-12T22:19:20.986530Z",
     "start_time": "2024-06-12T22:19:20.980076Z"
    }
   },
   "id": "6da76dbaa2d9199d",
   "execution_count": 655
  },
  {
   "cell_type": "code",
   "outputs": [],
   "source": [
    "peaks = [0.8404011571463119,\n",
    " 0.7945252162031439,\n",
    " 0.7565027674486093,\n",
    " 0.7240338993470374,\n",
    " 0.6957011425876662,\n",
    " 0.670568808802902,\n",
    " 0.6479866902539299,\n",
    " 0.6274845888270858,\n",
    " 0.6087114326964933,\n",
    " 0.59139816643289,\n",
    " 0.5753340223941958,\n",
    " 0.5603508228778717,\n",
    " 0.546312224280532,\n",
    " 0.5331061496493349,\n",
    " 0.5206393684159613,\n",
    " 0.5088334710519952,\n",
    " 0.497621899879081,\n",
    " 0.4869476823216445,\n",
    " 0.4767616474002418,\n",
    " 0.46702109557436516,\n",
    " 0.4576886778234583,\n",
    " 0.44873157363966143,\n",
    " 0.4401207537122128,\n",
    " 0.431830436904474,\n",
    " 0.4238376219588875]\n",
    "\n",
    "def gaussian(x, amplitude, mean, stddev):\n",
    "    return np.sqrt(1/(2*np.pi))*amplitude * np.exp(-(x - mean)**2 / (2 * stddev**2))\n",
    "\n",
    "def smooth(peaks, num, intensity):\n",
    "    if intensity == 0:\n",
    "        return np.zeros(25)\n",
    "    Fer_sigma = 0.011\n",
    "    FerSumo_sigma = 0.024\n",
    "    sigma = FerSumo_sigma*(24-num)/24.0 + Fer_sigma*num/24.0\n",
    "    peak_center = peaks[num]\n",
    "    smoothed_peak = np.zeros(25)\n",
    "    for i in range(1, 24):\n",
    "        smoothed_peak[i] = gaussian(peaks[i], intensity, peak_center, sigma)*(peaks[i-1] - peaks[i+1])/2\n",
    "    smoothed_peak[0] = gaussian(peaks[0], intensity, peak_center, sigma)*(peaks[0] - peaks[1])\n",
    "    smoothed_peak[24] = gaussian(peaks[24], intensity, peak_center, sigma)*(peaks[23] - peaks[24])\n",
    "    return smoothed_peak/sum(smoothed_peak)*intensity\n",
    "\n",
    "def smooth_profile(p_24):\n",
    "    result = np.zeros(25)\n",
    "    for i in range(0, 25):\n",
    "        result += smooth(peaks, i, p_24[i])\n",
    "    return result"
   ],
   "metadata": {
    "collapsed": false,
    "ExecuteTime": {
     "end_time": "2024-06-12T22:19:20.996860Z",
     "start_time": "2024-06-12T22:19:20.988481Z"
    }
   },
   "id": "23746443351126bd",
   "execution_count": 656
  },
  {
   "cell_type": "code",
   "outputs": [
    {
     "name": "stdout",
     "output_type": "stream",
     "text": [
      "10\n",
      "9\n",
      "8\n",
      "7\n",
      "6\n",
      "5\n",
      "4\n",
      "3\n",
      "2\n",
      "1\n"
     ]
    }
   ],
   "source": [
    "for i in range(10,0,-1):\n",
    "    print(i)"
   ],
   "metadata": {
    "collapsed": false,
    "ExecuteTime": {
     "end_time": "2024-06-12T22:19:21.005030Z",
     "start_time": "2024-06-12T22:19:20.998680Z"
    }
   },
   "id": "89f77e8efb835ff5",
   "execution_count": 657
  },
  {
   "cell_type": "code",
   "outputs": [],
   "source": [
    "E = np.identity(N+1)\n",
    "\n",
    "def back_prop(c, b):\n",
    "    dC = np.zeros((N+1,N+1))\n",
    "    data = np.zeros(N + 1)\n",
    "    for j in range(N + 1):\n",
    "        data[j] = c[-1][j, N - j]\n",
    "    data = smooth_profile(data)\n",
    "    data /=np.sum(data)\n",
    "    \n",
    "    for i in range(N+1):\n",
    "        dC[i, N - i] = 2*  (data[i] - b[i])\n",
    "    for i in trange(len(c)-1,-1,-1):\n",
    "        dPrev = np.zeros((N+1,N+1,N+1,N+1))\n",
    "        _C = c[i]\n",
    "        for [i, j, k, l] in indx:\n",
    "            dPrev[i + k, j + l,i,j] += (1 - E[i,k] * E[j,l]) * K[i,j,k,l] * _C[k,l]/2\n",
    "            dPrev[i + k, j + l,k,l] += (1 - E[i,k] * E[j,l]) * K[i,j,k,l] * _C[i,j]/2\n",
    "            dPrev[i + k, j + l,i,j] += E[i,k] * E[j,l] * K[i,j,k,l] * _C[k,l]\n",
    "            \n",
    "            dPrev[i, j,i,j] -= 2*K[i, j, i, j]* _C[i, j] * E[i,k] * E[j,l]\n",
    "            dPrev[i, j,k,l] -= K[i, j, k, l] * _C[i, j] * (1-E[i,k] * E[j,l])\n",
    "        \n",
    "        dPrev*=STEP\n",
    "        dPrev+=np.einsum('ij,kl->ikjl',E,E)\n",
    "        dC = np.einsum('ij,ijkl->kl',dC,dPrev)\n",
    "        \n",
    "        # print(dC[6,0])\n",
    "    return dC"
   ],
   "metadata": {
    "collapsed": false,
    "ExecuteTime": {
     "end_time": "2024-06-12T22:19:21.017655Z",
     "start_time": "2024-06-12T22:19:21.006555Z"
    }
   },
   "id": "128553929f19a8e4",
   "execution_count": 658
  },
  {
   "cell_type": "code",
   "outputs": [],
   "source": [
    "# np.einsum('ij,kl->ijkl',E,E)"
   ],
   "metadata": {
    "collapsed": false,
    "ExecuteTime": {
     "end_time": "2024-06-12T22:19:21.024956Z",
     "start_time": "2024-06-12T22:19:21.019143Z"
    }
   },
   "id": "4b88801d9b64221b",
   "execution_count": 659
  },
  {
   "cell_type": "code",
   "execution_count": 660,
   "id": "initial_id",
   "metadata": {
    "collapsed": true,
    "ExecuteTime": {
     "end_time": "2024-06-12T22:19:21.031228Z",
     "start_time": "2024-06-12T22:19:21.026816Z"
    }
   },
   "outputs": [],
   "source": [
    "def solver(C0, TIME, STEP):\n",
    "    prev = C0\n",
    "    c =[C0]\n",
    "    # times = [-STEP]\n",
    "    for t in tqdm(np.arange(0, TIME, STEP)):\n",
    "        C_new = model(prev, STEP)\n",
    "        prev = C_new\n",
    "        c.append(prev)\n",
    "    return prev,back_prop(c, get_b())"
   ]
  },
  {
   "cell_type": "code",
   "outputs": [],
   "source": [
    "def count(state):\n",
    "    c = np.zeros((N + 1, N + 1))\n",
    "    dc=None\n",
    "    c[0, 6] = state[0]\n",
    "    c[1, 5] = state[1]\n",
    "    c[2, 4] = state[2]\n",
    "    c[3, 3] = state[3]\n",
    "    c[4, 2] = state[4]\n",
    "    c[5, 1] = state[5]\n",
    "    c[6, 0] = state[6]\n",
    "    a = 0.1\n",
    "    for i in range(100):\n",
    "        if dc is not None:\n",
    "            c[0, 6] -= dc[0,6] * a\n",
    "            c[1, 5] -= dc[1,5] * a\n",
    "            c[2, 4] -= dc[2,4] * a\n",
    "            c[3, 3] -= dc[3,3] * a\n",
    "            c[4, 2] -= dc[4,2] * a\n",
    "            c[5, 1] -= dc[5,1] * a\n",
    "            c[6, 0] -= dc[6,0] * a\n",
    "            c /= np.sum(c)\n",
    "            # c-=dc*a\n",
    "        q,dc = solver(c, T, STEP)\n",
    "        data = np.zeros(N + 1)\n",
    "        for j in range(N + 1):\n",
    "            data[j] = q[j, N - j]\n",
    "        print(np.sum(((data - get_b()) ** 2) / b))\n",
    "        data = np.zeros(7)\n",
    "        for j in range(7):\n",
    "            data[j] = q[j, 6 - j]\n",
    "        print(data/np.sum(data))\n",
    "    data = np.zeros(N + 1)\n",
    "    for j in range(N + 1):\n",
    "        data[j] = q[j, N - j]\n",
    "    return np.sum(((data - get_b()) ** 2)), state"
   ],
   "metadata": {
    "collapsed": false,
    "ExecuteTime": {
     "end_time": "2024-06-12T22:19:21.044157Z",
     "start_time": "2024-06-12T22:19:21.032588Z"
    }
   },
   "id": "6027b331afa8771c",
   "execution_count": 661
  },
  {
   "cell_type": "markdown",
   "source": [
    "Solver params"
   ],
   "metadata": {
    "collapsed": false
   },
   "id": "cf1df8f869bf3a04"
  },
  {
   "cell_type": "code",
   "outputs": [],
   "source": [
    "STEP = 0.1\n",
    "T = 100"
   ],
   "metadata": {
    "collapsed": false,
    "ExecuteTime": {
     "end_time": "2024-06-12T22:19:21.051627Z",
     "start_time": "2024-06-12T22:19:21.047159Z"
    }
   },
   "id": "bb759d04598e0ac",
   "execution_count": 662
  },
  {
   "cell_type": "markdown",
   "source": [
    "Fitting params"
   ],
   "metadata": {
    "collapsed": false
   },
   "id": "1b3a2098277a98ca"
  },
  {
   "cell_type": "code",
   "outputs": [],
   "source": [
    "iter_number  = 30\n",
    "min_delta = 1000000\n",
    "min_data = None\n",
    "batch_size = 16\n",
    "best = 5\n",
    "multy = 2"
   ],
   "metadata": {
    "collapsed": false,
    "ExecuteTime": {
     "end_time": "2024-06-12T22:19:21.057574Z",
     "start_time": "2024-06-12T22:19:21.053478Z"
    }
   },
   "id": "f0596c158d277bd9",
   "execution_count": 663
  },
  {
   "cell_type": "markdown",
   "source": [
    "others"
   ],
   "metadata": {
    "collapsed": false
   },
   "id": "872ff67ebe3f4487"
  },
  {
   "cell_type": "code",
   "outputs": [],
   "source": [
    "import multiprocessing\n",
    "\n",
    "NUM_THREADS = multiprocessing.cpu_count()\n",
    "b = get_b()\n",
    "res = {}"
   ],
   "metadata": {
    "collapsed": false,
    "ExecuteTime": {
     "end_time": "2024-06-12T22:19:21.063873Z",
     "start_time": "2024-06-12T22:19:21.059825Z"
    }
   },
   "id": "e56620e77099591a",
   "execution_count": 664
  },
  {
   "cell_type": "code",
   "outputs": [
    {
     "data": {
      "text/plain": "8"
     },
     "execution_count": 665,
     "metadata": {},
     "output_type": "execute_result"
    }
   ],
   "source": [
    "NUM_THREADS"
   ],
   "metadata": {
    "collapsed": false,
    "ExecuteTime": {
     "end_time": "2024-06-12T22:19:21.148670Z",
     "start_time": "2024-06-12T22:19:21.143755Z"
    }
   },
   "id": "f37b5be17bb43de8",
   "execution_count": 665
  },
  {
   "cell_type": "code",
   "outputs": [
    {
     "data": {
      "text/plain": "  0%|          | 0/30 [00:00<?, ?it/s]",
      "application/vnd.jupyter.widget-view+json": {
       "version_major": 2,
       "version_minor": 0,
       "model_id": "6693ef84ece74f7e8a46c5ffc6f6fa1a"
      }
     },
     "metadata": {},
     "output_type": "display_data"
    },
    {
     "data": {
      "text/plain": "  0%|          | 0/1000 [00:00<?, ?it/s]",
      "application/vnd.jupyter.widget-view+json": {
       "version_major": 2,
       "version_minor": 0,
       "model_id": "497114a719984fd29e1c82088bc024bf"
      }
     },
     "metadata": {},
     "output_type": "display_data"
    },
    {
     "data": {
      "text/plain": "  0%|          | 0/1001 [00:00<?, ?it/s]",
      "application/vnd.jupyter.widget-view+json": {
       "version_major": 2,
       "version_minor": 0,
       "model_id": "29dbfaa12a72444f9290cab497d1e6e5"
      }
     },
     "metadata": {},
     "output_type": "display_data"
    },
    {
     "name": "stdout",
     "output_type": "stream",
     "text": [
      "0.44390500477001194\n",
      "[0.14874026 0.09845788 0.21569959 0.07285949 0.16082225 0.09052891\n",
      " 0.21289163]\n"
     ]
    },
    {
     "data": {
      "text/plain": "  0%|          | 0/1000 [00:00<?, ?it/s]",
      "application/vnd.jupyter.widget-view+json": {
       "version_major": 2,
       "version_minor": 0,
       "model_id": "00106a4c13e64b16aba01c7a2efe987a"
      }
     },
     "metadata": {},
     "output_type": "display_data"
    },
    {
     "data": {
      "text/plain": "  0%|          | 0/1001 [00:00<?, ?it/s]",
      "application/vnd.jupyter.widget-view+json": {
       "version_major": 2,
       "version_minor": 0,
       "model_id": "719c7f7163ac43d78eaec537afa17a38"
      }
     },
     "metadata": {},
     "output_type": "display_data"
    },
    {
     "name": "stdout",
     "output_type": "stream",
     "text": [
      "0.5979504485877779\n",
      "[0.15773709 0.10322881 0.21698141 0.07021155 0.15742758 0.0850619\n",
      " 0.20935165]\n"
     ]
    },
    {
     "data": {
      "text/plain": "  0%|          | 0/1000 [00:00<?, ?it/s]",
      "application/vnd.jupyter.widget-view+json": {
       "version_major": 2,
       "version_minor": 0,
       "model_id": "c7b6a61294c747fca812913f27a31aef"
      }
     },
     "metadata": {},
     "output_type": "display_data"
    },
    {
     "data": {
      "text/plain": "  0%|          | 0/1001 [00:00<?, ?it/s]",
      "application/vnd.jupyter.widget-view+json": {
       "version_major": 2,
       "version_minor": 0,
       "model_id": "f3d4ceedef2c47a89367b5652efcd7fe"
      }
     },
     "metadata": {},
     "output_type": "display_data"
    },
    {
     "name": "stdout",
     "output_type": "stream",
     "text": [
      "0.5929211034484113\n",
      "[0.18080836 0.11484355 0.22108875 0.06276993 0.14876136 0.07072762\n",
      " 0.20100043]\n"
     ]
    },
    {
     "data": {
      "text/plain": "  0%|          | 0/1000 [00:00<?, ?it/s]",
      "application/vnd.jupyter.widget-view+json": {
       "version_major": 2,
       "version_minor": 0,
       "model_id": "00aed294e9204dadb99bd0ca822157e2"
      }
     },
     "metadata": {},
     "output_type": "display_data"
    },
    {
     "data": {
      "text/plain": "  0%|          | 0/1001 [00:00<?, ?it/s]",
      "application/vnd.jupyter.widget-view+json": {
       "version_major": 2,
       "version_minor": 0,
       "model_id": "9d926457f0b543cd8715f0fc97fa024f"
      }
     },
     "metadata": {},
     "output_type": "display_data"
    },
    {
     "name": "stdout",
     "output_type": "stream",
     "text": [
      "0.5897748098151279\n",
      "[0.20031553 0.12415059 0.22507841 0.05543042 0.14147674 0.05817435\n",
      " 0.19537396]\n"
     ]
    },
    {
     "data": {
      "text/plain": "  0%|          | 0/1000 [00:00<?, ?it/s]",
      "application/vnd.jupyter.widget-view+json": {
       "version_major": 2,
       "version_minor": 0,
       "model_id": "8abc87e4c90743ac8f2f5728a4a70a1c"
      }
     },
     "metadata": {},
     "output_type": "display_data"
    },
    {
     "data": {
      "text/plain": "  0%|          | 0/1001 [00:00<?, ?it/s]",
      "application/vnd.jupyter.widget-view+json": {
       "version_major": 2,
       "version_minor": 0,
       "model_id": "72fb50bbf06f443580c230e1509a019c"
      }
     },
     "metadata": {},
     "output_type": "display_data"
    },
    {
     "name": "stdout",
     "output_type": "stream",
     "text": [
      "0.587787511219746\n",
      "[0.21699635 0.13159716 0.2287723  0.04819024 0.13525145 0.04721336\n",
      " 0.19197915]\n"
     ]
    },
    {
     "data": {
      "text/plain": "  0%|          | 0/1000 [00:00<?, ?it/s]",
      "application/vnd.jupyter.widget-view+json": {
       "version_major": 2,
       "version_minor": 0,
       "model_id": "ba13ea662b3f4ef29dc972cc3d154e20"
      }
     },
     "metadata": {},
     "output_type": "display_data"
    },
    {
     "data": {
      "text/plain": "  0%|          | 0/1001 [00:00<?, ?it/s]",
      "application/vnd.jupyter.widget-view+json": {
       "version_major": 2,
       "version_minor": 0,
       "model_id": "eeb5f5d20acc49228d7c3f1fddadbbc0"
      }
     },
     "metadata": {},
     "output_type": "display_data"
    },
    {
     "name": "stdout",
     "output_type": "stream",
     "text": [
      "0.5865548543955982\n",
      "[0.2313102  0.13748381 0.23207104 0.04108831 0.12988776 0.03772493\n",
      " 0.19043395]\n"
     ]
    },
    {
     "data": {
      "text/plain": "  0%|          | 0/1000 [00:00<?, ?it/s]",
      "application/vnd.jupyter.widget-view+json": {
       "version_major": 2,
       "version_minor": 0,
       "model_id": "217f306d430c43808b696f7cd3db97c0"
      }
     },
     "metadata": {},
     "output_type": "display_data"
    },
    {
     "data": {
      "text/plain": "  0%|          | 0/1001 [00:00<?, ?it/s]",
      "application/vnd.jupyter.widget-view+json": {
       "version_major": 2,
       "version_minor": 0,
       "model_id": "5549760f2adb4b45bba43a9c9bdd5168"
      }
     },
     "metadata": {},
     "output_type": "display_data"
    },
    {
     "name": "stdout",
     "output_type": "stream",
     "text": [
      "0.5858315666402584\n",
      "[0.243593   0.14204514 0.23493183 0.03417995 0.1252505  0.02959919\n",
      " 0.19040039]\n"
     ]
    },
    {
     "data": {
      "text/plain": "  0%|          | 0/1000 [00:00<?, ?it/s]",
      "application/vnd.jupyter.widget-view+json": {
       "version_major": 2,
       "version_minor": 0,
       "model_id": "dfdd9d5ce3ea4f7e9af22e00ecd97268"
      }
     },
     "metadata": {},
     "output_type": "display_data"
    },
    {
     "data": {
      "text/plain": "  0%|          | 0/1001 [00:00<?, ?it/s]",
      "application/vnd.jupyter.widget-view+json": {
       "version_major": 2,
       "version_minor": 0,
       "model_id": "148e76c959ad4d20869a731b9e3cbb8a"
      }
     },
     "metadata": {},
     "output_type": "display_data"
    },
    {
     "name": "stdout",
     "output_type": "stream",
     "text": [
      "0.5854619174303303\n",
      "[0.25412325 0.14548271 0.23735417 0.02752248 0.12123856 0.0227137\n",
      " 0.19156513]\n"
     ]
    },
    {
     "data": {
      "text/plain": "  0%|          | 0/1000 [00:00<?, ?it/s]",
      "application/vnd.jupyter.widget-view+json": {
       "version_major": 2,
       "version_minor": 0,
       "model_id": "8332b4b61ff84e939fd18136dc3a03ea"
      }
     },
     "metadata": {},
     "output_type": "display_data"
    },
    {
     "data": {
      "text/plain": "  0%|          | 0/1001 [00:00<?, ?it/s]",
      "application/vnd.jupyter.widget-view+json": {
       "version_major": 2,
       "version_minor": 0,
       "model_id": "195c92612b6d4cae8aee4cb7046812ea"
      }
     },
     "metadata": {},
     "output_type": "display_data"
    },
    {
     "name": "stdout",
     "output_type": "stream",
     "text": [
      "0.5853450830349858\n",
      "[0.263148   0.14797651 0.23936682 0.02116703 0.11777114 0.01693053\n",
      " 0.19363997]\n"
     ]
    },
    {
     "data": {
      "text/plain": "  0%|          | 0/1000 [00:00<?, ?it/s]",
      "application/vnd.jupyter.widget-view+json": {
       "version_major": 2,
       "version_minor": 0,
       "model_id": "b46d6e9402d64e3e930901167360261d"
      }
     },
     "metadata": {},
     "output_type": "display_data"
    },
    {
     "data": {
      "text/plain": "  0%|          | 0/1001 [00:00<?, ?it/s]",
      "application/vnd.jupyter.widget-view+json": {
       "version_major": 2,
       "version_minor": 0,
       "model_id": "db134d6c7edd43408ef4120252e3f956"
      }
     },
     "metadata": {},
     "output_type": "display_data"
    },
    {
     "name": "stdout",
     "output_type": "stream",
     "text": [
      "0.5854154000859928\n",
      "[0.27088997 0.14968728 0.24101559 0.01515459 0.11478084 0.01210306\n",
      " 0.19636866]\n"
     ]
    },
    {
     "data": {
      "text/plain": "  0%|          | 0/1000 [00:00<?, ?it/s]",
      "application/vnd.jupyter.widget-view+json": {
       "version_major": 2,
       "version_minor": 0,
       "model_id": "e735315886964e8ca15d9a65b192cdaa"
      }
     },
     "metadata": {},
     "output_type": "display_data"
    },
    {
     "data": {
      "text/plain": "  0%|          | 0/1001 [00:00<?, ?it/s]",
      "application/vnd.jupyter.widget-view+json": {
       "version_major": 2,
       "version_minor": 0,
       "model_id": "e0adde2e6f9941d5a9e7eb2d5e5553c6"
      }
     },
     "metadata": {},
     "output_type": "display_data"
    },
    {
     "name": "stdout",
     "output_type": "stream",
     "text": [
      "0.5856297853601778\n",
      "[0.27754752 0.15075574 0.24235312 0.009515   0.11221031 0.00808565\n",
      " 0.19953267]\n"
     ]
    },
    {
     "data": {
      "text/plain": "  0%|          | 0/1000 [00:00<?, ?it/s]",
      "application/vnd.jupyter.widget-view+json": {
       "version_major": 2,
       "version_minor": 0,
       "model_id": "96ab81d9d16046b1a116bb8f3f00243a"
      }
     },
     "metadata": {},
     "output_type": "display_data"
    },
    {
     "data": {
      "text/plain": "  0%|          | 0/1001 [00:00<?, ?it/s]",
      "application/vnd.jupyter.widget-view+json": {
       "version_major": 2,
       "version_minor": 0,
       "model_id": "e71e315868124468b3c1a01a535d94ae"
      }
     },
     "metadata": {},
     "output_type": "display_data"
    },
    {
     "name": "stdout",
     "output_type": "stream",
     "text": [
      "0.5859592683529758\n",
      "[0.2832934  0.1513021  0.24343155 0.00426751 0.11001019 0.00474201\n",
      " 0.20295324]\n"
     ]
    },
    {
     "data": {
      "text/plain": "  0%|          | 0/1000 [00:00<?, ?it/s]",
      "application/vnd.jupyter.widget-view+json": {
       "version_major": 2,
       "version_minor": 0,
       "model_id": "7bd644705d174d26a0115fcb063eaa02"
      }
     },
     "metadata": {},
     "output_type": "display_data"
    },
    {
     "data": {
      "text/plain": "  0%|          | 0/1001 [00:00<?, ?it/s]",
      "application/vnd.jupyter.widget-view+json": {
       "version_major": 2,
       "version_minor": 0,
       "model_id": "0945acaed4f140579411f4136e9900e4"
      }
     },
     "metadata": {},
     "output_type": "display_data"
    },
    {
     "name": "stdout",
     "output_type": "stream",
     "text": [
      "0.5863833205416704\n",
      "[ 0.28827477  0.15142678  0.24429824 -0.00057786  0.10813783  0.0019505\n",
      "  0.20648973]\n"
     ]
    },
    {
     "data": {
      "text/plain": "  0%|          | 0/1000 [00:00<?, ?it/s]",
      "application/vnd.jupyter.widget-view+json": {
       "version_major": 2,
       "version_minor": 0,
       "model_id": "dac7190f75be492ca0b831a72059c24e"
      }
     },
     "metadata": {},
     "output_type": "display_data"
    },
    {
     "data": {
      "text/plain": "  0%|          | 0/1001 [00:00<?, ?it/s]",
      "application/vnd.jupyter.widget-view+json": {
       "version_major": 2,
       "version_minor": 0,
       "model_id": "bd4f9f243feb420182467ac072eeca7b"
      }
     },
     "metadata": {},
     "output_type": "display_data"
    },
    {
     "name": "stdout",
     "output_type": "stream",
     "text": [
      "0.5868862397671417\n",
      "[ 0.29261497  0.15121233  0.24499389 -0.00501899  0.106556   -0.00039372\n",
      "  0.21003553]\n"
     ]
    },
    {
     "data": {
      "text/plain": "  0%|          | 0/1000 [00:00<?, ?it/s]",
      "application/vnd.jupyter.widget-view+json": {
       "version_major": 2,
       "version_minor": 0,
       "model_id": "d75044791664428f8640f0f37474ffda"
      }
     },
     "metadata": {},
     "output_type": "display_data"
    },
    {
     "data": {
      "text/plain": "  0%|          | 0/1001 [00:00<?, ?it/s]",
      "application/vnd.jupyter.widget-view+json": {
       "version_major": 2,
       "version_minor": 0,
       "model_id": "3ad1faa4cc5e42a99408d14a0351c8d8"
      }
     },
     "metadata": {},
     "output_type": "display_data"
    },
    {
     "name": "stderr",
     "output_type": "stream",
     "text": [
      "Process ForkPoolWorker-57:\n",
      "\n",
      "KeyboardInterrupt\n",
      "\n"
     ]
    }
   ],
   "source": [
    "with Pool(1) as p:\n",
    "    for i in trange(iter_number):\n",
    "        if len(res) == 0:\n",
    "            batch = np.random.random((batch_size, 7))\n",
    "        else:\n",
    "            batch = np.random.random((batch_size, 7))\n",
    "            for num, k in enumerate(res):\n",
    "                for j in range(multy):\n",
    "                    for l in range(7):\n",
    "                        batch[multy * num + j, l] = min(max(res[k][l] + random.random() / 20 - 1/40, 0), 1)\n",
    "        # tmp = list(tqdm(p.imap(count, batch), total=len(batch)))\n",
    "        tmp = count(state= batch[0])\n",
    "        for t in tmp:\n",
    "            res[t[0]] = t[1]\n",
    "        q = list(res.items())\n",
    "        q.sort(key=lambda x: x[0])\n",
    "        res = dict(q[0:best])\n",
    "\n",
    "        q = list(res.items())\n",
    "        q.sort(key=lambda x: x[0])\n",
    "        q = q[0:1]\n",
    "        print('delta:', q[0][0])\n",
    "        print('c:', q[0][1])"
   ],
   "metadata": {
    "collapsed": false,
    "ExecuteTime": {
     "end_time": "2024-06-12T22:20:31.179200Z",
     "start_time": "2024-06-12T22:19:21.217227Z"
    }
   },
   "id": "25bfc6db996d6aaf",
   "execution_count": 666
  }
 ],
 "metadata": {
  "kernelspec": {
   "display_name": "Python 3",
   "language": "python",
   "name": "python3"
  },
  "language_info": {
   "codemirror_mode": {
    "name": "ipython",
    "version": 2
   },
   "file_extension": ".py",
   "mimetype": "text/x-python",
   "name": "python",
   "nbconvert_exporter": "python",
   "pygments_lexer": "ipython2",
   "version": "2.7.6"
  }
 },
 "nbformat": 4,
 "nbformat_minor": 5
}
