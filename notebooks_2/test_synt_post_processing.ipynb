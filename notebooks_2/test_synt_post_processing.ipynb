{
 "cells": [
  {
   "cell_type": "code",
   "execution_count": null,
   "outputs": [],
   "source": [
    "mypath = '../clusters_results/synt'"
   ],
   "metadata": {
    "collapsed": false
   }
  },
  {
   "cell_type": "code",
   "execution_count": null,
   "outputs": [],
   "source": [
    "onlyfiles = [f for f in listdir(mypath) if isfile(join(mypath, f))]\n",
    "\n",
    "r : dict[str:CityResult]= {}\n",
    "for name in onlyfiles:\n",
    "    with open(join(mypath, name), 'rb') as f:\n",
    "        r[name] = pickle.load(f)\n",
    "        f.close()"
   ],
   "metadata": {
    "collapsed": false
   }
  },
  {
   "cell_type": "markdown",
   "source": [
    "Обработка данных"
   ],
   "metadata": {
    "collapsed": false
   }
  },
  {
   "cell_type": "code",
   "execution_count": null,
   "outputs": [],
   "source": [
    "def theory_func(x,c, g, N = 9574, b0 = 1):\n",
    "    x = x\n",
    "    q = np.log(x) / np.log(N)\n",
    "    return c +g / (x / b0 * (1 + q) + c / (np.sqrt(x * N)) * (1 - q))"
   ],
   "metadata": {
    "collapsed": false
   }
  },
  {
   "cell_type": "code",
   "execution_count": null,
   "outputs": [],
   "source": [
    "X_a = {}\n",
    "Y_err = {}\n",
    "Y_err_std = {}\n",
    "\n",
    "Y_speedup = {}\n",
    "\n",
    "for name in r:\n",
    "    result: CityResult = r[name]\n",
    "    X_a[name] = [a.alpha for a in result.points_results]\n",
    "    Y_err[name] = [np.mean(a.errors) for a in result.points_results]\n",
    "    Y_err_std[name] = [np.std(a.errors) for a in result.points_results]\n",
    "    Y_speedup[name] = [np.mean(a.speed_up) for a in result.points_results]"
   ],
   "metadata": {
    "collapsed": false
   }
  },
  {
   "cell_type": "markdown",
   "source": [
    "Графики:"
   ],
   "metadata": {
    "collapsed": false
   }
  },
  {
   "cell_type": "code",
   "execution_count": null,
   "outputs": [],
   "source": [
    "city_to_n = {}\n",
    "X_max = {}\n",
    "Y_speedup_max = {}\n",
    "Y_err_speedup = {}\n",
    "\n",
    "c = {}\n",
    "b = {}\n",
    "for name in r:\n",
    "    fig, axs = plt.subplots(1, 3)\n",
    "    fig.set_figwidth(25)\n",
    "    fig.set_figheight(7)\n",
    "\n",
    "    axs[0].errorbar(X_a[name], Y_speedup[name], fmt='o', label = \"{}: {}\".format(name, r[name].nodes))\n",
    "    axs[0].set(xlabel='alpha'+ str(r[name].density), ylabel='ускорение')\n",
    "\n",
    "    func_r = partial(theory_func, N=r[name].nodes, b0=r[name].edges/r[name].nodes)\n",
    "    print(str(r[name].nodes) + ' ' + str(r[name].edges/r[name].nodes))\n",
    "    print(str(r[name].nodes) + ' ' + str(2*r[name].edges/(r[name].nodes * (r[name].nodes-1))))\n",
    "\n",
    "    _x = np.array(X_a[name])\n",
    "    _x = _x[_x < 0.6]\n",
    "    _xx = np.linspace(min(_x), max(_x), 100)\n",
    "\n",
    "\n",
    "    _y = np.array(Y_speedup[name])[0:len(_x)]\n",
    "    popt = curve_fit(func_r, _x, _y, p0=[0.0003, 4],bounds=(0,[10,1000]))\n",
    "    # if 'ASHA' in name:\n",
    "    #     func_target = partial(theory_func, c=0.00005, g=25,N=r[name].nodes, b0=r[name].density)\n",
    "    # else:\n",
    "    func_target = partial(theory_func, c=popt[0][0], g=popt[0][1],N=r[name].nodes, b0=r[name].edges/r[name].nodes)\n",
    "    a = scipy.optimize.fminbound(lambda x: -func_target(x), 0, 0.5)\n",
    "    city_to_n[name] = r[name].nodes\n",
    "    X_max[name] = a\n",
    "    Y_speedup_max[name] = func_target(a)\n",
    "\n",
    "    c[name] = popt[0][0]\n",
    "    b[name] = popt[0][1]\n",
    "\n",
    "    _y = func_target(np.array(_xx))\n",
    "    axs[0].errorbar(_xx, _y, linewidth=3, label = \"c:{}\\n g:{}\".format(popt[0][0],popt[0][1]))\n",
    "    axs[0].legend()\n",
    "    axs[1].errorbar(X_a[name], Y_err[name], fmt='o')\n",
    "    axs[1].set(xlabel='alpha' + str(r[name].density), ylabel='средняя относительная ошибка')\n",
    "    z = np.polyfit(X_a[name], Y_err[name], 6)\n",
    "    p = np.poly1d(z)\n",
    "    axs[1].errorbar(_xx, p(_xx), fmt='o')\n",
    "    Y_err_speedup[name] = p(a)\n",
    "\n",
    "\n",
    "\n",
    "    axs[2].errorbar(X_a[name], Y_err_std[name], fmt='o')\n",
    "    axs[2].set(xlabel='alpha'+ str(r[name].density), ylabel='погрешность ошибки')\n",
    "\n",
    "    # file_name = generate_new_name(name + '.png', 'plots')\n",
    "\n",
    "    # plt.savefig(file_name)"
   ],
   "metadata": {
    "collapsed": false
   }
  },
  {
   "cell_type": "markdown",
   "source": [],
   "metadata": {
    "collapsed": false
   }
  },
  {
   "cell_type": "code",
   "execution_count": null,
   "outputs": [],
   "source": [],
   "metadata": {
    "collapsed": false
   }
  },
  {
   "cell_type": "markdown",
   "source": [
    "Построим график ускорения от плотности"
   ],
   "metadata": {
    "collapsed": false
   }
  },
  {
   "cell_type": "code",
   "execution_count": null,
   "outputs": [],
   "source": [
    "# X_max = {}\n",
    "# Y_speedup_max = {}\n",
    "# Y_err_speedup = {}\n",
    "\n",
    "def t_f(x, N, b):\n",
    "    return\n",
    "\n",
    "fig, axs = plt.subplots(1, 5)\n",
    "fig.set_figwidth(30)\n",
    "fig.set_figheight(7)\n",
    "\n",
    "\n",
    "X_betta = [city_to_n[name] for name in city_to_n]\n",
    "Y_betta_speedup =[Y_speedup_max[n] for n in Y_speedup_max]\n",
    "Y_betta_err =[Y_err_speedup[n] for n in Y_err_speedup]\n",
    "\n",
    "Y_c = [c[name] for name in c]\n",
    "Y_b = [b[name] for name in b]\n",
    "\n",
    "axs[0].errorbar(X_betta, Y_betta_speedup, fmt='o')\n",
    "axs[0].set(xlabel='плотность', ylabel='максимальное ускорение')\n",
    "\n",
    "\n",
    "axs[1].errorbar(X_betta, Y_betta_err, fmt='o')\n",
    "axs[1].set(xlabel='плотность', ylabel='относительная ошибка при максимаольном кскорении')\n",
    "\n",
    "\n",
    "\n",
    "axs[2].errorbar(X_betta, Y_c, fmt='o')\n",
    "axs[2].set(xlabel='плотность', ylabel='c')\n",
    "X_betta = [r[n].density for n in r]\n",
    "\n",
    "axs[3].errorbar(X_betta, Y_b, fmt='o')\n",
    "axs[3].set(xlabel='плотность', ylabel='b')\n",
    "\n",
    "\n",
    "axs[4].errorbar(X_betta, [X_max[name] for name in X_max], fmt='o')\n",
    "axs[4].set(xlabel='плотность', ylabel='alpha')\n",
    "\n",
    "plt.show()"
   ],
   "metadata": {
    "collapsed": false
   }
  },
  {
   "cell_type": "code",
   "execution_count": null,
   "outputs": [],
   "source": [
    "def line(x, a,b):\n",
    "    return a*x + b\n",
    "\n",
    "def line_predict(x, a,b,alpha, N):\n",
    "    # print(\"a:{:.2f} n:{:.2f}\".format(alpha, N))\n",
    "    return a*x/(alpha * (1 + np.log(alpha)/np.log(N))) + b\n",
    "\n",
    "def inverse(x,a,b,c):\n",
    "    return a*(x**c) + b"
   ],
   "metadata": {
    "collapsed": false
   }
  },
  {
   "cell_type": "markdown",
   "source": [
    "Уберем последние 4 точки"
   ],
   "metadata": {
    "collapsed": false
   }
  },
  {
   "cell_type": "code",
   "execution_count": null,
   "outputs": [],
   "source": [
    "# X_max = {}\n",
    "# Y_speedup_max = {}\n",
    "# Y_err_speedup = {}\n",
    "\n",
    "fig, axs = plt.subplots(1, 2)\n",
    "fig.set_figwidth(25)\n",
    "fig.set_figheight(7)\n",
    "\n",
    "X_max_1 = dict(list(X_max.items())[0:-5])\n",
    "X_betta = [r[n].density for n in r][0:-5]\n",
    "Y_betta_speedup =[Y_speedup_max[n] for n in Y_speedup_max][0:-5]\n",
    "Y_betta_err =[Y_err_speedup[n] for n in Y_err_speedup][0:-5]\n",
    "\n",
    "axs[0].errorbar(X_betta, Y_betta_speedup, fmt='o')\n",
    "axs[0].set(xlabel='плотность', ylabel='максимальное ускорение')\n",
    "slope, intercept, r_value, p_value, std_err = scipy.stats.linregress(X_betta,Y_betta_speedup)\n",
    "\n",
    "_x = np.linspace(min(X_betta), max(X_betta))\n",
    "_y = slope * _x + intercept\n",
    "axs[0].errorbar(_x, _y,label = '{:.2f}x + {:.2f}. R2:{:.4f}'.format(slope,intercept, r_value**2))\n",
    "axs[0].legend()\n",
    "\n",
    "\n",
    "# _x = X_betta\n",
    "# f = partial(line_predict, N = [r[name].nodes for name in r][0])\n",
    "# _y = []\n",
    "# for i,a in enumerate(X_max_1):\n",
    "#     _y.append(f(_x[i], slope/15, intercept, X_max_1[a]))\n",
    "#\n",
    "# axs[0].errorbar(_x, _y, fmt = 'o')\n",
    "# axs[0].legend()\n",
    "\n",
    "\n",
    "\n",
    "axs[1].errorbar(X_betta, Y_betta_err, fmt='o')\n",
    "axs[1].set(xlabel='плотность', ylabel='относительная ошибка при максимаольном кскорении')\n",
    "\n",
    "popt = curve_fit(inverse, X_betta, Y_betta_err, p0=[0.000000015, -1.5,0.06])\n",
    "_xx = np.linspace(min(X_betta), max(X_betta), 300)\n",
    "_yy = inverse(_xx, *popt[0])\n",
    "axs[1].errorbar(_xx, _yy,label = '{:.10f}x^(-2) + {:.4f}'.format(popt[0][0],popt[0][1]))\n",
    "axs[1].legend()\n",
    "plt.show()"
   ],
   "metadata": {
    "collapsed": false
   }
  },
  {
   "cell_type": "code",
   "execution_count": null,
   "outputs": [],
   "source": [],
   "metadata": {
    "collapsed": false
   }
  },
  {
   "cell_type": "markdown",
   "source": [],
   "metadata": {
    "collapsed": false
   }
  },
  {
   "cell_type": "code",
   "execution_count": null,
   "outputs": [],
   "source": [
    "from graph_generator import get_graph\n",
    "\n",
    "H = get_graph('R2555133')\n"
   ],
   "metadata": {
    "collapsed": false
   }
  },
  {
   "cell_type": "code",
   "execution_count": null,
   "outputs": [],
   "source": [
    "def _f(x, N):\n",
    "    q = np.log(x) / np.log(N)\n",
    "    return 1 / (x * (1 + q) + 1 / (np.sqrt(x * N)) * (1 - q))\n",
    "\n",
    "for name in r:\n",
    "    fig, axs = plt.subplots(1, 3)\n",
    "    fig.set_figwidth(25)\n",
    "    fig.set_figheight(7)\n",
    "\n",
    "    axs[0].errorbar(X_a[name], Y_speedup[name], fmt='o', label = \"{}: {}\".format(name, r[name].nodes))\n",
    "    axs[0].set(xlabel='alpha'+ str(r[name].density), ylabel='ускорение')\n",
    "\n",
    "    # func_r = partial(theory_func, N=r[name].nodes, b0=r[name].edges/r[name].nodes)\n",
    "    # print(str(r[name].nodes) + ' ' + str(r[name].edges/r[name].nodes))\n",
    "    # print(str(r[name].nodes) + ' ' + str(2*r[name].edges/(r[name].nodes * (r[name].nodes-1))))\n",
    "\n",
    "    _x = np.array(X_a[name])\n",
    "    _x = _x[_x < 0.6]\n",
    "    _xx = np.linspace(min(_x), max(_x), 100)\n",
    "\n",
    "    func_target = partial(_f, N=r[name].nodes)\n",
    "    _y = func_target(np.array(_xx))\n",
    "    axs[0].errorbar(_xx, _y, linewidth=3)\n",
    "    axs[0].legend()\n",
    "    # axs[1].errorbar(X_a[name], Y_err[name], fmt='o')\n",
    "    # axs[1].set(xlabel='alpha' + str(r[name].density), ylabel='средняя относительная ошибка')\n",
    "    # z = np.polyfit(X_a[name], Y_err[name], 6)\n",
    "    # p = np.poly1d(z)\n",
    "    # axs[1].errorbar(_xx, p(_xx), fmt='o')\n",
    "    # Y_err_speedup[name] = p(a)\n",
    "    #\n",
    "    #\n",
    "    #\n",
    "    # axs[2].errorbar(X_a[name], Y_err_std[name], fmt='o')\n",
    "    # axs[2].set(xlabel='alpha'+ str(r[name].density), ylabel='погрешность ошибки')\n",
    "\n",
    "    # file_name = generate_new_name(name + '.png', 'plots')\n",
    "\n",
    "    # plt.savefig(file_name)"
   ],
   "metadata": {
    "collapsed": false
   }
  },
  {
   "cell_type": "code",
   "execution_count": null,
   "outputs": [],
   "source": [
    "def _f(x, N):\n",
    "    q = np.log(x) / np.log(N)\n",
    "    return 1 / (x * (1 + q) + 1 / (2*np.sqrt(x * N)) * (1 - q))\n",
    "\n",
    "arr_N = [i for i in range(10000, 100000,100)]\n",
    "y = []\n",
    "for i in arr_N:\n",
    "    func_target = partial(_f, N=i)\n",
    "    a = scipy.optimize.fminbound(lambda x: -func_target(x), 0, 1)\n",
    "    y.append(func_target(a))\n",
    "\n",
    "fig, axs = plt.subplots(1, 1)\n",
    "fig.set_figwidth(25)\n",
    "fig.set_figheight(7)\n",
    "\n",
    "axs.errorbar(arr_N, y, linewidth=3,label='a')\n",
    "axs.errorbar(arr_N, (np.array(arr_N)) ** 0.317 -1.5, linewidth=3, label = 'b')\n",
    "axs.legend()\n"
   ],
   "metadata": {
    "collapsed": false
   }
  },
  {
   "cell_type": "markdown",
   "source": [],
   "metadata": {
    "collapsed": false
   }
  }
 ],
 "metadata": {
  "kernelspec": {
   "display_name": "Python 3",
   "language": "python",
   "name": "python3"
  },
  "language_info": {
   "codemirror_mode": {
    "name": "ipython",
    "version": 2
   },
   "file_extension": ".py",
   "mimetype": "text/x-python",
   "name": "python",
   "nbconvert_exporter": "python",
   "pygments_lexer": "ipython2",
   "version": "2.7.6"
  }
 },
 "nbformat": 4,
 "nbformat_minor": 0
}
