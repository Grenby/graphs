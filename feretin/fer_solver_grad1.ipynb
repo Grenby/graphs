{
 "cells": [
  {
   "cell_type": "code",
   "outputs": [],
   "source": [
    "import random\n",
    "from multiprocessing import Pool\n",
    "\n",
    "import numpy as np\n",
    "from tqdm.notebook import tqdm, trange\n"
   ],
   "metadata": {
    "collapsed": false,
    "ExecuteTime": {
     "end_time": "2024-06-20T19:16:04.292508Z",
     "start_time": "2024-06-20T19:16:04.288819Z"
    }
   },
   "id": "72671d9643825ea8",
   "execution_count": 80
  },
  {
   "cell_type": "code",
   "outputs": [],
   "source": [],
   "metadata": {
    "collapsed": false,
    "ExecuteTime": {
     "end_time": "2024-06-20T19:16:04.405115Z",
     "start_time": "2024-06-20T19:16:04.391065Z"
    }
   },
   "id": "53090f9cf3fc0c08",
   "execution_count": 80
  },
  {
   "cell_type": "code",
   "outputs": [],
   "source": [
    "N = 24  # число субъединиц"
   ],
   "metadata": {
    "collapsed": false,
    "ExecuteTime": {
     "end_time": "2024-06-20T19:16:04.452394Z",
     "start_time": "2024-06-20T19:16:04.448730Z"
    }
   },
   "id": "d59c2802325b0cc2",
   "execution_count": 81
  },
  {
   "cell_type": "code",
   "outputs": [],
   "source": [
    "K = np.zeros((N + 1, N + 1, N + 1, N + 1))\n",
    "for i in range(N + 1):\n",
    "    for j in range(N + 1):\n",
    "        for k in range(N + 1):\n",
    "            for l in range(N + 1):\n",
    "                a = i + j\n",
    "                b = k + l\n",
    "                # if a == 1 and b == 1:\n",
    "                #   K[i,j,k,l]=1\n",
    "                # if a == 2 and b == 2:\n",
    "                #   K[i,j,k,l]=1\n",
    "                # if (a == 4 and b == 2) or (a == 2 and b == 4):\n",
    "                #   K[i,j,k,l]=1\n",
    "                if a == 6 and b == 6:\n",
    "                    K[i, j, k, l] = 1\n",
    "                if a == 12 and b == 12:\n",
    "                    K[i, j, k, l] = 1\n",
    "\n",
    "indx = np.argwhere(K > 0.01)"
   ],
   "metadata": {
    "collapsed": false,
    "ExecuteTime": {
     "end_time": "2024-06-20T19:16:04.725206Z",
     "start_time": "2024-06-20T19:16:04.539511Z"
    }
   },
   "id": "69a54f887bcbd840",
   "execution_count": 82
  },
  {
   "cell_type": "code",
   "outputs": [],
   "source": [
    "A = np.zeros((N+1,N+1,N+1))\n",
    "for i in range(N+1):\n",
    "    for j in range(N+1):\n",
    "        a = i+j\n",
    "        if a< N+1:\n",
    "            A[i,j,k] = 1"
   ],
   "metadata": {
    "collapsed": false
   },
   "id": "a4789135ba5535fb"
  },
  {
   "cell_type": "code",
   "outputs": [],
   "source": [
    "def model(_C, delta_time):  # уравнения Смолуховского\n",
    "    dC = np.zeros((N + 1, N + 1))\n",
    "    dC = np.einsum('ij,kl,ijkl,ija,klb->ab',_C,_C,K,A,A)/2 - np.einsum('ij,ijkl->kl',K,C)\n",
    "    # for [i, j, k, l] in indx:\n",
    "    #     dC[i + k, j + l] += 1 / 2 * _C[i, j] * _C[k, l] * K[i, j, k, l]\n",
    "    #     dC[i, j] -= K[i, j, k, l] * _C[i, j] * _C[k, l]\n",
    "    return _C + dC * delta_time"
   ],
   "metadata": {
    "collapsed": false,
    "ExecuteTime": {
     "end_time": "2024-06-20T19:16:04.734636Z",
     "start_time": "2024-06-20T19:16:04.727769Z"
    }
   },
   "id": "744bb04f0337e5bb",
   "execution_count": 83
  },
  {
   "cell_type": "code",
   "outputs": [],
   "source": [],
   "metadata": {
    "collapsed": false
   },
   "id": "aea237beb74ee42c"
  },
  {
   "cell_type": "code",
   "outputs": [],
   "source": [],
   "metadata": {
    "collapsed": false
   },
   "id": "1e1f85be2450947d"
  },
  {
   "cell_type": "code",
   "outputs": [],
   "source": [
    "def get_b():\n",
    "    b = np.zeros(25)\n",
    "    b[0] = 0.015\n",
    "    b[1] = 0.025\n",
    "    b[2] = 0.038\n",
    "    b[3] = 0.05\n",
    "    b[4] = 0.061\n",
    "    b[5] = 0.068\n",
    "    b[6] = 0.068\n",
    "    b[7] = 0.065\n",
    "    b[8] = 0.061\n",
    "    b[9] = 0.059\n",
    "    b[10] = 0.059\n",
    "    b[11] = 0.061\n",
    "    b[12] = 0.055\n",
    "    b[13] = 0.052\n",
    "    b[14] = 0.047\n",
    "    b[15] = 0.043\n",
    "    b[16] = 0.036\n",
    "    b[17] = 0.03\n",
    "    b[18] = 0.025\n",
    "    b[19] = 0.02\n",
    "    b[20] = 0.017\n",
    "    b[21] = 0.015\n",
    "    b[22] = 0.011\n",
    "    b[23] = 0.009\n",
    "    b[24] = 0.007\n",
    "    b = [0.0040782,  0.01298694, 0.02030641, 0.02340803, 0.02375074, 0.03095877,\n",
    " 0.04973027 ,0.06252962, 0.06053318, 0.0524339,  0.05017999, 0.05999055,\n",
    " 0.06524802, 0.05391921, 0.03848055, 0.02961201, 0.02858626, 0.02762937,\n",
    " 0.01945947, 0.01024822, 0.00584425, 0.00461172, 0.00398311, 0.00234085,\n",
    " 0.00058389]\n",
    "    b = np.array(b)\n",
    "    b /= np.sum(b)\n",
    "    return b"
   ],
   "metadata": {
    "collapsed": false,
    "ExecuteTime": {
     "end_time": "2024-06-20T19:16:04.748676Z",
     "start_time": "2024-06-20T19:16:04.737007Z"
    }
   },
   "id": "6da76dbaa2d9199d",
   "execution_count": 84
  },
  {
   "cell_type": "code",
   "outputs": [],
   "source": [
    "peaks = [0.8404011571463119,\n",
    "         0.7945252162031439,\n",
    "         0.7565027674486093,\n",
    "         0.7240338993470374,\n",
    "         0.6957011425876662,\n",
    "         0.670568808802902,\n",
    "         0.6479866902539299,\n",
    "         0.6274845888270858,\n",
    "         0.6087114326964933,\n",
    "         0.59139816643289,\n",
    "         0.5753340223941958,\n",
    "         0.5603508228778717,\n",
    "         0.546312224280532,\n",
    "         0.5331061496493349,\n",
    "         0.5206393684159613,\n",
    "         0.5088334710519952,\n",
    "         0.497621899879081,\n",
    "         0.4869476823216445,\n",
    "         0.4767616474002418,\n",
    "         0.46702109557436516,\n",
    "         0.4576886778234583,\n",
    "         0.44873157363966143,\n",
    "         0.4401207537122128,\n",
    "         0.431830436904474,\n",
    "         0.4238376219588875]\n",
    "\n",
    "\n",
    "def gaussian(x, amplitude, mean, stddev):\n",
    "    return np.sqrt(1 / (2 * np.pi)) * amplitude * np.exp(-(x - mean) ** 2 / (2 * stddev ** 2))\n",
    "\n",
    "\n",
    "def smooth(peaks, num, intensity):\n",
    "    if intensity == 0:\n",
    "        return np.zeros(25)\n",
    "    Fer_sigma = 0.011\n",
    "    FerSumo_sigma = 0.024\n",
    "    sigma = FerSumo_sigma * (24 - num) / 24.0 + Fer_sigma * num / 24.0\n",
    "    peak_center = peaks[num]\n",
    "    smoothed_peak = np.zeros(25)\n",
    "    for i in range(1, 24):\n",
    "        smoothed_peak[i] = gaussian(peaks[i], intensity, peak_center, sigma) * (peaks[i - 1] - peaks[i + 1]) / 2\n",
    "    smoothed_peak[0] = gaussian(peaks[0], intensity, peak_center, sigma) * (peaks[0] - peaks[1])\n",
    "    smoothed_peak[24] = gaussian(peaks[24], intensity, peak_center, sigma) * (peaks[23] - peaks[24])\n",
    "    return smoothed_peak / sum(smoothed_peak) * intensity\n",
    "\n",
    "\n",
    "def smooth_profile(p_24):\n",
    "    result = np.zeros(25)\n",
    "    for i in range(0, 25):\n",
    "        result += smooth(peaks, i, p_24[i])\n",
    "    return result"
   ],
   "metadata": {
    "collapsed": false,
    "ExecuteTime": {
     "end_time": "2024-06-20T19:16:04.761629Z",
     "start_time": "2024-06-20T19:16:04.751695Z"
    }
   },
   "id": "23746443351126bd",
   "execution_count": 85
  },
  {
   "cell_type": "code",
   "outputs": [],
   "source": [],
   "metadata": {
    "collapsed": false,
    "ExecuteTime": {
     "end_time": "2024-06-20T19:16:04.765884Z",
     "start_time": "2024-06-20T19:16:04.763166Z"
    }
   },
   "id": "89f77e8efb835ff5",
   "execution_count": 85
  },
  {
   "cell_type": "code",
   "outputs": [],
   "source": [
    "E = np.identity(N + 1)\n",
    "\n",
    "\n",
    "def back_prop(c, b):\n",
    "    dC = np.zeros((N + 1, N + 1))\n",
    "    data = np.zeros(N + 1)\n",
    "    for j in range(N + 1):\n",
    "        data[j] = c[-1][j, N - j]\n",
    "    # data = smooth_profile(data)\n",
    "    s = np.sum(data)\n",
    "    data /= s\n",
    "    d = np.zeros(N + 1)\n",
    "    for i in range(N + 1):\n",
    "        d[i] = 2 * (data[i] - b[i])\n",
    "    d = d / s - np.sum(data * d) / (s * s)\n",
    "    for i in range(N + 1):\n",
    "        dC[i, N - 1] = d[i]\n",
    "\n",
    "    for i in range(len(c) - 1, -1, -1):\n",
    "        dPrev = np.zeros((N + 1, N + 1, N + 1, N + 1))\n",
    "        _C = c[i]\n",
    "        for [i, j, k, l] in indx:\n",
    "            dPrev[i + k, j + l, i, j] += (1 - E[i, k] * E[j, l]) * K[i, j, k, l] * _C[k, l] / 2\n",
    "            dPrev[i + k, j + l, k, l] += (1 - E[i, k] * E[j, l]) * K[i, j, k, l] * _C[i, j] / 2\n",
    "            dPrev[i + k, j + l, i, j] += E[i, k] * E[j, l] * K[i, j, k, l] * _C[k, l]\n",
    "\n",
    "            dPrev[i, j, i, j] -= 2 * K[i, j, i, j] * _C[i, j] * E[i, k] * E[j, l]\n",
    "            dPrev[i, j, k, l] -= K[i, j, k, l] * _C[i, j] * (1 - E[i, k] * E[j, l])\n",
    "\n",
    "        dPrev *= STEP\n",
    "        dPrev += np.einsum('ij,kl->iklj', E, E)\n",
    "        dC = np.einsum('kl,klij->ij', dC, dPrev)\n",
    "\n",
    "        # print(dC[6,0])\n",
    "    return dC"
   ],
   "metadata": {
    "collapsed": false,
    "ExecuteTime": {
     "end_time": "2024-06-20T19:16:04.780723Z",
     "start_time": "2024-06-20T19:16:04.767566Z"
    }
   },
   "id": "128553929f19a8e4",
   "execution_count": 86
  },
  {
   "cell_type": "code",
   "outputs": [],
   "source": [
    "# np.einsum('ij,kl->ijkl',E,E)"
   ],
   "metadata": {
    "collapsed": false,
    "ExecuteTime": {
     "end_time": "2024-06-20T19:16:04.788244Z",
     "start_time": "2024-06-20T19:16:04.782692Z"
    }
   },
   "id": "4b88801d9b64221b",
   "execution_count": 87
  },
  {
   "cell_type": "code",
   "execution_count": 88,
   "id": "initial_id",
   "metadata": {
    "collapsed": true,
    "ExecuteTime": {
     "end_time": "2024-06-20T19:16:04.794108Z",
     "start_time": "2024-06-20T19:16:04.789895Z"
    }
   },
   "outputs": [],
   "source": [
    "def solver(C0, TIME, STEP):\n",
    "    prev = C0\n",
    "    c = [C0]\n",
    "    # times = [-STEP]\n",
    "    for t in np.arange(0, TIME, STEP):\n",
    "        C_new = model(prev, STEP)\n",
    "        prev = C_new\n",
    "        c.append(prev)\n",
    "    return prev, back_prop(c, get_b())"
   ]
  },
  {
   "cell_type": "code",
   "outputs": [],
   "source": [
    "def count(state):\n",
    "    dc = None\n",
    "\n",
    "    state = np.array(state)\n",
    "    state /= sum(state)\n",
    "    a = 0.1\n",
    "\n",
    "    for i in range(100):\n",
    "        if dc is not None:\n",
    "            state[0] -= dc[0, 6] * a\n",
    "            state[1] -= dc[1, 5] * a\n",
    "            state[2] -= dc[2, 4] * a\n",
    "            state[3] -= dc[3, 3] * a\n",
    "            state[4] -= dc[4, 2] * a\n",
    "            state[5] -= dc[5, 1] * a\n",
    "            state[6] -= dc[6, 0] * a\n",
    "            # a = a * 0.99\n",
    "            for i in range(7):\n",
    "                state[i] = max(0, min(1, state[i]))\n",
    "        c = np.zeros((N + 1, N + 1))\n",
    "        c[0, 6] = state[0]\n",
    "        c[1, 5] = state[1]\n",
    "        c[2, 4] = state[2]\n",
    "        c[3, 3] = state[3]\n",
    "        c[4, 2] = state[4]\n",
    "        c[5, 1] = state[5]\n",
    "        c[6, 0] = state[6]\n",
    "\n",
    "        q, dc = solver(c, T, STEP)\n",
    "        data = np.zeros(N + 1)\n",
    "        for j in range(N + 1):\n",
    "            data[j] = q[j, N - j]\n",
    "        print('delta:', np.sum(((data - get_b()) ** 2)))\n",
    "        print('a:', a)\n",
    "        print('state:', state)\n",
    "    return state"
   ],
   "metadata": {
    "collapsed": false,
    "ExecuteTime": {
     "end_time": "2024-06-20T19:16:04.806902Z",
     "start_time": "2024-06-20T19:16:04.795992Z"
    }
   },
   "id": "6027b331afa8771c",
   "execution_count": 89
  },
  {
   "cell_type": "markdown",
   "source": [
    "Solver params"
   ],
   "metadata": {
    "collapsed": false
   },
   "id": "cf1df8f869bf3a04"
  },
  {
   "cell_type": "code",
   "outputs": [],
   "source": [
    "STEP = 0.1\n",
    "T = 100"
   ],
   "metadata": {
    "collapsed": false,
    "ExecuteTime": {
     "end_time": "2024-06-20T19:16:04.814781Z",
     "start_time": "2024-06-20T19:16:04.811289Z"
    }
   },
   "id": "bb759d04598e0ac",
   "execution_count": 90
  },
  {
   "cell_type": "markdown",
   "source": [
    "Fitting params"
   ],
   "metadata": {
    "collapsed": false
   },
   "id": "1b3a2098277a98ca"
  },
  {
   "cell_type": "code",
   "outputs": [],
   "source": [
    "iter_number = 30\n",
    "min_delta = 1000000\n",
    "min_data = None\n",
    "batch_size = 16\n",
    "best = 5\n",
    "multy = 2"
   ],
   "metadata": {
    "collapsed": false,
    "ExecuteTime": {
     "end_time": "2024-06-20T19:16:04.821286Z",
     "start_time": "2024-06-20T19:16:04.816905Z"
    }
   },
   "id": "f0596c158d277bd9",
   "execution_count": 91
  },
  {
   "cell_type": "markdown",
   "source": [
    "others"
   ],
   "metadata": {
    "collapsed": false
   },
   "id": "872ff67ebe3f4487"
  },
  {
   "cell_type": "code",
   "outputs": [],
   "source": [
    "import multiprocessing\n",
    "\n",
    "NUM_THREADS = multiprocessing.cpu_count()\n",
    "b = get_b()\n",
    "res = {}"
   ],
   "metadata": {
    "collapsed": false,
    "ExecuteTime": {
     "end_time": "2024-06-20T19:16:04.828029Z",
     "start_time": "2024-06-20T19:16:04.822997Z"
    }
   },
   "id": "e56620e77099591a",
   "execution_count": 92
  },
  {
   "cell_type": "code",
   "outputs": [
    {
     "data": {
      "text/plain": "8"
     },
     "execution_count": 93,
     "metadata": {},
     "output_type": "execute_result"
    }
   ],
   "source": [
    "NUM_THREADS"
   ],
   "metadata": {
    "collapsed": false,
    "ExecuteTime": {
     "end_time": "2024-06-20T19:16:04.835415Z",
     "start_time": "2024-06-20T19:16:04.830062Z"
    }
   },
   "id": "f37b5be17bb43de8",
   "execution_count": 93
  },
  {
   "cell_type": "code",
   "outputs": [],
   "source": [
    "# C = np.zeros((N+1,N+1))\n",
    "# C[0,6] = 0.81773414\n",
    "# C[1,5] = 0.6510148\n",
    "# C[2,4] = 0.24049913\n",
    "# C[3,3] = 0.18639066\n",
    "# C[4,2] = 0.09990727\n",
    "# C[5,1] = 0.50415137\n",
    "# C[6,0] = 0.50301096\n",
    "# print(solver(C, 100,0.1)[0])"
   ],
   "metadata": {
    "collapsed": false,
    "ExecuteTime": {
     "end_time": "2024-06-20T19:16:04.841035Z",
     "start_time": "2024-06-20T19:16:04.837414Z"
    }
   },
   "id": "858b3f05f5b0684c",
   "execution_count": 94
  },
  {
   "cell_type": "code",
   "outputs": [
    {
     "data": {
      "text/plain": "  0%|          | 0/30 [00:00<?, ?it/s]",
      "application/vnd.jupyter.widget-view+json": {
       "version_major": 2,
       "version_minor": 0,
       "model_id": "9281c6b57b1c4e6db0057ba6222074cf"
      }
     },
     "metadata": {},
     "output_type": "display_data"
    },
    {
     "data": {
      "text/plain": "  0%|          | 0/1000 [00:00<?, ?it/s]",
      "application/vnd.jupyter.widget-view+json": {
       "version_major": 2,
       "version_minor": 0,
       "model_id": "634acac1764b4909bc9f04aaefdf1702"
      }
     },
     "metadata": {},
     "output_type": "display_data"
    },
    {
     "data": {
      "text/plain": "  0%|          | 0/1001 [00:00<?, ?it/s]",
      "application/vnd.jupyter.widget-view+json": {
       "version_major": 2,
       "version_minor": 0,
       "model_id": "4ab6817e178742fb8274d8242f37aaa4"
      }
     },
     "metadata": {},
     "output_type": "display_data"
    },
    {
     "name": "stdout",
     "output_type": "stream",
     "text": [
      "delta: 0.03818791426976647\n",
      "a: 0.1\n",
      "state: [0.09092333 0.22465367 0.13436913 0.0070337  0.10053422 0.22894645\n",
      " 0.21353951]\n"
     ]
    },
    {
     "data": {
      "text/plain": "  0%|          | 0/1000 [00:00<?, ?it/s]",
      "application/vnd.jupyter.widget-view+json": {
       "version_major": 2,
       "version_minor": 0,
       "model_id": "c4d837189cee408399c01bf18ada5e88"
      }
     },
     "metadata": {},
     "output_type": "display_data"
    },
    {
     "data": {
      "text/plain": "  0%|          | 0/1001 [00:00<?, ?it/s]",
      "application/vnd.jupyter.widget-view+json": {
       "version_major": 2,
       "version_minor": 0,
       "model_id": "f6bf18e04d0c4195b4728d145b179548"
      }
     },
     "metadata": {},
     "output_type": "display_data"
    },
    {
     "name": "stdout",
     "output_type": "stream",
     "text": [
      "delta: 0.03869334552536348\n",
      "a: 0.1\n",
      "state: [0.08587    0.2219456  0.13279712 0.00514239 0.09895838 0.23073904\n",
      " 0.22376379]\n"
     ]
    },
    {
     "data": {
      "text/plain": "  0%|          | 0/1000 [00:00<?, ?it/s]",
      "application/vnd.jupyter.widget-view+json": {
       "version_major": 2,
       "version_minor": 0,
       "model_id": "64f0809a07e7423a843721a92294a175"
      }
     },
     "metadata": {},
     "output_type": "display_data"
    },
    {
     "data": {
      "text/plain": "  0%|          | 0/1001 [00:00<?, ?it/s]",
      "application/vnd.jupyter.widget-view+json": {
       "version_major": 2,
       "version_minor": 0,
       "model_id": "1df79345ad124486a99e93cca7f3c1f5"
      }
     },
     "metadata": {},
     "output_type": "display_data"
    },
    {
     "name": "stdout",
     "output_type": "stream",
     "text": [
      "delta: 0.03930192635479881\n",
      "a: 0.1\n",
      "state: [0.08002081 0.21878711 0.13097625 0.00294657 0.09713288 0.23287469\n",
      " 0.23536838]\n"
     ]
    },
    {
     "data": {
      "text/plain": "  0%|          | 0/1000 [00:00<?, ?it/s]",
      "application/vnd.jupyter.widget-view+json": {
       "version_major": 2,
       "version_minor": 0,
       "model_id": "f1dce8dcbfc749bcb176d107dc8bd6b7"
      }
     },
     "metadata": {},
     "output_type": "display_data"
    },
    {
     "data": {
      "text/plain": "  0%|          | 0/1001 [00:00<?, ?it/s]",
      "application/vnd.jupyter.widget-view+json": {
       "version_major": 2,
       "version_minor": 0,
       "model_id": "052aa69eff8246969178f5288e4ba9b1"
      }
     },
     "metadata": {},
     "output_type": "display_data"
    },
    {
     "name": "stdout",
     "output_type": "stream",
     "text": [
      "delta: 0.040053550289688065\n",
      "a: 0.1\n",
      "state: [0.0730965  0.21501578 0.1288188  0.00033772 0.09496967 0.23548311\n",
      " 0.24880451]\n"
     ]
    },
    {
     "data": {
      "text/plain": "  0%|          | 0/1000 [00:00<?, ?it/s]",
      "application/vnd.jupyter.widget-view+json": {
       "version_major": 2,
       "version_minor": 0,
       "model_id": "77b6ea91a02d4999a3fc01315075f800"
      }
     },
     "metadata": {},
     "output_type": "display_data"
    },
    {
     "data": {
      "text/plain": "  0%|          | 0/1001 [00:00<?, ?it/s]",
      "application/vnd.jupyter.widget-view+json": {
       "version_major": 2,
       "version_minor": 0,
       "model_id": "9a24ac9ef28049e88d49e7ee490f0af4"
      }
     },
     "metadata": {},
     "output_type": "display_data"
    },
    {
     "name": "stdout",
     "output_type": "stream",
     "text": [
      "delta: 0.04094996417800202\n",
      "a: 0.1\n",
      "state: [0.06465329 0.21037195 0.12618525 0.         0.0923287  0.2387735\n",
      " 0.26477538]\n"
     ]
    },
    {
     "data": {
      "text/plain": "  0%|          | 0/1000 [00:00<?, ?it/s]",
      "application/vnd.jupyter.widget-view+json": {
       "version_major": 2,
       "version_minor": 0,
       "model_id": "332c948b22e84e27a7136143f6cddef0"
      }
     },
     "metadata": {},
     "output_type": "display_data"
    },
    {
     "data": {
      "text/plain": "  0%|          | 0/1001 [00:00<?, ?it/s]",
      "application/vnd.jupyter.widget-view+json": {
       "version_major": 2,
       "version_minor": 0,
       "model_id": "b9ee36736c37419fae93439771e4eb41"
      }
     },
     "metadata": {},
     "output_type": "display_data"
    },
    {
     "name": "stdout",
     "output_type": "stream",
     "text": [
      "delta: 0.0421207053289479\n",
      "a: 0.1\n",
      "state: [0.05412294 0.20451327 0.12289742 0.         0.08903103 0.24304382\n",
      " 0.28415978]\n"
     ]
    },
    {
     "data": {
      "text/plain": "  0%|          | 0/1000 [00:00<?, ?it/s]",
      "application/vnd.jupyter.widget-view+json": {
       "version_major": 2,
       "version_minor": 0,
       "model_id": "9f0b4c0aebdc48b0933b05b7e19f6dc0"
      }
     },
     "metadata": {},
     "output_type": "display_data"
    },
    {
     "data": {
      "text/plain": "  0%|          | 0/1001 [00:00<?, ?it/s]",
      "application/vnd.jupyter.widget-view+json": {
       "version_major": 2,
       "version_minor": 0,
       "model_id": "e4e91f00b3e447f3971c73d895bb79b0"
      }
     },
     "metadata": {},
     "output_type": "display_data"
    },
    {
     "name": "stdout",
     "output_type": "stream",
     "text": [
      "delta: 0.04374409326148396\n",
      "a: 0.1\n",
      "state: [0.04038547 0.19676917 0.11860419 0.         0.08472401 0.24886295\n",
      " 0.30865355]\n"
     ]
    },
    {
     "data": {
      "text/plain": "  0%|          | 0/1000 [00:00<?, ?it/s]",
      "application/vnd.jupyter.widget-view+json": {
       "version_major": 2,
       "version_minor": 0,
       "model_id": "b09c007b0a734197bd60d5b1e4f168ac"
      }
     },
     "metadata": {},
     "output_type": "display_data"
    },
    {
     "data": {
      "text/plain": "  0%|          | 0/1001 [00:00<?, ?it/s]",
      "application/vnd.jupyter.widget-view+json": {
       "version_major": 2,
       "version_minor": 0,
       "model_id": "027be3c7adc844119694543f4b076d5c"
      }
     },
     "metadata": {},
     "output_type": "display_data"
    },
    {
     "name": "stdout",
     "output_type": "stream",
     "text": [
      "delta: 0.04618253493236059\n",
      "a: 0.1\n",
      "state: [0.02116984 0.18577308 0.11259506 0.         0.07869395 0.25739486\n",
      " 0.3416001 ]\n"
     ]
    },
    {
     "data": {
      "text/plain": "  0%|          | 0/1000 [00:00<?, ?it/s]",
      "application/vnd.jupyter.widget-view+json": {
       "version_major": 2,
       "version_minor": 0,
       "model_id": "a40e3d6ee7a9424f838b586ee19d340b"
      }
     },
     "metadata": {},
     "output_type": "display_data"
    },
    {
     "data": {
      "text/plain": "  0%|          | 0/1001 [00:00<?, ?it/s]",
      "application/vnd.jupyter.widget-view+json": {
       "version_major": 2,
       "version_minor": 0,
       "model_id": "60424a8030f444b49fb8e7ac69b33c2c"
      }
     },
     "metadata": {},
     "output_type": "display_data"
    },
    {
     "name": "stdout",
     "output_type": "stream",
     "text": [
      "delta: 0.0497091457160904\n",
      "a: 0.1\n",
      "state: [0.         0.16821035 0.10316442 0.         0.06922694 0.27147462\n",
      " 0.39078292]\n"
     ]
    },
    {
     "data": {
      "text/plain": "  0%|          | 0/1000 [00:00<?, ?it/s]",
      "application/vnd.jupyter.widget-view+json": {
       "version_major": 2,
       "version_minor": 0,
       "model_id": "e1e2351a086d49b9bbc4818fc24a10a3"
      }
     },
     "metadata": {},
     "output_type": "display_data"
    },
    {
     "data": {
      "text/plain": "  0%|          | 0/1001 [00:00<?, ?it/s]",
      "application/vnd.jupyter.widget-view+json": {
       "version_major": 2,
       "version_minor": 0,
       "model_id": "791a5a7229ce44099e58b0f8e700f5a8"
      }
     },
     "metadata": {},
     "output_type": "display_data"
    },
    {
     "name": "stdout",
     "output_type": "stream",
     "text": [
      "delta: 0.05371990416834453\n",
      "a: 0.1\n",
      "state: [0.         0.13550554 0.08595733 0.         0.05194581 0.29847001\n",
      " 0.47475732]\n"
     ]
    },
    {
     "data": {
      "text/plain": "  0%|          | 0/1000 [00:00<?, ?it/s]",
      "application/vnd.jupyter.widget-view+json": {
       "version_major": 2,
       "version_minor": 0,
       "model_id": "88e2fab9805d432d8b410b9cd46e9372"
      }
     },
     "metadata": {},
     "output_type": "display_data"
    },
    {
     "data": {
      "text/plain": "  0%|          | 0/1001 [00:00<?, ?it/s]",
      "application/vnd.jupyter.widget-view+json": {
       "version_major": 2,
       "version_minor": 0,
       "model_id": "f3398b7e0cbd48e4ade57aa61fd3e036"
      }
     },
     "metadata": {},
     "output_type": "display_data"
    },
    {
     "name": "stdout",
     "output_type": "stream",
     "text": [
      "delta: 0.06337031452755465\n",
      "a: 0.1\n",
      "state: [0.         0.06960914 0.05195526 0.         0.01779003 0.3544874\n",
      " 0.62829477]\n"
     ]
    },
    {
     "data": {
      "text/plain": "  0%|          | 0/1000 [00:00<?, ?it/s]",
      "application/vnd.jupyter.widget-view+json": {
       "version_major": 2,
       "version_minor": 0,
       "model_id": "168cb7c69dff471bafb41c2f82bc4c79"
      }
     },
     "metadata": {},
     "output_type": "display_data"
    },
    {
     "data": {
      "text/plain": "  0%|          | 0/1001 [00:00<?, ?it/s]",
      "application/vnd.jupyter.widget-view+json": {
       "version_major": 2,
       "version_minor": 0,
       "model_id": "6425845609204380a73f0c9f7cb195c7"
      }
     },
     "metadata": {},
     "output_type": "display_data"
    },
    {
     "name": "stdout",
     "output_type": "stream",
     "text": [
      "delta: 0.09859692414987327\n",
      "a: 0.1\n",
      "state: [0.         0.         0.         0.         0.         0.54674119\n",
      " 1.        ]\n"
     ]
    },
    {
     "data": {
      "text/plain": "  0%|          | 0/1000 [00:00<?, ?it/s]",
      "application/vnd.jupyter.widget-view+json": {
       "version_major": 2,
       "version_minor": 0,
       "model_id": "133eb9cd0454426c84509e96646cd2c2"
      }
     },
     "metadata": {},
     "output_type": "display_data"
    },
    {
     "data": {
      "text/plain": "  0%|          | 0/1001 [00:00<?, ?it/s]",
      "application/vnd.jupyter.widget-view+json": {
       "version_major": 2,
       "version_minor": 0,
       "model_id": "c58fd46198c1449089e84fb928f21731"
      }
     },
     "metadata": {},
     "output_type": "display_data"
    },
    {
     "name": "stdout",
     "output_type": "stream",
     "text": [
      "delta: 0.12152450352216707\n",
      "a: 0.1\n",
      "state: [0. 0. 0. 0. 0. 1. 1.]\n"
     ]
    },
    {
     "data": {
      "text/plain": "  0%|          | 0/1000 [00:00<?, ?it/s]",
      "application/vnd.jupyter.widget-view+json": {
       "version_major": 2,
       "version_minor": 0,
       "model_id": "a459083443f54d17873e9cafb8131a2b"
      }
     },
     "metadata": {},
     "output_type": "display_data"
    },
    {
     "data": {
      "text/plain": "  0%|          | 0/1001 [00:00<?, ?it/s]",
      "application/vnd.jupyter.widget-view+json": {
       "version_major": 2,
       "version_minor": 0,
       "model_id": "0aab32c75a9e4e899ee47f9f6134f365"
      }
     },
     "metadata": {},
     "output_type": "display_data"
    },
    {
     "name": "stdout",
     "output_type": "stream",
     "text": [
      "delta: 0.12152450352216707\n",
      "a: 0.1\n",
      "state: [0. 0. 0. 0. 0. 1. 1.]\n"
     ]
    },
    {
     "data": {
      "text/plain": "  0%|          | 0/1000 [00:00<?, ?it/s]",
      "application/vnd.jupyter.widget-view+json": {
       "version_major": 2,
       "version_minor": 0,
       "model_id": "32a738f95c294728937d35fec7095eda"
      }
     },
     "metadata": {},
     "output_type": "display_data"
    },
    {
     "data": {
      "text/plain": "  0%|          | 0/1001 [00:00<?, ?it/s]",
      "application/vnd.jupyter.widget-view+json": {
       "version_major": 2,
       "version_minor": 0,
       "model_id": "503f80253ba24ea183d0f3738234e466"
      }
     },
     "metadata": {},
     "output_type": "display_data"
    },
    {
     "name": "stdout",
     "output_type": "stream",
     "text": [
      "delta: 0.12152450352216707\n",
      "a: 0.1\n",
      "state: [0. 0. 0. 0. 0. 1. 1.]\n"
     ]
    },
    {
     "data": {
      "text/plain": "  0%|          | 0/1000 [00:00<?, ?it/s]",
      "application/vnd.jupyter.widget-view+json": {
       "version_major": 2,
       "version_minor": 0,
       "model_id": "aac9ee2d5f804e4d929502d071d899de"
      }
     },
     "metadata": {},
     "output_type": "display_data"
    },
    {
     "data": {
      "text/plain": "  0%|          | 0/1001 [00:00<?, ?it/s]",
      "application/vnd.jupyter.widget-view+json": {
       "version_major": 2,
       "version_minor": 0,
       "model_id": "5abf7d198f4c478194345132e3461510"
      }
     },
     "metadata": {},
     "output_type": "display_data"
    },
    {
     "name": "stdout",
     "output_type": "stream",
     "text": [
      "delta: 0.12152450352216707\n",
      "a: 0.1\n",
      "state: [0. 0. 0. 0. 0. 1. 1.]\n"
     ]
    },
    {
     "data": {
      "text/plain": "  0%|          | 0/1000 [00:00<?, ?it/s]",
      "application/vnd.jupyter.widget-view+json": {
       "version_major": 2,
       "version_minor": 0,
       "model_id": "581ac062cf2b47a58bff6cac8a4c4b35"
      }
     },
     "metadata": {},
     "output_type": "display_data"
    },
    {
     "data": {
      "text/plain": "  0%|          | 0/1001 [00:00<?, ?it/s]",
      "application/vnd.jupyter.widget-view+json": {
       "version_major": 2,
       "version_minor": 0,
       "model_id": "68f2c4fd7ccf4a7195cd23d7300d8ca6"
      }
     },
     "metadata": {},
     "output_type": "display_data"
    },
    {
     "name": "stdout",
     "output_type": "stream",
     "text": [
      "delta: 0.12152450352216707\n",
      "a: 0.1\n",
      "state: [0. 0. 0. 0. 0. 1. 1.]\n"
     ]
    },
    {
     "data": {
      "text/plain": "  0%|          | 0/1000 [00:00<?, ?it/s]",
      "application/vnd.jupyter.widget-view+json": {
       "version_major": 2,
       "version_minor": 0,
       "model_id": "2e77ae39e91648e48690338b8f073806"
      }
     },
     "metadata": {},
     "output_type": "display_data"
    },
    {
     "data": {
      "text/plain": "  0%|          | 0/1001 [00:00<?, ?it/s]",
      "application/vnd.jupyter.widget-view+json": {
       "version_major": 2,
       "version_minor": 0,
       "model_id": "817f0cecba7641f690e690126f59dc01"
      }
     },
     "metadata": {},
     "output_type": "display_data"
    },
    {
     "name": "stdout",
     "output_type": "stream",
     "text": [
      "delta: 0.12152450352216707\n",
      "a: 0.1\n",
      "state: [0. 0. 0. 0. 0. 1. 1.]\n"
     ]
    },
    {
     "data": {
      "text/plain": "  0%|          | 0/1000 [00:00<?, ?it/s]",
      "application/vnd.jupyter.widget-view+json": {
       "version_major": 2,
       "version_minor": 0,
       "model_id": "008030329ee740a3833b905cd508f3b9"
      }
     },
     "metadata": {},
     "output_type": "display_data"
    },
    {
     "data": {
      "text/plain": "  0%|          | 0/1001 [00:00<?, ?it/s]",
      "application/vnd.jupyter.widget-view+json": {
       "version_major": 2,
       "version_minor": 0,
       "model_id": "53db3a44d0184fccbc42fc1e5684b809"
      }
     },
     "metadata": {},
     "output_type": "display_data"
    },
    {
     "name": "stdout",
     "output_type": "stream",
     "text": [
      "delta: 0.12152450352216707\n",
      "a: 0.1\n",
      "state: [0. 0. 0. 0. 0. 1. 1.]\n"
     ]
    },
    {
     "data": {
      "text/plain": "  0%|          | 0/1000 [00:00<?, ?it/s]",
      "application/vnd.jupyter.widget-view+json": {
       "version_major": 2,
       "version_minor": 0,
       "model_id": "38e402137fe14ce19d2dbee50ea578db"
      }
     },
     "metadata": {},
     "output_type": "display_data"
    },
    {
     "data": {
      "text/plain": "  0%|          | 0/1001 [00:00<?, ?it/s]",
      "application/vnd.jupyter.widget-view+json": {
       "version_major": 2,
       "version_minor": 0,
       "model_id": "dbf8489da1944d768c839aeb6ff9edec"
      }
     },
     "metadata": {},
     "output_type": "display_data"
    },
    {
     "name": "stdout",
     "output_type": "stream",
     "text": [
      "delta: 0.12152450352216707\n",
      "a: 0.1\n",
      "state: [0. 0. 0. 0. 0. 1. 1.]\n"
     ]
    },
    {
     "data": {
      "text/plain": "  0%|          | 0/1000 [00:00<?, ?it/s]",
      "application/vnd.jupyter.widget-view+json": {
       "version_major": 2,
       "version_minor": 0,
       "model_id": "6eb50e90fffc4208a6ae7be7e798ba5f"
      }
     },
     "metadata": {},
     "output_type": "display_data"
    },
    {
     "data": {
      "text/plain": "  0%|          | 0/1001 [00:00<?, ?it/s]",
      "application/vnd.jupyter.widget-view+json": {
       "version_major": 2,
       "version_minor": 0,
       "model_id": "44a8070713a5490eb8c7594d95799b06"
      }
     },
     "metadata": {},
     "output_type": "display_data"
    },
    {
     "name": "stdout",
     "output_type": "stream",
     "text": [
      "delta: 0.12152450352216707\n",
      "a: 0.1\n",
      "state: [0. 0. 0. 0. 0. 1. 1.]\n"
     ]
    },
    {
     "data": {
      "text/plain": "  0%|          | 0/1000 [00:00<?, ?it/s]",
      "application/vnd.jupyter.widget-view+json": {
       "version_major": 2,
       "version_minor": 0,
       "model_id": "797d1f3b3be749b882ffecd30c6c5c89"
      }
     },
     "metadata": {},
     "output_type": "display_data"
    },
    {
     "data": {
      "text/plain": "  0%|          | 0/1001 [00:00<?, ?it/s]",
      "application/vnd.jupyter.widget-view+json": {
       "version_major": 2,
       "version_minor": 0,
       "model_id": "afcf145e50a248b2a2725514b1e09a91"
      }
     },
     "metadata": {},
     "output_type": "display_data"
    },
    {
     "name": "stdout",
     "output_type": "stream",
     "text": [
      "delta: 0.12152450352216707\n",
      "a: 0.1\n",
      "state: [0. 0. 0. 0. 0. 1. 1.]\n"
     ]
    },
    {
     "data": {
      "text/plain": "  0%|          | 0/1000 [00:00<?, ?it/s]",
      "application/vnd.jupyter.widget-view+json": {
       "version_major": 2,
       "version_minor": 0,
       "model_id": "fbe293de4fb54f4fb9544f77482619d1"
      }
     },
     "metadata": {},
     "output_type": "display_data"
    },
    {
     "data": {
      "text/plain": "  0%|          | 0/1001 [00:00<?, ?it/s]",
      "application/vnd.jupyter.widget-view+json": {
       "version_major": 2,
       "version_minor": 0,
       "model_id": "01cc45e1810c4ab38199d5d6bd4022c1"
      }
     },
     "metadata": {},
     "output_type": "display_data"
    },
    {
     "name": "stdout",
     "output_type": "stream",
     "text": [
      "delta: 0.12152450352216707\n",
      "a: 0.1\n",
      "state: [0. 0. 0. 0. 0. 1. 1.]\n"
     ]
    },
    {
     "data": {
      "text/plain": "  0%|          | 0/1000 [00:00<?, ?it/s]",
      "application/vnd.jupyter.widget-view+json": {
       "version_major": 2,
       "version_minor": 0,
       "model_id": "bd2613a36dba4debbef117f2c94d1e07"
      }
     },
     "metadata": {},
     "output_type": "display_data"
    },
    {
     "data": {
      "text/plain": "  0%|          | 0/1001 [00:00<?, ?it/s]",
      "application/vnd.jupyter.widget-view+json": {
       "version_major": 2,
       "version_minor": 0,
       "model_id": "2c2973b4685a46eb9e1bd4c53a81a8e6"
      }
     },
     "metadata": {},
     "output_type": "display_data"
    },
    {
     "name": "stdout",
     "output_type": "stream",
     "text": [
      "delta: 0.12152450352216707\n",
      "a: 0.1\n",
      "state: [0. 0. 0. 0. 0. 1. 1.]\n"
     ]
    },
    {
     "data": {
      "text/plain": "  0%|          | 0/1000 [00:00<?, ?it/s]",
      "application/vnd.jupyter.widget-view+json": {
       "version_major": 2,
       "version_minor": 0,
       "model_id": "572d7f67fde94ae0b33f9a50f5999014"
      }
     },
     "metadata": {},
     "output_type": "display_data"
    },
    {
     "data": {
      "text/plain": "  0%|          | 0/1001 [00:00<?, ?it/s]",
      "application/vnd.jupyter.widget-view+json": {
       "version_major": 2,
       "version_minor": 0,
       "model_id": "d7721d83f054457d9156ec9d8a41c6cf"
      }
     },
     "metadata": {},
     "output_type": "display_data"
    },
    {
     "name": "stdout",
     "output_type": "stream",
     "text": [
      "delta: 0.12152450352216707\n",
      "a: 0.1\n",
      "state: [0. 0. 0. 0. 0. 1. 1.]\n"
     ]
    },
    {
     "data": {
      "text/plain": "  0%|          | 0/1000 [00:00<?, ?it/s]",
      "application/vnd.jupyter.widget-view+json": {
       "version_major": 2,
       "version_minor": 0,
       "model_id": "e810de0a35b2407d83b7502cf692c9bc"
      }
     },
     "metadata": {},
     "output_type": "display_data"
    },
    {
     "data": {
      "text/plain": "  0%|          | 0/1001 [00:00<?, ?it/s]",
      "application/vnd.jupyter.widget-view+json": {
       "version_major": 2,
       "version_minor": 0,
       "model_id": "ad8bf0d23a6a451cba92e3eba1a159e9"
      }
     },
     "metadata": {},
     "output_type": "display_data"
    },
    {
     "name": "stdout",
     "output_type": "stream",
     "text": [
      "delta: 0.12152450352216707\n",
      "a: 0.1\n",
      "state: [0. 0. 0. 0. 0. 1. 1.]\n"
     ]
    },
    {
     "data": {
      "text/plain": "  0%|          | 0/1000 [00:00<?, ?it/s]",
      "application/vnd.jupyter.widget-view+json": {
       "version_major": 2,
       "version_minor": 0,
       "model_id": "b450c56df45940ddbd50bc7e35cea1ec"
      }
     },
     "metadata": {},
     "output_type": "display_data"
    },
    {
     "data": {
      "text/plain": "  0%|          | 0/1001 [00:00<?, ?it/s]",
      "application/vnd.jupyter.widget-view+json": {
       "version_major": 2,
       "version_minor": 0,
       "model_id": "763499818636472cbd15aa97b67ae5c9"
      }
     },
     "metadata": {},
     "output_type": "display_data"
    },
    {
     "name": "stdout",
     "output_type": "stream",
     "text": [
      "delta: 0.12152450352216707\n",
      "a: 0.1\n",
      "state: [0. 0. 0. 0. 0. 1. 1.]\n"
     ]
    },
    {
     "data": {
      "text/plain": "  0%|          | 0/1000 [00:00<?, ?it/s]",
      "application/vnd.jupyter.widget-view+json": {
       "version_major": 2,
       "version_minor": 0,
       "model_id": "016ac3c7f8724d98935cd7030eb94a5e"
      }
     },
     "metadata": {},
     "output_type": "display_data"
    },
    {
     "data": {
      "text/plain": "  0%|          | 0/1001 [00:00<?, ?it/s]",
      "application/vnd.jupyter.widget-view+json": {
       "version_major": 2,
       "version_minor": 0,
       "model_id": "8b439c2f1e30480f9dfb67d95b9ca4e2"
      }
     },
     "metadata": {},
     "output_type": "display_data"
    },
    {
     "name": "stdout",
     "output_type": "stream",
     "text": [
      "delta: 0.12152450352216707\n",
      "a: 0.1\n",
      "state: [0. 0. 0. 0. 0. 1. 1.]\n"
     ]
    },
    {
     "data": {
      "text/plain": "  0%|          | 0/1000 [00:00<?, ?it/s]",
      "application/vnd.jupyter.widget-view+json": {
       "version_major": 2,
       "version_minor": 0,
       "model_id": "fb1d86869385482d8aec8101357697eb"
      }
     },
     "metadata": {},
     "output_type": "display_data"
    },
    {
     "data": {
      "text/plain": "  0%|          | 0/1001 [00:00<?, ?it/s]",
      "application/vnd.jupyter.widget-view+json": {
       "version_major": 2,
       "version_minor": 0,
       "model_id": "b19b18c13dfa40f5b87c22dfc819ef52"
      }
     },
     "metadata": {},
     "output_type": "display_data"
    },
    {
     "name": "stdout",
     "output_type": "stream",
     "text": [
      "delta: 0.12152450352216707\n",
      "a: 0.1\n",
      "state: [0. 0. 0. 0. 0. 1. 1.]\n"
     ]
    },
    {
     "data": {
      "text/plain": "  0%|          | 0/1000 [00:00<?, ?it/s]",
      "application/vnd.jupyter.widget-view+json": {
       "version_major": 2,
       "version_minor": 0,
       "model_id": "77a7969599b541dfad529d574b86dab5"
      }
     },
     "metadata": {},
     "output_type": "display_data"
    },
    {
     "data": {
      "text/plain": "  0%|          | 0/1001 [00:00<?, ?it/s]",
      "application/vnd.jupyter.widget-view+json": {
       "version_major": 2,
       "version_minor": 0,
       "model_id": "339462639c36467d8effde0d501e9368"
      }
     },
     "metadata": {},
     "output_type": "display_data"
    },
    {
     "name": "stdout",
     "output_type": "stream",
     "text": [
      "delta: 0.12152450352216707\n",
      "a: 0.1\n",
      "state: [0. 0. 0. 0. 0. 1. 1.]\n"
     ]
    },
    {
     "data": {
      "text/plain": "  0%|          | 0/1000 [00:00<?, ?it/s]",
      "application/vnd.jupyter.widget-view+json": {
       "version_major": 2,
       "version_minor": 0,
       "model_id": "c86225a3f7544d2c95076c74b8387684"
      }
     },
     "metadata": {},
     "output_type": "display_data"
    },
    {
     "data": {
      "text/plain": "  0%|          | 0/1001 [00:00<?, ?it/s]",
      "application/vnd.jupyter.widget-view+json": {
       "version_major": 2,
       "version_minor": 0,
       "model_id": "561871d7116749b29ead6082f1c81b1e"
      }
     },
     "metadata": {},
     "output_type": "display_data"
    },
    {
     "name": "stdout",
     "output_type": "stream",
     "text": [
      "delta: 0.12152450352216707\n",
      "a: 0.1\n",
      "state: [0. 0. 0. 0. 0. 1. 1.]\n"
     ]
    },
    {
     "data": {
      "text/plain": "  0%|          | 0/1000 [00:00<?, ?it/s]",
      "application/vnd.jupyter.widget-view+json": {
       "version_major": 2,
       "version_minor": 0,
       "model_id": "b13e31c407c047848dd8a587122ac163"
      }
     },
     "metadata": {},
     "output_type": "display_data"
    },
    {
     "data": {
      "text/plain": "  0%|          | 0/1001 [00:00<?, ?it/s]",
      "application/vnd.jupyter.widget-view+json": {
       "version_major": 2,
       "version_minor": 0,
       "model_id": "5ba0b7c6369f494d9caa19560b56866f"
      }
     },
     "metadata": {},
     "output_type": "display_data"
    },
    {
     "name": "stdout",
     "output_type": "stream",
     "text": [
      "delta: 0.12152450352216707\n",
      "a: 0.1\n",
      "state: [0. 0. 0. 0. 0. 1. 1.]\n"
     ]
    },
    {
     "data": {
      "text/plain": "  0%|          | 0/1000 [00:00<?, ?it/s]",
      "application/vnd.jupyter.widget-view+json": {
       "version_major": 2,
       "version_minor": 0,
       "model_id": "e106d2530cef476fbcf144d8efd7d66e"
      }
     },
     "metadata": {},
     "output_type": "display_data"
    },
    {
     "data": {
      "text/plain": "  0%|          | 0/1001 [00:00<?, ?it/s]",
      "application/vnd.jupyter.widget-view+json": {
       "version_major": 2,
       "version_minor": 0,
       "model_id": "481cb033df9e40cea56b30762f4bbd8e"
      }
     },
     "metadata": {},
     "output_type": "display_data"
    },
    {
     "name": "stdout",
     "output_type": "stream",
     "text": [
      "delta: 0.12152450352216707\n",
      "a: 0.1\n",
      "state: [0. 0. 0. 0. 0. 1. 1.]\n"
     ]
    },
    {
     "data": {
      "text/plain": "  0%|          | 0/1000 [00:00<?, ?it/s]",
      "application/vnd.jupyter.widget-view+json": {
       "version_major": 2,
       "version_minor": 0,
       "model_id": "49173b97f47841babb73e84689c684c4"
      }
     },
     "metadata": {},
     "output_type": "display_data"
    },
    {
     "data": {
      "text/plain": "  0%|          | 0/1001 [00:00<?, ?it/s]",
      "application/vnd.jupyter.widget-view+json": {
       "version_major": 2,
       "version_minor": 0,
       "model_id": "e1d597e2ae3e4b929c333d558f64de89"
      }
     },
     "metadata": {},
     "output_type": "display_data"
    },
    {
     "name": "stdout",
     "output_type": "stream",
     "text": [
      "delta: 0.12152450352216707\n",
      "a: 0.1\n",
      "state: [0. 0. 0. 0. 0. 1. 1.]\n"
     ]
    },
    {
     "data": {
      "text/plain": "  0%|          | 0/1000 [00:00<?, ?it/s]",
      "application/vnd.jupyter.widget-view+json": {
       "version_major": 2,
       "version_minor": 0,
       "model_id": "8a228bd8496d445ebc6067eef35b0f93"
      }
     },
     "metadata": {},
     "output_type": "display_data"
    },
    {
     "data": {
      "text/plain": "  0%|          | 0/1001 [00:00<?, ?it/s]",
      "application/vnd.jupyter.widget-view+json": {
       "version_major": 2,
       "version_minor": 0,
       "model_id": "fb3e064e1cd142cd9d0a25919f3f53cd"
      }
     },
     "metadata": {},
     "output_type": "display_data"
    },
    {
     "name": "stdout",
     "output_type": "stream",
     "text": [
      "delta: 0.12152450352216707\n",
      "a: 0.1\n",
      "state: [0. 0. 0. 0. 0. 1. 1.]\n"
     ]
    },
    {
     "data": {
      "text/plain": "  0%|          | 0/1000 [00:00<?, ?it/s]",
      "application/vnd.jupyter.widget-view+json": {
       "version_major": 2,
       "version_minor": 0,
       "model_id": "d68371750aeb4644857cab3adde44dfa"
      }
     },
     "metadata": {},
     "output_type": "display_data"
    },
    {
     "data": {
      "text/plain": "  0%|          | 0/1001 [00:00<?, ?it/s]",
      "application/vnd.jupyter.widget-view+json": {
       "version_major": 2,
       "version_minor": 0,
       "model_id": "38d7adc003f0489f8104b7b21134e083"
      }
     },
     "metadata": {},
     "output_type": "display_data"
    },
    {
     "name": "stdout",
     "output_type": "stream",
     "text": [
      "delta: 0.12152450352216707\n",
      "a: 0.1\n",
      "state: [0. 0. 0. 0. 0. 1. 1.]\n"
     ]
    },
    {
     "data": {
      "text/plain": "  0%|          | 0/1000 [00:00<?, ?it/s]",
      "application/vnd.jupyter.widget-view+json": {
       "version_major": 2,
       "version_minor": 0,
       "model_id": "d194b4eb52fc4a00b4878ac60b1415c3"
      }
     },
     "metadata": {},
     "output_type": "display_data"
    },
    {
     "data": {
      "text/plain": "  0%|          | 0/1001 [00:00<?, ?it/s]",
      "application/vnd.jupyter.widget-view+json": {
       "version_major": 2,
       "version_minor": 0,
       "model_id": "418c544ed62847b6bda29e322d9c5622"
      }
     },
     "metadata": {},
     "output_type": "display_data"
    },
    {
     "name": "stdout",
     "output_type": "stream",
     "text": [
      "delta: 0.12152450352216707\n",
      "a: 0.1\n",
      "state: [0. 0. 0. 0. 0. 1. 1.]\n"
     ]
    },
    {
     "data": {
      "text/plain": "  0%|          | 0/1000 [00:00<?, ?it/s]",
      "application/vnd.jupyter.widget-view+json": {
       "version_major": 2,
       "version_minor": 0,
       "model_id": "cc98636554f24565a9ee140fb2017097"
      }
     },
     "metadata": {},
     "output_type": "display_data"
    },
    {
     "data": {
      "text/plain": "  0%|          | 0/1001 [00:00<?, ?it/s]",
      "application/vnd.jupyter.widget-view+json": {
       "version_major": 2,
       "version_minor": 0,
       "model_id": "45a1ed2ed7f2432ab70caef02c854daf"
      }
     },
     "metadata": {},
     "output_type": "display_data"
    },
    {
     "name": "stdout",
     "output_type": "stream",
     "text": [
      "delta: 0.12152450352216707\n",
      "a: 0.1\n",
      "state: [0. 0. 0. 0. 0. 1. 1.]\n"
     ]
    },
    {
     "data": {
      "text/plain": "  0%|          | 0/1000 [00:00<?, ?it/s]",
      "application/vnd.jupyter.widget-view+json": {
       "version_major": 2,
       "version_minor": 0,
       "model_id": "fb0b25d4db104878a8ec0535b56577cb"
      }
     },
     "metadata": {},
     "output_type": "display_data"
    },
    {
     "data": {
      "text/plain": "  0%|          | 0/1001 [00:00<?, ?it/s]",
      "application/vnd.jupyter.widget-view+json": {
       "version_major": 2,
       "version_minor": 0,
       "model_id": "226756490a2742deb91b3c52c2ad4733"
      }
     },
     "metadata": {},
     "output_type": "display_data"
    },
    {
     "name": "stdout",
     "output_type": "stream",
     "text": [
      "delta: 0.12152450352216707\n",
      "a: 0.1\n",
      "state: [0. 0. 0. 0. 0. 1. 1.]\n"
     ]
    },
    {
     "data": {
      "text/plain": "  0%|          | 0/1000 [00:00<?, ?it/s]",
      "application/vnd.jupyter.widget-view+json": {
       "version_major": 2,
       "version_minor": 0,
       "model_id": "217ec31f78264552bff2ee73f8fb5919"
      }
     },
     "metadata": {},
     "output_type": "display_data"
    },
    {
     "data": {
      "text/plain": "  0%|          | 0/1001 [00:00<?, ?it/s]",
      "application/vnd.jupyter.widget-view+json": {
       "version_major": 2,
       "version_minor": 0,
       "model_id": "305b0953311e46059666e46213c46cb1"
      }
     },
     "metadata": {},
     "output_type": "display_data"
    },
    {
     "name": "stdout",
     "output_type": "stream",
     "text": [
      "delta: 0.12152450352216707\n",
      "a: 0.1\n",
      "state: [0. 0. 0. 0. 0. 1. 1.]\n"
     ]
    },
    {
     "data": {
      "text/plain": "  0%|          | 0/1000 [00:00<?, ?it/s]",
      "application/vnd.jupyter.widget-view+json": {
       "version_major": 2,
       "version_minor": 0,
       "model_id": "860b4ab0e720410cae920c7da6ce7044"
      }
     },
     "metadata": {},
     "output_type": "display_data"
    },
    {
     "data": {
      "text/plain": "  0%|          | 0/1001 [00:00<?, ?it/s]",
      "application/vnd.jupyter.widget-view+json": {
       "version_major": 2,
       "version_minor": 0,
       "model_id": "24786efdfeeb4652a7790df86d454574"
      }
     },
     "metadata": {},
     "output_type": "display_data"
    },
    {
     "name": "stdout",
     "output_type": "stream",
     "text": [
      "delta: 0.12152450352216707\n",
      "a: 0.1\n",
      "state: [0. 0. 0. 0. 0. 1. 1.]\n"
     ]
    },
    {
     "data": {
      "text/plain": "  0%|          | 0/1000 [00:00<?, ?it/s]",
      "application/vnd.jupyter.widget-view+json": {
       "version_major": 2,
       "version_minor": 0,
       "model_id": "3c215bfbc98b4331a31a09cf2ab7efd2"
      }
     },
     "metadata": {},
     "output_type": "display_data"
    },
    {
     "data": {
      "text/plain": "  0%|          | 0/1001 [00:00<?, ?it/s]",
      "application/vnd.jupyter.widget-view+json": {
       "version_major": 2,
       "version_minor": 0,
       "model_id": "fa8c9c34c8274acaaa7283df3b6e8167"
      }
     },
     "metadata": {},
     "output_type": "display_data"
    },
    {
     "name": "stdout",
     "output_type": "stream",
     "text": [
      "delta: 0.12152450352216707\n",
      "a: 0.1\n",
      "state: [0. 0. 0. 0. 0. 1. 1.]\n"
     ]
    },
    {
     "data": {
      "text/plain": "  0%|          | 0/1000 [00:00<?, ?it/s]",
      "application/vnd.jupyter.widget-view+json": {
       "version_major": 2,
       "version_minor": 0,
       "model_id": "8cfb52656a9a496db160a13b36b74f1e"
      }
     },
     "metadata": {},
     "output_type": "display_data"
    },
    {
     "data": {
      "text/plain": "  0%|          | 0/1001 [00:00<?, ?it/s]",
      "application/vnd.jupyter.widget-view+json": {
       "version_major": 2,
       "version_minor": 0,
       "model_id": "7e8599df2ba44805b473b055cc653e58"
      }
     },
     "metadata": {},
     "output_type": "display_data"
    },
    {
     "name": "stdout",
     "output_type": "stream",
     "text": [
      "delta: 0.12152450352216707\n",
      "a: 0.1\n",
      "state: [0. 0. 0. 0. 0. 1. 1.]\n"
     ]
    },
    {
     "data": {
      "text/plain": "  0%|          | 0/1000 [00:00<?, ?it/s]",
      "application/vnd.jupyter.widget-view+json": {
       "version_major": 2,
       "version_minor": 0,
       "model_id": "d2334cfb230e49fe9f3678c97627a8de"
      }
     },
     "metadata": {},
     "output_type": "display_data"
    },
    {
     "data": {
      "text/plain": "  0%|          | 0/1001 [00:00<?, ?it/s]",
      "application/vnd.jupyter.widget-view+json": {
       "version_major": 2,
       "version_minor": 0,
       "model_id": "f91ef3e1bad543f1a1a326b529c77299"
      }
     },
     "metadata": {},
     "output_type": "display_data"
    },
    {
     "name": "stdout",
     "output_type": "stream",
     "text": [
      "delta: 0.12152450352216707\n",
      "a: 0.1\n",
      "state: [0. 0. 0. 0. 0. 1. 1.]\n"
     ]
    },
    {
     "data": {
      "text/plain": "  0%|          | 0/1000 [00:00<?, ?it/s]",
      "application/vnd.jupyter.widget-view+json": {
       "version_major": 2,
       "version_minor": 0,
       "model_id": "dc830244421243b4a844bd952172e74f"
      }
     },
     "metadata": {},
     "output_type": "display_data"
    },
    {
     "data": {
      "text/plain": "  0%|          | 0/1001 [00:00<?, ?it/s]",
      "application/vnd.jupyter.widget-view+json": {
       "version_major": 2,
       "version_minor": 0,
       "model_id": "c09320e122fd471bad0693a725992410"
      }
     },
     "metadata": {},
     "output_type": "display_data"
    },
    {
     "name": "stdout",
     "output_type": "stream",
     "text": [
      "delta: 0.12152450352216707\n",
      "a: 0.1\n",
      "state: [0. 0. 0. 0. 0. 1. 1.]\n"
     ]
    },
    {
     "data": {
      "text/plain": "  0%|          | 0/1000 [00:00<?, ?it/s]",
      "application/vnd.jupyter.widget-view+json": {
       "version_major": 2,
       "version_minor": 0,
       "model_id": "bdc4948bcb96405eadf9ea9dd21053ae"
      }
     },
     "metadata": {},
     "output_type": "display_data"
    },
    {
     "data": {
      "text/plain": "  0%|          | 0/1001 [00:00<?, ?it/s]",
      "application/vnd.jupyter.widget-view+json": {
       "version_major": 2,
       "version_minor": 0,
       "model_id": "5c58bb4eb3554638a0fef59adac99c6d"
      }
     },
     "metadata": {},
     "output_type": "display_data"
    },
    {
     "name": "stdout",
     "output_type": "stream",
     "text": [
      "delta: 0.12152450352216707\n",
      "a: 0.1\n",
      "state: [0. 0. 0. 0. 0. 1. 1.]\n"
     ]
    },
    {
     "data": {
      "text/plain": "  0%|          | 0/1000 [00:00<?, ?it/s]",
      "application/vnd.jupyter.widget-view+json": {
       "version_major": 2,
       "version_minor": 0,
       "model_id": "e55278bc2e7b46119d888ebca8729fc3"
      }
     },
     "metadata": {},
     "output_type": "display_data"
    },
    {
     "data": {
      "text/plain": "  0%|          | 0/1001 [00:00<?, ?it/s]",
      "application/vnd.jupyter.widget-view+json": {
       "version_major": 2,
       "version_minor": 0,
       "model_id": "7a7d4ae3b78d4807b50e59b535168fa4"
      }
     },
     "metadata": {},
     "output_type": "display_data"
    },
    {
     "name": "stdout",
     "output_type": "stream",
     "text": [
      "delta: 0.12152450352216707\n",
      "a: 0.1\n",
      "state: [0. 0. 0. 0. 0. 1. 1.]\n"
     ]
    },
    {
     "data": {
      "text/plain": "  0%|          | 0/1000 [00:00<?, ?it/s]",
      "application/vnd.jupyter.widget-view+json": {
       "version_major": 2,
       "version_minor": 0,
       "model_id": "4fc89825a4054e29ae2fdcdb945c200b"
      }
     },
     "metadata": {},
     "output_type": "display_data"
    },
    {
     "data": {
      "text/plain": "  0%|          | 0/1001 [00:00<?, ?it/s]",
      "application/vnd.jupyter.widget-view+json": {
       "version_major": 2,
       "version_minor": 0,
       "model_id": "ae822e3c26954840b4918819e04e7a2a"
      }
     },
     "metadata": {},
     "output_type": "display_data"
    },
    {
     "name": "stdout",
     "output_type": "stream",
     "text": [
      "delta: 0.12152450352216707\n",
      "a: 0.1\n",
      "state: [0. 0. 0. 0. 0. 1. 1.]\n"
     ]
    },
    {
     "data": {
      "text/plain": "  0%|          | 0/1000 [00:00<?, ?it/s]",
      "application/vnd.jupyter.widget-view+json": {
       "version_major": 2,
       "version_minor": 0,
       "model_id": "f13a0dc45823473bafa45ca484727385"
      }
     },
     "metadata": {},
     "output_type": "display_data"
    },
    {
     "data": {
      "text/plain": "  0%|          | 0/1001 [00:00<?, ?it/s]",
      "application/vnd.jupyter.widget-view+json": {
       "version_major": 2,
       "version_minor": 0,
       "model_id": "5c3683e0e4b84e89b4795897e1f7c400"
      }
     },
     "metadata": {},
     "output_type": "display_data"
    },
    {
     "name": "stdout",
     "output_type": "stream",
     "text": [
      "delta: 0.12152450352216707\n",
      "a: 0.1\n",
      "state: [0. 0. 0. 0. 0. 1. 1.]\n"
     ]
    },
    {
     "data": {
      "text/plain": "  0%|          | 0/1000 [00:00<?, ?it/s]",
      "application/vnd.jupyter.widget-view+json": {
       "version_major": 2,
       "version_minor": 0,
       "model_id": "73b3da5c753d4096ac42874faebe35cb"
      }
     },
     "metadata": {},
     "output_type": "display_data"
    },
    {
     "data": {
      "text/plain": "  0%|          | 0/1001 [00:00<?, ?it/s]",
      "application/vnd.jupyter.widget-view+json": {
       "version_major": 2,
       "version_minor": 0,
       "model_id": "7295cea6cbfa43b988708ee6a03bb749"
      }
     },
     "metadata": {},
     "output_type": "display_data"
    },
    {
     "name": "stdout",
     "output_type": "stream",
     "text": [
      "delta: 0.12152450352216707\n",
      "a: 0.1\n",
      "state: [0. 0. 0. 0. 0. 1. 1.]\n"
     ]
    },
    {
     "data": {
      "text/plain": "  0%|          | 0/1000 [00:00<?, ?it/s]",
      "application/vnd.jupyter.widget-view+json": {
       "version_major": 2,
       "version_minor": 0,
       "model_id": "56a855c63bd24ab19f6fcdd673e5478b"
      }
     },
     "metadata": {},
     "output_type": "display_data"
    },
    {
     "data": {
      "text/plain": "  0%|          | 0/1001 [00:00<?, ?it/s]",
      "application/vnd.jupyter.widget-view+json": {
       "version_major": 2,
       "version_minor": 0,
       "model_id": "86ad1b8a249a439d8c358d9d4eb57e4f"
      }
     },
     "metadata": {},
     "output_type": "display_data"
    },
    {
     "name": "stdout",
     "output_type": "stream",
     "text": [
      "delta: 0.12152450352216707\n",
      "a: 0.1\n",
      "state: [0. 0. 0. 0. 0. 1. 1.]\n"
     ]
    },
    {
     "data": {
      "text/plain": "  0%|          | 0/1000 [00:00<?, ?it/s]",
      "application/vnd.jupyter.widget-view+json": {
       "version_major": 2,
       "version_minor": 0,
       "model_id": "fac2e45848154951a485d492ceb6aafa"
      }
     },
     "metadata": {},
     "output_type": "display_data"
    },
    {
     "data": {
      "text/plain": "  0%|          | 0/1001 [00:00<?, ?it/s]",
      "application/vnd.jupyter.widget-view+json": {
       "version_major": 2,
       "version_minor": 0,
       "model_id": "7cd806bdf4314a7faaef4bc3665fbd4d"
      }
     },
     "metadata": {},
     "output_type": "display_data"
    },
    {
     "name": "stdout",
     "output_type": "stream",
     "text": [
      "delta: 0.12152450352216707\n",
      "a: 0.1\n",
      "state: [0. 0. 0. 0. 0. 1. 1.]\n"
     ]
    },
    {
     "data": {
      "text/plain": "  0%|          | 0/1000 [00:00<?, ?it/s]",
      "application/vnd.jupyter.widget-view+json": {
       "version_major": 2,
       "version_minor": 0,
       "model_id": "bfda59666b21400581984c377fbae9eb"
      }
     },
     "metadata": {},
     "output_type": "display_data"
    },
    {
     "data": {
      "text/plain": "  0%|          | 0/1001 [00:00<?, ?it/s]",
      "application/vnd.jupyter.widget-view+json": {
       "version_major": 2,
       "version_minor": 0,
       "model_id": "b60f2c6e4ca043d98fb8c3faeafe7420"
      }
     },
     "metadata": {},
     "output_type": "display_data"
    },
    {
     "name": "stdout",
     "output_type": "stream",
     "text": [
      "delta: 0.12152450352216707\n",
      "a: 0.1\n",
      "state: [0. 0. 0. 0. 0. 1. 1.]\n"
     ]
    },
    {
     "data": {
      "text/plain": "  0%|          | 0/1000 [00:00<?, ?it/s]",
      "application/vnd.jupyter.widget-view+json": {
       "version_major": 2,
       "version_minor": 0,
       "model_id": "c536c2ef040347c78cd7e55b8c3f5d1f"
      }
     },
     "metadata": {},
     "output_type": "display_data"
    },
    {
     "data": {
      "text/plain": "  0%|          | 0/1001 [00:00<?, ?it/s]",
      "application/vnd.jupyter.widget-view+json": {
       "version_major": 2,
       "version_minor": 0,
       "model_id": "87348cbac88c47c1bb3fafdab85c356e"
      }
     },
     "metadata": {},
     "output_type": "display_data"
    },
    {
     "name": "stdout",
     "output_type": "stream",
     "text": [
      "delta: 0.12152450352216707\n",
      "a: 0.1\n",
      "state: [0. 0. 0. 0. 0. 1. 1.]\n"
     ]
    },
    {
     "data": {
      "text/plain": "  0%|          | 0/1000 [00:00<?, ?it/s]",
      "application/vnd.jupyter.widget-view+json": {
       "version_major": 2,
       "version_minor": 0,
       "model_id": "6afc5d1003ba40f3ad880c476100b52a"
      }
     },
     "metadata": {},
     "output_type": "display_data"
    },
    {
     "data": {
      "text/plain": "  0%|          | 0/1001 [00:00<?, ?it/s]",
      "application/vnd.jupyter.widget-view+json": {
       "version_major": 2,
       "version_minor": 0,
       "model_id": "60fc338c6505462fa032d7ef5d64b292"
      }
     },
     "metadata": {},
     "output_type": "display_data"
    },
    {
     "name": "stdout",
     "output_type": "stream",
     "text": [
      "delta: 0.12152450352216707\n",
      "a: 0.1\n",
      "state: [0. 0. 0. 0. 0. 1. 1.]\n"
     ]
    },
    {
     "data": {
      "text/plain": "  0%|          | 0/1000 [00:00<?, ?it/s]",
      "application/vnd.jupyter.widget-view+json": {
       "version_major": 2,
       "version_minor": 0,
       "model_id": "ef2081e378184d92ab3012b3479d9d14"
      }
     },
     "metadata": {},
     "output_type": "display_data"
    },
    {
     "data": {
      "text/plain": "  0%|          | 0/1001 [00:00<?, ?it/s]",
      "application/vnd.jupyter.widget-view+json": {
       "version_major": 2,
       "version_minor": 0,
       "model_id": "d300f8dfcc45409abd5f9bf26ccca534"
      }
     },
     "metadata": {},
     "output_type": "display_data"
    },
    {
     "name": "stdout",
     "output_type": "stream",
     "text": [
      "delta: 0.12152450352216707\n",
      "a: 0.1\n",
      "state: [0. 0. 0. 0. 0. 1. 1.]\n"
     ]
    },
    {
     "data": {
      "text/plain": "  0%|          | 0/1000 [00:00<?, ?it/s]",
      "application/vnd.jupyter.widget-view+json": {
       "version_major": 2,
       "version_minor": 0,
       "model_id": "328fbf9ec8d24b818e93eb31566e062d"
      }
     },
     "metadata": {},
     "output_type": "display_data"
    },
    {
     "data": {
      "text/plain": "  0%|          | 0/1001 [00:00<?, ?it/s]",
      "application/vnd.jupyter.widget-view+json": {
       "version_major": 2,
       "version_minor": 0,
       "model_id": "42469b4056fb41b1a084f6f28dbfc6b3"
      }
     },
     "metadata": {},
     "output_type": "display_data"
    },
    {
     "name": "stdout",
     "output_type": "stream",
     "text": [
      "delta: 0.12152450352216707\n",
      "a: 0.1\n",
      "state: [0. 0. 0. 0. 0. 1. 1.]\n"
     ]
    },
    {
     "data": {
      "text/plain": "  0%|          | 0/1000 [00:00<?, ?it/s]",
      "application/vnd.jupyter.widget-view+json": {
       "version_major": 2,
       "version_minor": 0,
       "model_id": "0d1d60783b9547f4b45aaea0dd0eac00"
      }
     },
     "metadata": {},
     "output_type": "display_data"
    },
    {
     "data": {
      "text/plain": "  0%|          | 0/1001 [00:00<?, ?it/s]",
      "application/vnd.jupyter.widget-view+json": {
       "version_major": 2,
       "version_minor": 0,
       "model_id": "213f9febe75f45ffbf2fd1bf8d246192"
      }
     },
     "metadata": {},
     "output_type": "display_data"
    },
    {
     "name": "stdout",
     "output_type": "stream",
     "text": [
      "delta: 0.12152450352216707\n",
      "a: 0.1\n",
      "state: [0. 0. 0. 0. 0. 1. 1.]\n"
     ]
    },
    {
     "data": {
      "text/plain": "  0%|          | 0/1000 [00:00<?, ?it/s]",
      "application/vnd.jupyter.widget-view+json": {
       "version_major": 2,
       "version_minor": 0,
       "model_id": "d64700d24eb74911919c95850faf289f"
      }
     },
     "metadata": {},
     "output_type": "display_data"
    },
    {
     "data": {
      "text/plain": "  0%|          | 0/1001 [00:00<?, ?it/s]",
      "application/vnd.jupyter.widget-view+json": {
       "version_major": 2,
       "version_minor": 0,
       "model_id": "8406c2ad45a646da936334447d0268a1"
      }
     },
     "metadata": {},
     "output_type": "display_data"
    },
    {
     "name": "stdout",
     "output_type": "stream",
     "text": [
      "delta: 0.12152450352216707\n",
      "a: 0.1\n",
      "state: [0. 0. 0. 0. 0. 1. 1.]\n"
     ]
    },
    {
     "data": {
      "text/plain": "  0%|          | 0/1000 [00:00<?, ?it/s]",
      "application/vnd.jupyter.widget-view+json": {
       "version_major": 2,
       "version_minor": 0,
       "model_id": "84821840d099442a8891b79407772573"
      }
     },
     "metadata": {},
     "output_type": "display_data"
    },
    {
     "data": {
      "text/plain": "  0%|          | 0/1001 [00:00<?, ?it/s]",
      "application/vnd.jupyter.widget-view+json": {
       "version_major": 2,
       "version_minor": 0,
       "model_id": "9e538b5c3da741afbb479090e21e2f33"
      }
     },
     "metadata": {},
     "output_type": "display_data"
    },
    {
     "name": "stdout",
     "output_type": "stream",
     "text": [
      "delta: 0.12152450352216707\n",
      "a: 0.1\n",
      "state: [0. 0. 0. 0. 0. 1. 1.]\n"
     ]
    },
    {
     "data": {
      "text/plain": "  0%|          | 0/1000 [00:00<?, ?it/s]",
      "application/vnd.jupyter.widget-view+json": {
       "version_major": 2,
       "version_minor": 0,
       "model_id": "4c3caf49dcb34430b1857a57458b7e16"
      }
     },
     "metadata": {},
     "output_type": "display_data"
    },
    {
     "data": {
      "text/plain": "  0%|          | 0/1001 [00:00<?, ?it/s]",
      "application/vnd.jupyter.widget-view+json": {
       "version_major": 2,
       "version_minor": 0,
       "model_id": "93d39bfbb0b0436fb0651a6579763d8b"
      }
     },
     "metadata": {},
     "output_type": "display_data"
    },
    {
     "name": "stdout",
     "output_type": "stream",
     "text": [
      "delta: 0.12152450352216707\n",
      "a: 0.1\n",
      "state: [0. 0. 0. 0. 0. 1. 1.]\n"
     ]
    },
    {
     "data": {
      "text/plain": "  0%|          | 0/1000 [00:00<?, ?it/s]",
      "application/vnd.jupyter.widget-view+json": {
       "version_major": 2,
       "version_minor": 0,
       "model_id": "e5d79ecf694048bc9b85fb6d74cda37a"
      }
     },
     "metadata": {},
     "output_type": "display_data"
    },
    {
     "data": {
      "text/plain": "  0%|          | 0/1001 [00:00<?, ?it/s]",
      "application/vnd.jupyter.widget-view+json": {
       "version_major": 2,
       "version_minor": 0,
       "model_id": "2e9315103ef8426eac6539e703b67d41"
      }
     },
     "metadata": {},
     "output_type": "display_data"
    },
    {
     "name": "stdout",
     "output_type": "stream",
     "text": [
      "delta: 0.12152450352216707\n",
      "a: 0.1\n",
      "state: [0. 0. 0. 0. 0. 1. 1.]\n"
     ]
    },
    {
     "data": {
      "text/plain": "  0%|          | 0/1000 [00:00<?, ?it/s]",
      "application/vnd.jupyter.widget-view+json": {
       "version_major": 2,
       "version_minor": 0,
       "model_id": "775ba7382b3f4b22a09fea417157a7e8"
      }
     },
     "metadata": {},
     "output_type": "display_data"
    },
    {
     "data": {
      "text/plain": "  0%|          | 0/1001 [00:00<?, ?it/s]",
      "application/vnd.jupyter.widget-view+json": {
       "version_major": 2,
       "version_minor": 0,
       "model_id": "334c06a8e545462ea57ca3300edd5dd2"
      }
     },
     "metadata": {},
     "output_type": "display_data"
    },
    {
     "name": "stdout",
     "output_type": "stream",
     "text": [
      "delta: 0.12152450352216707\n",
      "a: 0.1\n",
      "state: [0. 0. 0. 0. 0. 1. 1.]\n"
     ]
    },
    {
     "data": {
      "text/plain": "  0%|          | 0/1000 [00:00<?, ?it/s]",
      "application/vnd.jupyter.widget-view+json": {
       "version_major": 2,
       "version_minor": 0,
       "model_id": "10c5d15f711f499a962c1d120706b899"
      }
     },
     "metadata": {},
     "output_type": "display_data"
    },
    {
     "data": {
      "text/plain": "  0%|          | 0/1001 [00:00<?, ?it/s]",
      "application/vnd.jupyter.widget-view+json": {
       "version_major": 2,
       "version_minor": 0,
       "model_id": "007a34047c894515b7a1672d9e64865a"
      }
     },
     "metadata": {},
     "output_type": "display_data"
    },
    {
     "name": "stdout",
     "output_type": "stream",
     "text": [
      "delta: 0.12152450352216707\n",
      "a: 0.1\n",
      "state: [0. 0. 0. 0. 0. 1. 1.]\n"
     ]
    },
    {
     "data": {
      "text/plain": "  0%|          | 0/1000 [00:00<?, ?it/s]",
      "application/vnd.jupyter.widget-view+json": {
       "version_major": 2,
       "version_minor": 0,
       "model_id": "f1b1daa3d5df4b80bf147c748a568880"
      }
     },
     "metadata": {},
     "output_type": "display_data"
    },
    {
     "data": {
      "text/plain": "  0%|          | 0/1001 [00:00<?, ?it/s]",
      "application/vnd.jupyter.widget-view+json": {
       "version_major": 2,
       "version_minor": 0,
       "model_id": "f65ab31243c441b686d2244bec36d4d0"
      }
     },
     "metadata": {},
     "output_type": "display_data"
    },
    {
     "name": "stdout",
     "output_type": "stream",
     "text": [
      "delta: 0.12152450352216707\n",
      "a: 0.1\n",
      "state: [0. 0. 0. 0. 0. 1. 1.]\n"
     ]
    },
    {
     "data": {
      "text/plain": "  0%|          | 0/1000 [00:00<?, ?it/s]",
      "application/vnd.jupyter.widget-view+json": {
       "version_major": 2,
       "version_minor": 0,
       "model_id": "b1ef79c448ff4c33858603ef64c651f4"
      }
     },
     "metadata": {},
     "output_type": "display_data"
    },
    {
     "data": {
      "text/plain": "  0%|          | 0/1001 [00:00<?, ?it/s]",
      "application/vnd.jupyter.widget-view+json": {
       "version_major": 2,
       "version_minor": 0,
       "model_id": "1d95fc92d4b14983a7c4cf3bb84be929"
      }
     },
     "metadata": {},
     "output_type": "display_data"
    },
    {
     "name": "stdout",
     "output_type": "stream",
     "text": [
      "delta: 0.12152450352216707\n",
      "a: 0.1\n",
      "state: [0. 0. 0. 0. 0. 1. 1.]\n"
     ]
    },
    {
     "data": {
      "text/plain": "  0%|          | 0/1000 [00:00<?, ?it/s]",
      "application/vnd.jupyter.widget-view+json": {
       "version_major": 2,
       "version_minor": 0,
       "model_id": "2623bd602c0b4b208c9d830a1774c875"
      }
     },
     "metadata": {},
     "output_type": "display_data"
    },
    {
     "data": {
      "text/plain": "  0%|          | 0/1001 [00:00<?, ?it/s]",
      "application/vnd.jupyter.widget-view+json": {
       "version_major": 2,
       "version_minor": 0,
       "model_id": "7ce6b450250c4ccabaa0115363dfc4fe"
      }
     },
     "metadata": {},
     "output_type": "display_data"
    },
    {
     "name": "stdout",
     "output_type": "stream",
     "text": [
      "delta: 0.12152450352216707\n",
      "a: 0.1\n",
      "state: [0. 0. 0. 0. 0. 1. 1.]\n"
     ]
    },
    {
     "data": {
      "text/plain": "  0%|          | 0/1000 [00:00<?, ?it/s]",
      "application/vnd.jupyter.widget-view+json": {
       "version_major": 2,
       "version_minor": 0,
       "model_id": "8a474cd161d548b3884952a813885592"
      }
     },
     "metadata": {},
     "output_type": "display_data"
    },
    {
     "data": {
      "text/plain": "  0%|          | 0/1001 [00:00<?, ?it/s]",
      "application/vnd.jupyter.widget-view+json": {
       "version_major": 2,
       "version_minor": 0,
       "model_id": "c07f3b3b05d046a5bfd068005d9c3c95"
      }
     },
     "metadata": {},
     "output_type": "display_data"
    },
    {
     "name": "stdout",
     "output_type": "stream",
     "text": [
      "delta: 0.12152450352216707\n",
      "a: 0.1\n",
      "state: [0. 0. 0. 0. 0. 1. 1.]\n"
     ]
    },
    {
     "data": {
      "text/plain": "  0%|          | 0/1000 [00:00<?, ?it/s]",
      "application/vnd.jupyter.widget-view+json": {
       "version_major": 2,
       "version_minor": 0,
       "model_id": "c23f35ed33dc49c4a5b2273edf6a8cff"
      }
     },
     "metadata": {},
     "output_type": "display_data"
    },
    {
     "data": {
      "text/plain": "  0%|          | 0/1001 [00:00<?, ?it/s]",
      "application/vnd.jupyter.widget-view+json": {
       "version_major": 2,
       "version_minor": 0,
       "model_id": "ef9771f2be41444ab412365eb1ff098d"
      }
     },
     "metadata": {},
     "output_type": "display_data"
    },
    {
     "name": "stdout",
     "output_type": "stream",
     "text": [
      "delta: 0.12152450352216707\n",
      "a: 0.1\n",
      "state: [0. 0. 0. 0. 0. 1. 1.]\n"
     ]
    },
    {
     "data": {
      "text/plain": "  0%|          | 0/1000 [00:00<?, ?it/s]",
      "application/vnd.jupyter.widget-view+json": {
       "version_major": 2,
       "version_minor": 0,
       "model_id": "55f20cff98cb4c4aac6ea07c6b5e000b"
      }
     },
     "metadata": {},
     "output_type": "display_data"
    },
    {
     "data": {
      "text/plain": "  0%|          | 0/1001 [00:00<?, ?it/s]",
      "application/vnd.jupyter.widget-view+json": {
       "version_major": 2,
       "version_minor": 0,
       "model_id": "1635937325f145b9a9ec340c8e542afe"
      }
     },
     "metadata": {},
     "output_type": "display_data"
    },
    {
     "name": "stdout",
     "output_type": "stream",
     "text": [
      "delta: 0.12152450352216707\n",
      "a: 0.1\n",
      "state: [0. 0. 0. 0. 0. 1. 1.]\n"
     ]
    },
    {
     "data": {
      "text/plain": "  0%|          | 0/1000 [00:00<?, ?it/s]",
      "application/vnd.jupyter.widget-view+json": {
       "version_major": 2,
       "version_minor": 0,
       "model_id": "77c51f1fcc8342f799c1af3f87efb4cc"
      }
     },
     "metadata": {},
     "output_type": "display_data"
    },
    {
     "data": {
      "text/plain": "  0%|          | 0/1001 [00:00<?, ?it/s]",
      "application/vnd.jupyter.widget-view+json": {
       "version_major": 2,
       "version_minor": 0,
       "model_id": "c719aa7bdf6e405ca2b60ed57dfd91b0"
      }
     },
     "metadata": {},
     "output_type": "display_data"
    },
    {
     "name": "stdout",
     "output_type": "stream",
     "text": [
      "delta: 0.12152450352216707\n",
      "a: 0.1\n",
      "state: [0. 0. 0. 0. 0. 1. 1.]\n"
     ]
    },
    {
     "data": {
      "text/plain": "  0%|          | 0/1000 [00:00<?, ?it/s]",
      "application/vnd.jupyter.widget-view+json": {
       "version_major": 2,
       "version_minor": 0,
       "model_id": "1c4313231e464a6b841848285378c0eb"
      }
     },
     "metadata": {},
     "output_type": "display_data"
    },
    {
     "data": {
      "text/plain": "  0%|          | 0/1001 [00:00<?, ?it/s]",
      "application/vnd.jupyter.widget-view+json": {
       "version_major": 2,
       "version_minor": 0,
       "model_id": "be196097b3b3463caf4dd057b1682290"
      }
     },
     "metadata": {},
     "output_type": "display_data"
    },
    {
     "name": "stdout",
     "output_type": "stream",
     "text": [
      "delta: 0.12152450352216707\n",
      "a: 0.1\n",
      "state: [0. 0. 0. 0. 0. 1. 1.]\n"
     ]
    },
    {
     "data": {
      "text/plain": "  0%|          | 0/1000 [00:00<?, ?it/s]",
      "application/vnd.jupyter.widget-view+json": {
       "version_major": 2,
       "version_minor": 0,
       "model_id": "cb7b3a74db934a2f9eab1c5198f5f017"
      }
     },
     "metadata": {},
     "output_type": "display_data"
    },
    {
     "data": {
      "text/plain": "  0%|          | 0/1001 [00:00<?, ?it/s]",
      "application/vnd.jupyter.widget-view+json": {
       "version_major": 2,
       "version_minor": 0,
       "model_id": "59ba674991564c0fa8a93b4cf3fed5ce"
      }
     },
     "metadata": {},
     "output_type": "display_data"
    },
    {
     "name": "stdout",
     "output_type": "stream",
     "text": [
      "delta: 0.12152450352216707\n",
      "a: 0.1\n",
      "state: [0. 0. 0. 0. 0. 1. 1.]\n"
     ]
    },
    {
     "data": {
      "text/plain": "  0%|          | 0/1000 [00:00<?, ?it/s]",
      "application/vnd.jupyter.widget-view+json": {
       "version_major": 2,
       "version_minor": 0,
       "model_id": "23f7e147bab843fb96d75bd0eca3be99"
      }
     },
     "metadata": {},
     "output_type": "display_data"
    },
    {
     "data": {
      "text/plain": "  0%|          | 0/1001 [00:00<?, ?it/s]",
      "application/vnd.jupyter.widget-view+json": {
       "version_major": 2,
       "version_minor": 0,
       "model_id": "20cd3613bca44b12ada1360b829369ba"
      }
     },
     "metadata": {},
     "output_type": "display_data"
    },
    {
     "name": "stdout",
     "output_type": "stream",
     "text": [
      "delta: 0.12152450352216707\n",
      "a: 0.1\n",
      "state: [0. 0. 0. 0. 0. 1. 1.]\n"
     ]
    },
    {
     "data": {
      "text/plain": "  0%|          | 0/1000 [00:00<?, ?it/s]",
      "application/vnd.jupyter.widget-view+json": {
       "version_major": 2,
       "version_minor": 0,
       "model_id": "9e8fc647bf3843a9bb6aa0718e4bdf2e"
      }
     },
     "metadata": {},
     "output_type": "display_data"
    },
    {
     "data": {
      "text/plain": "  0%|          | 0/1001 [00:00<?, ?it/s]",
      "application/vnd.jupyter.widget-view+json": {
       "version_major": 2,
       "version_minor": 0,
       "model_id": "b0d872e3e4f442119d2da484fcc3ef5e"
      }
     },
     "metadata": {},
     "output_type": "display_data"
    },
    {
     "name": "stdout",
     "output_type": "stream",
     "text": [
      "delta: 0.12152450352216707\n",
      "a: 0.1\n",
      "state: [0. 0. 0. 0. 0. 1. 1.]\n"
     ]
    },
    {
     "data": {
      "text/plain": "  0%|          | 0/1000 [00:00<?, ?it/s]",
      "application/vnd.jupyter.widget-view+json": {
       "version_major": 2,
       "version_minor": 0,
       "model_id": "41a76999ac814abdbda041c2de9408f9"
      }
     },
     "metadata": {},
     "output_type": "display_data"
    },
    {
     "data": {
      "text/plain": "  0%|          | 0/1001 [00:00<?, ?it/s]",
      "application/vnd.jupyter.widget-view+json": {
       "version_major": 2,
       "version_minor": 0,
       "model_id": "6334b3e45ab94d0dbfd9f40084f14116"
      }
     },
     "metadata": {},
     "output_type": "display_data"
    },
    {
     "name": "stdout",
     "output_type": "stream",
     "text": [
      "delta: 0.12152450352216707\n",
      "a: 0.1\n",
      "state: [0. 0. 0. 0. 0. 1. 1.]\n"
     ]
    },
    {
     "data": {
      "text/plain": "  0%|          | 0/1000 [00:00<?, ?it/s]",
      "application/vnd.jupyter.widget-view+json": {
       "version_major": 2,
       "version_minor": 0,
       "model_id": "8c9fdbaa753142faade1a39169d05691"
      }
     },
     "metadata": {},
     "output_type": "display_data"
    },
    {
     "data": {
      "text/plain": "  0%|          | 0/1001 [00:00<?, ?it/s]",
      "application/vnd.jupyter.widget-view+json": {
       "version_major": 2,
       "version_minor": 0,
       "model_id": "ec4f6e8b56b94b7ca6fb30c89dd6537e"
      }
     },
     "metadata": {},
     "output_type": "display_data"
    },
    {
     "name": "stdout",
     "output_type": "stream",
     "text": [
      "delta: 0.12152450352216707\n",
      "a: 0.1\n",
      "state: [0. 0. 0. 0. 0. 1. 1.]\n"
     ]
    },
    {
     "data": {
      "text/plain": "  0%|          | 0/1000 [00:00<?, ?it/s]",
      "application/vnd.jupyter.widget-view+json": {
       "version_major": 2,
       "version_minor": 0,
       "model_id": "9f9e5bf239ed44f2a9505232e0da1239"
      }
     },
     "metadata": {},
     "output_type": "display_data"
    },
    {
     "data": {
      "text/plain": "  0%|          | 0/1001 [00:00<?, ?it/s]",
      "application/vnd.jupyter.widget-view+json": {
       "version_major": 2,
       "version_minor": 0,
       "model_id": "b4b9a686c1be47dfaba30eeb4c4988f5"
      }
     },
     "metadata": {},
     "output_type": "display_data"
    },
    {
     "name": "stdout",
     "output_type": "stream",
     "text": [
      "delta: 0.12152450352216707\n",
      "a: 0.1\n",
      "state: [0. 0. 0. 0. 0. 1. 1.]\n"
     ]
    },
    {
     "data": {
      "text/plain": "  0%|          | 0/1000 [00:00<?, ?it/s]",
      "application/vnd.jupyter.widget-view+json": {
       "version_major": 2,
       "version_minor": 0,
       "model_id": "53227c62d7cb479eba7ddef7d16bf208"
      }
     },
     "metadata": {},
     "output_type": "display_data"
    },
    {
     "data": {
      "text/plain": "  0%|          | 0/1001 [00:00<?, ?it/s]",
      "application/vnd.jupyter.widget-view+json": {
       "version_major": 2,
       "version_minor": 0,
       "model_id": "16daf2a1ea784172a2e2abdac88d9de9"
      }
     },
     "metadata": {},
     "output_type": "display_data"
    },
    {
     "name": "stdout",
     "output_type": "stream",
     "text": [
      "delta: 0.12152450352216707\n",
      "a: 0.1\n",
      "state: [0. 0. 0. 0. 0. 1. 1.]\n"
     ]
    },
    {
     "data": {
      "text/plain": "  0%|          | 0/1000 [00:00<?, ?it/s]",
      "application/vnd.jupyter.widget-view+json": {
       "version_major": 2,
       "version_minor": 0,
       "model_id": "f80b3d1f18e04d7dbaf3b87b145f4a29"
      }
     },
     "metadata": {},
     "output_type": "display_data"
    },
    {
     "data": {
      "text/plain": "  0%|          | 0/1001 [00:00<?, ?it/s]",
      "application/vnd.jupyter.widget-view+json": {
       "version_major": 2,
       "version_minor": 0,
       "model_id": "f272a9ac50d54ee4b3f1fc72fa2cfe81"
      }
     },
     "metadata": {},
     "output_type": "display_data"
    },
    {
     "name": "stdout",
     "output_type": "stream",
     "text": [
      "delta: 0.12152450352216707\n",
      "a: 0.1\n",
      "state: [0. 0. 0. 0. 0. 1. 1.]\n"
     ]
    },
    {
     "data": {
      "text/plain": "  0%|          | 0/1000 [00:00<?, ?it/s]",
      "application/vnd.jupyter.widget-view+json": {
       "version_major": 2,
       "version_minor": 0,
       "model_id": "b316e1e1bced46d4affba29b6ab50d8a"
      }
     },
     "metadata": {},
     "output_type": "display_data"
    },
    {
     "data": {
      "text/plain": "  0%|          | 0/1001 [00:00<?, ?it/s]",
      "application/vnd.jupyter.widget-view+json": {
       "version_major": 2,
       "version_minor": 0,
       "model_id": "f1b9c0b00dbc4552b2ce6513e5068531"
      }
     },
     "metadata": {},
     "output_type": "display_data"
    },
    {
     "name": "stdout",
     "output_type": "stream",
     "text": [
      "delta: 0.12152450352216707\n",
      "a: 0.1\n",
      "state: [0. 0. 0. 0. 0. 1. 1.]\n"
     ]
    },
    {
     "data": {
      "text/plain": "  0%|          | 0/1000 [00:00<?, ?it/s]",
      "application/vnd.jupyter.widget-view+json": {
       "version_major": 2,
       "version_minor": 0,
       "model_id": "29a83ab5eee844d4a1bc43a3da9894dd"
      }
     },
     "metadata": {},
     "output_type": "display_data"
    },
    {
     "data": {
      "text/plain": "  0%|          | 0/1001 [00:00<?, ?it/s]",
      "application/vnd.jupyter.widget-view+json": {
       "version_major": 2,
       "version_minor": 0,
       "model_id": "81e895ddd43742c29fc3a688b272cf09"
      }
     },
     "metadata": {},
     "output_type": "display_data"
    },
    {
     "name": "stdout",
     "output_type": "stream",
     "text": [
      "delta: 0.12152450352216707\n",
      "a: 0.1\n",
      "state: [0. 0. 0. 0. 0. 1. 1.]\n"
     ]
    },
    {
     "data": {
      "text/plain": "  0%|          | 0/1000 [00:00<?, ?it/s]",
      "application/vnd.jupyter.widget-view+json": {
       "version_major": 2,
       "version_minor": 0,
       "model_id": "82f86f6ba2244735a9285cec7914d10b"
      }
     },
     "metadata": {},
     "output_type": "display_data"
    },
    {
     "data": {
      "text/plain": "  0%|          | 0/1001 [00:00<?, ?it/s]",
      "application/vnd.jupyter.widget-view+json": {
       "version_major": 2,
       "version_minor": 0,
       "model_id": "0da7ac18dec74edeb7f116f98910aeff"
      }
     },
     "metadata": {},
     "output_type": "display_data"
    },
    {
     "name": "stdout",
     "output_type": "stream",
     "text": [
      "delta: 0.12152450352216707\n",
      "a: 0.1\n",
      "state: [0. 0. 0. 0. 0. 1. 1.]\n"
     ]
    },
    {
     "data": {
      "text/plain": "  0%|          | 0/1000 [00:00<?, ?it/s]",
      "application/vnd.jupyter.widget-view+json": {
       "version_major": 2,
       "version_minor": 0,
       "model_id": "e0c54b49206e4b2b8cdde1fe3db92eb8"
      }
     },
     "metadata": {},
     "output_type": "display_data"
    },
    {
     "data": {
      "text/plain": "  0%|          | 0/1001 [00:00<?, ?it/s]",
      "application/vnd.jupyter.widget-view+json": {
       "version_major": 2,
       "version_minor": 0,
       "model_id": "885ba73befcc49b497e7c21b0c490340"
      }
     },
     "metadata": {},
     "output_type": "display_data"
    },
    {
     "name": "stdout",
     "output_type": "stream",
     "text": [
      "delta: 0.12152450352216707\n",
      "a: 0.1\n",
      "state: [0. 0. 0. 0. 0. 1. 1.]\n"
     ]
    },
    {
     "data": {
      "text/plain": "  0%|          | 0/1000 [00:00<?, ?it/s]",
      "application/vnd.jupyter.widget-view+json": {
       "version_major": 2,
       "version_minor": 0,
       "model_id": "83ad293ed44f483ea5d615b4f6c2e4eb"
      }
     },
     "metadata": {},
     "output_type": "display_data"
    },
    {
     "data": {
      "text/plain": "  0%|          | 0/1001 [00:00<?, ?it/s]",
      "application/vnd.jupyter.widget-view+json": {
       "version_major": 2,
       "version_minor": 0,
       "model_id": "6577687826f840e694c5438ccb1457fb"
      }
     },
     "metadata": {},
     "output_type": "display_data"
    },
    {
     "name": "stdout",
     "output_type": "stream",
     "text": [
      "delta: 0.12152450352216707\n",
      "a: 0.1\n",
      "state: [0. 0. 0. 0. 0. 1. 1.]\n"
     ]
    },
    {
     "data": {
      "text/plain": "  0%|          | 0/1000 [00:00<?, ?it/s]",
      "application/vnd.jupyter.widget-view+json": {
       "version_major": 2,
       "version_minor": 0,
       "model_id": "a34ae504e43a4d809a4ac7de21bc11cc"
      }
     },
     "metadata": {},
     "output_type": "display_data"
    },
    {
     "data": {
      "text/plain": "  0%|          | 0/1001 [00:00<?, ?it/s]",
      "application/vnd.jupyter.widget-view+json": {
       "version_major": 2,
       "version_minor": 0,
       "model_id": "7158520802184e7c837f59055d4c717e"
      }
     },
     "metadata": {},
     "output_type": "display_data"
    },
    {
     "name": "stdout",
     "output_type": "stream",
     "text": [
      "delta: 0.12152450352216707\n",
      "a: 0.1\n",
      "state: [0. 0. 0. 0. 0. 1. 1.]\n"
     ]
    },
    {
     "data": {
      "text/plain": "  0%|          | 0/1000 [00:00<?, ?it/s]",
      "application/vnd.jupyter.widget-view+json": {
       "version_major": 2,
       "version_minor": 0,
       "model_id": "f3e0059b11af45839e6f2b12a07abe54"
      }
     },
     "metadata": {},
     "output_type": "display_data"
    },
    {
     "data": {
      "text/plain": "  0%|          | 0/1001 [00:00<?, ?it/s]",
      "application/vnd.jupyter.widget-view+json": {
       "version_major": 2,
       "version_minor": 0,
       "model_id": "b5901cc562264be585a353903706ac6a"
      }
     },
     "metadata": {},
     "output_type": "display_data"
    },
    {
     "name": "stdout",
     "output_type": "stream",
     "text": [
      "delta: 0.12152450352216707\n",
      "a: 0.1\n",
      "state: [0. 0. 0. 0. 0. 1. 1.]\n"
     ]
    },
    {
     "data": {
      "text/plain": "  0%|          | 0/1000 [00:00<?, ?it/s]",
      "application/vnd.jupyter.widget-view+json": {
       "version_major": 2,
       "version_minor": 0,
       "model_id": "e839f4e2e3a44db5a53a480a161351d3"
      }
     },
     "metadata": {},
     "output_type": "display_data"
    },
    {
     "data": {
      "text/plain": "  0%|          | 0/1001 [00:00<?, ?it/s]",
      "application/vnd.jupyter.widget-view+json": {
       "version_major": 2,
       "version_minor": 0,
       "model_id": "61a078a77f734f55a07e4f97d888f5ac"
      }
     },
     "metadata": {},
     "output_type": "display_data"
    },
    {
     "name": "stdout",
     "output_type": "stream",
     "text": [
      "delta: 0.12152450352216707\n",
      "a: 0.1\n",
      "state: [0. 0. 0. 0. 0. 1. 1.]\n"
     ]
    },
    {
     "data": {
      "text/plain": "  0%|          | 0/1000 [00:00<?, ?it/s]",
      "application/vnd.jupyter.widget-view+json": {
       "version_major": 2,
       "version_minor": 0,
       "model_id": "20d1f570237244ebb797c3d6ea40467f"
      }
     },
     "metadata": {},
     "output_type": "display_data"
    },
    {
     "data": {
      "text/plain": "  0%|          | 0/1001 [00:00<?, ?it/s]",
      "application/vnd.jupyter.widget-view+json": {
       "version_major": 2,
       "version_minor": 0,
       "model_id": "30c0da38fe1b4eb8b3a6cd83149b6f59"
      }
     },
     "metadata": {},
     "output_type": "display_data"
    },
    {
     "name": "stdout",
     "output_type": "stream",
     "text": [
      "delta: 0.12152450352216707\n",
      "a: 0.1\n",
      "state: [0. 0. 0. 0. 0. 1. 1.]\n"
     ]
    },
    {
     "data": {
      "text/plain": "  0%|          | 0/1000 [00:00<?, ?it/s]",
      "application/vnd.jupyter.widget-view+json": {
       "version_major": 2,
       "version_minor": 0,
       "model_id": "8ac5995fcb4b48a0b854bbf6438ac933"
      }
     },
     "metadata": {},
     "output_type": "display_data"
    },
    {
     "data": {
      "text/plain": "  0%|          | 0/1001 [00:00<?, ?it/s]",
      "application/vnd.jupyter.widget-view+json": {
       "version_major": 2,
       "version_minor": 0,
       "model_id": "ef8275e3fe6e40b9b10b4468d5af2457"
      }
     },
     "metadata": {},
     "output_type": "display_data"
    },
    {
     "name": "stdout",
     "output_type": "stream",
     "text": [
      "delta: 0.12152450352216707\n",
      "a: 0.1\n",
      "state: [0. 0. 0. 0. 0. 1. 1.]\n"
     ]
    },
    {
     "data": {
      "text/plain": "  0%|          | 0/1000 [00:00<?, ?it/s]",
      "application/vnd.jupyter.widget-view+json": {
       "version_major": 2,
       "version_minor": 0,
       "model_id": "be24aecb1360440ab83f82a494d7de0b"
      }
     },
     "metadata": {},
     "output_type": "display_data"
    },
    {
     "data": {
      "text/plain": "  0%|          | 0/1001 [00:00<?, ?it/s]",
      "application/vnd.jupyter.widget-view+json": {
       "version_major": 2,
       "version_minor": 0,
       "model_id": "667ee5c43a1440e8aee9e03419f518da"
      }
     },
     "metadata": {},
     "output_type": "display_data"
    },
    {
     "name": "stdout",
     "output_type": "stream",
     "text": [
      "delta: 0.12152450352216707\n",
      "a: 0.1\n",
      "state: [0. 0. 0. 0. 0. 1. 1.]\n"
     ]
    },
    {
     "data": {
      "text/plain": "  0%|          | 0/1000 [00:00<?, ?it/s]",
      "application/vnd.jupyter.widget-view+json": {
       "version_major": 2,
       "version_minor": 0,
       "model_id": "b7db32e069ad44409922331992f229c1"
      }
     },
     "metadata": {},
     "output_type": "display_data"
    },
    {
     "data": {
      "text/plain": "  0%|          | 0/1001 [00:00<?, ?it/s]",
      "application/vnd.jupyter.widget-view+json": {
       "version_major": 2,
       "version_minor": 0,
       "model_id": "0130e9e72ff6400eb9c0d5f3dca94887"
      }
     },
     "metadata": {},
     "output_type": "display_data"
    },
    {
     "name": "stdout",
     "output_type": "stream",
     "text": [
      "delta: 0.12152450352216707\n",
      "a: 0.1\n",
      "state: [0. 0. 0. 0. 0. 1. 1.]\n"
     ]
    },
    {
     "data": {
      "text/plain": "  0%|          | 0/1000 [00:00<?, ?it/s]",
      "application/vnd.jupyter.widget-view+json": {
       "version_major": 2,
       "version_minor": 0,
       "model_id": "587de76ab5fa49a6a3b965dc51eb82ba"
      }
     },
     "metadata": {},
     "output_type": "display_data"
    },
    {
     "data": {
      "text/plain": "  0%|          | 0/1001 [00:00<?, ?it/s]",
      "application/vnd.jupyter.widget-view+json": {
       "version_major": 2,
       "version_minor": 0,
       "model_id": "eb7e2c8a41204ddaa133201be4681ba6"
      }
     },
     "metadata": {},
     "output_type": "display_data"
    },
    {
     "name": "stdout",
     "output_type": "stream",
     "text": [
      "delta: 0.12152450352216707\n",
      "a: 0.1\n",
      "state: [0. 0. 0. 0. 0. 1. 1.]\n"
     ]
    },
    {
     "data": {
      "text/plain": "  0%|          | 0/1000 [00:00<?, ?it/s]",
      "application/vnd.jupyter.widget-view+json": {
       "version_major": 2,
       "version_minor": 0,
       "model_id": "a66fa6363e54460aa4f7b8ea4dd5202f"
      }
     },
     "metadata": {},
     "output_type": "display_data"
    },
    {
     "data": {
      "text/plain": "  0%|          | 0/1001 [00:00<?, ?it/s]",
      "application/vnd.jupyter.widget-view+json": {
       "version_major": 2,
       "version_minor": 0,
       "model_id": "d6f1a93509e3482396da7aa8565bee2c"
      }
     },
     "metadata": {},
     "output_type": "display_data"
    },
    {
     "name": "stdout",
     "output_type": "stream",
     "text": [
      "delta: 0.12152450352216707\n",
      "a: 0.1\n",
      "state: [0. 0. 0. 0. 0. 1. 1.]\n"
     ]
    },
    {
     "data": {
      "text/plain": "  0%|          | 0/1000 [00:00<?, ?it/s]",
      "application/vnd.jupyter.widget-view+json": {
       "version_major": 2,
       "version_minor": 0,
       "model_id": "75fc49757b2c429f9bbacd77751f5af4"
      }
     },
     "metadata": {},
     "output_type": "display_data"
    },
    {
     "data": {
      "text/plain": "  0%|          | 0/1001 [00:00<?, ?it/s]",
      "application/vnd.jupyter.widget-view+json": {
       "version_major": 2,
       "version_minor": 0,
       "model_id": "429d04d81ef7433098cf09cdd2a4a0be"
      }
     },
     "metadata": {},
     "output_type": "display_data"
    },
    {
     "name": "stdout",
     "output_type": "stream",
     "text": [
      "delta: 0.12152450352216707\n",
      "a: 0.1\n",
      "state: [0. 0. 0. 0. 0. 1. 1.]\n"
     ]
    },
    {
     "data": {
      "text/plain": "  0%|          | 0/1000 [00:00<?, ?it/s]",
      "application/vnd.jupyter.widget-view+json": {
       "version_major": 2,
       "version_minor": 0,
       "model_id": "2e2610b7798447a49e4306761a91b1ff"
      }
     },
     "metadata": {},
     "output_type": "display_data"
    },
    {
     "data": {
      "text/plain": "  0%|          | 0/1001 [00:00<?, ?it/s]",
      "application/vnd.jupyter.widget-view+json": {
       "version_major": 2,
       "version_minor": 0,
       "model_id": "f3842d041076447daa883175bca184b1"
      }
     },
     "metadata": {},
     "output_type": "display_data"
    },
    {
     "name": "stdout",
     "output_type": "stream",
     "text": [
      "delta: 0.12152450352216707\n",
      "a: 0.1\n",
      "state: [0. 0. 0. 0. 0. 1. 1.]\n"
     ]
    },
    {
     "data": {
      "text/plain": "  0%|          | 0/1000 [00:00<?, ?it/s]",
      "application/vnd.jupyter.widget-view+json": {
       "version_major": 2,
       "version_minor": 0,
       "model_id": "82494fcb244c47ee8ae614dfd4534f80"
      }
     },
     "metadata": {},
     "output_type": "display_data"
    },
    {
     "data": {
      "text/plain": "  0%|          | 0/1001 [00:00<?, ?it/s]",
      "application/vnd.jupyter.widget-view+json": {
       "version_major": 2,
       "version_minor": 0,
       "model_id": "0e8d924cc25e42a18658579333cdd5ca"
      }
     },
     "metadata": {},
     "output_type": "display_data"
    },
    {
     "name": "stdout",
     "output_type": "stream",
     "text": [
      "delta: 0.12152450352216707\n",
      "a: 0.1\n",
      "state: [0. 0. 0. 0. 0. 1. 1.]\n"
     ]
    },
    {
     "data": {
      "text/plain": "  0%|          | 0/1000 [00:00<?, ?it/s]",
      "application/vnd.jupyter.widget-view+json": {
       "version_major": 2,
       "version_minor": 0,
       "model_id": "998d0035d9fb419490f18f25de56cb79"
      }
     },
     "metadata": {},
     "output_type": "display_data"
    },
    {
     "data": {
      "text/plain": "  0%|          | 0/1001 [00:00<?, ?it/s]",
      "application/vnd.jupyter.widget-view+json": {
       "version_major": 2,
       "version_minor": 0,
       "model_id": "f38405c534a94415a5718f6ca118032a"
      }
     },
     "metadata": {},
     "output_type": "display_data"
    },
    {
     "name": "stdout",
     "output_type": "stream",
     "text": [
      "delta: 0.12152450352216707\n",
      "a: 0.1\n",
      "state: [0. 0. 0. 0. 0. 1. 1.]\n"
     ]
    },
    {
     "data": {
      "text/plain": "  0%|          | 0/1000 [00:00<?, ?it/s]",
      "application/vnd.jupyter.widget-view+json": {
       "version_major": 2,
       "version_minor": 0,
       "model_id": "4789865e8207436cbd630de0abc918c1"
      }
     },
     "metadata": {},
     "output_type": "display_data"
    },
    {
     "data": {
      "text/plain": "  0%|          | 0/1001 [00:00<?, ?it/s]",
      "application/vnd.jupyter.widget-view+json": {
       "version_major": 2,
       "version_minor": 0,
       "model_id": "6e7cb615c3f747c18f7e58665d04fc34"
      }
     },
     "metadata": {},
     "output_type": "display_data"
    },
    {
     "name": "stdout",
     "output_type": "stream",
     "text": [
      "delta: 0.12152450352216707\n",
      "a: 0.1\n",
      "state: [0. 0. 0. 0. 0. 1. 1.]\n"
     ]
    },
    {
     "data": {
      "text/plain": "  0%|          | 0/1000 [00:00<?, ?it/s]",
      "application/vnd.jupyter.widget-view+json": {
       "version_major": 2,
       "version_minor": 0,
       "model_id": "4937b7fbd39e4153a20b4639ab7c0814"
      }
     },
     "metadata": {},
     "output_type": "display_data"
    },
    {
     "data": {
      "text/plain": "  0%|          | 0/1001 [00:00<?, ?it/s]",
      "application/vnd.jupyter.widget-view+json": {
       "version_major": 2,
       "version_minor": 0,
       "model_id": "636cda2922384a128a8a58d9045e11a7"
      }
     },
     "metadata": {},
     "output_type": "display_data"
    },
    {
     "name": "stdout",
     "output_type": "stream",
     "text": [
      "delta: 0.12152450352216707\n",
      "a: 0.1\n",
      "state: [0. 0. 0. 0. 0. 1. 1.]\n",
      "[0. 0. 0. 0. 0. 1. 1.]\n"
     ]
    },
    {
     "data": {
      "text/plain": "  0%|          | 0/1000 [00:00<?, ?it/s]",
      "application/vnd.jupyter.widget-view+json": {
       "version_major": 2,
       "version_minor": 0,
       "model_id": "9c918bec22614baa9e473d614506a75b"
      }
     },
     "metadata": {},
     "output_type": "display_data"
    },
    {
     "data": {
      "text/plain": "  0%|          | 0/1001 [00:00<?, ?it/s]",
      "application/vnd.jupyter.widget-view+json": {
       "version_major": 2,
       "version_minor": 0,
       "model_id": "8955d8d619a340b38fa6cc68a41a8f04"
      }
     },
     "metadata": {},
     "output_type": "display_data"
    },
    {
     "name": "stdout",
     "output_type": "stream",
     "text": [
      "delta: 0.04268462333666967\n",
      "a: 0.1\n",
      "state: [0.07378403 0.05815803 0.03556267 0.19332741 0.3902089  0.0209276\n",
      " 0.22803136]\n"
     ]
    },
    {
     "data": {
      "text/plain": "  0%|          | 0/1000 [00:00<?, ?it/s]",
      "application/vnd.jupyter.widget-view+json": {
       "version_major": 2,
       "version_minor": 0,
       "model_id": "5eb3e530d4c14f27a8be1281cd8d06db"
      }
     },
     "metadata": {},
     "output_type": "display_data"
    },
    {
     "data": {
      "text/plain": "  0%|          | 0/1001 [00:00<?, ?it/s]",
      "application/vnd.jupyter.widget-view+json": {
       "version_major": 2,
       "version_minor": 0,
       "model_id": "deabf13985a94984a8048a490b93a1b2"
      }
     },
     "metadata": {},
     "output_type": "display_data"
    },
    {
     "name": "stdout",
     "output_type": "stream",
     "text": [
      "delta: 0.04301509378218856\n",
      "a: 0.1\n",
      "state: [0.07180891 0.05670591 0.03491771 0.19266661 0.38958026 0.02806544\n",
      " 0.23209642]\n"
     ]
    },
    {
     "data": {
      "text/plain": "  0%|          | 0/1000 [00:00<?, ?it/s]",
      "application/vnd.jupyter.widget-view+json": {
       "version_major": 2,
       "version_minor": 0,
       "model_id": "ee1c240a224a4a18aae0df2b5fb58a6a"
      }
     },
     "metadata": {},
     "output_type": "display_data"
    },
    {
     "data": {
      "text/plain": "  0%|          | 0/1001 [00:00<?, ?it/s]",
      "application/vnd.jupyter.widget-view+json": {
       "version_major": 2,
       "version_minor": 0,
       "model_id": "feda20e791fd43d886058d04704606b2"
      }
     },
     "metadata": {},
     "output_type": "display_data"
    },
    {
     "name": "stdout",
     "output_type": "stream",
     "text": [
      "delta: 0.04339824167407161\n",
      "a: 0.1\n",
      "state: [0.06953591 0.05506335 0.03418108 0.19191255 0.38886346 0.03539756\n",
      " 0.23677053]\n"
     ]
    },
    {
     "data": {
      "text/plain": "  0%|          | 0/1000 [00:00<?, ?it/s]",
      "application/vnd.jupyter.widget-view+json": {
       "version_major": 2,
       "version_minor": 0,
       "model_id": "2bbb066c29424887a42e2db1720db5ae"
      }
     },
     "metadata": {},
     "output_type": "display_data"
    },
    {
     "data": {
      "text/plain": "  0%|          | 0/1001 [00:00<?, ?it/s]",
      "application/vnd.jupyter.widget-view+json": {
       "version_major": 2,
       "version_minor": 0,
       "model_id": "8af0a29162194d05800e620ab2e0f67a"
      }
     },
     "metadata": {},
     "output_type": "display_data"
    },
    {
     "name": "stdout",
     "output_type": "stream",
     "text": [
      "delta: 0.043842531042573844\n",
      "a: 0.1\n",
      "state: [0.06692379 0.05320332 0.03333997 0.1910523  0.38804624 0.04299258\n",
      " 0.24212874]\n"
     ]
    },
    {
     "data": {
      "text/plain": "  0%|          | 0/1000 [00:00<?, ?it/s]",
      "application/vnd.jupyter.widget-view+json": {
       "version_major": 2,
       "version_minor": 0,
       "model_id": "a5694f6aa45b4b3481c8b78f0ad233fb"
      }
     },
     "metadata": {},
     "output_type": "display_data"
    },
    {
     "data": {
      "text/plain": "  0%|          | 0/1001 [00:00<?, ?it/s]",
      "application/vnd.jupyter.widget-view+json": {
       "version_major": 2,
       "version_minor": 0,
       "model_id": "56c5119d8f2c471888bc809d64a9bfbe"
      }
     },
     "metadata": {},
     "output_type": "display_data"
    },
    {
     "name": "stdout",
     "output_type": "stream",
     "text": [
      "delta: 0.04435943125223502\n",
      "a: 0.1\n",
      "state: [0.06391639 0.0510891  0.03237694 0.19006822 0.38711193 0.05093165\n",
      " 0.24827254]\n"
     ]
    },
    {
     "data": {
      "text/plain": "  0%|          | 0/1000 [00:00<?, ?it/s]",
      "application/vnd.jupyter.widget-view+json": {
       "version_major": 2,
       "version_minor": 0,
       "model_id": "8b6b936a764c421783a0dd49bd1cb72f"
      }
     },
     "metadata": {},
     "output_type": "display_data"
    },
    {
     "data": {
      "text/plain": "  0%|          | 0/1001 [00:00<?, ?it/s]",
      "application/vnd.jupyter.widget-view+json": {
       "version_major": 2,
       "version_minor": 0,
       "model_id": "009ab87565b74cc18b8c6c726c9a450b"
      }
     },
     "metadata": {},
     "output_type": "display_data"
    },
    {
     "name": "stdout",
     "output_type": "stream",
     "text": [
      "delta: 0.0449646586074928\n",
      "a: 0.1\n",
      "state: [0.0604369  0.04867063 0.03126819 0.18893626 0.38603781 0.05931462\n",
      " 0.25533937]\n"
     ]
    },
    {
     "data": {
      "text/plain": "  0%|          | 0/1000 [00:00<?, ?it/s]",
      "application/vnd.jupyter.widget-view+json": {
       "version_major": 2,
       "version_minor": 0,
       "model_id": "46958194e1df42dfa13e196d10c4002a"
      }
     },
     "metadata": {},
     "output_type": "display_data"
    },
    {
     "data": {
      "text/plain": "  0%|          | 0/1001 [00:00<?, ?it/s]",
      "application/vnd.jupyter.widget-view+json": {
       "version_major": 2,
       "version_minor": 0,
       "model_id": "8c63790d57634d3abbb6c2e28c91a0db"
      }
     },
     "metadata": {},
     "output_type": "display_data"
    },
    {
     "name": "stdout",
     "output_type": "stream",
     "text": [
      "delta: 0.04568019827704132\n",
      "a: 0.1\n",
      "state: [0.05637878 0.04587849 0.02998071 0.18762302 0.38479237 0.06826939\n",
      " 0.26351771]\n"
     ]
    },
    {
     "data": {
      "text/plain": "  0%|          | 0/1000 [00:00<?, ?it/s]",
      "application/vnd.jupyter.widget-view+json": {
       "version_major": 2,
       "version_minor": 0,
       "model_id": "b264f9c8ff114b99af6078a85beb98ff"
      }
     },
     "metadata": {},
     "output_type": "display_data"
    },
    {
     "data": {
      "text/plain": "  0%|          | 0/1001 [00:00<?, ?it/s]",
      "application/vnd.jupyter.widget-view+json": {
       "version_major": 2,
       "version_minor": 0,
       "model_id": "b60321c755944c8bbce6b8ca39dd3f86"
      }
     },
     "metadata": {},
     "output_type": "display_data"
    },
    {
     "name": "stdout",
     "output_type": "stream",
     "text": [
      "delta: 0.0465377367859718\n",
      "a: 0.1\n",
      "state: [0.05159051 0.04261404 0.02846759 0.18608107 0.38333091 0.07796664\n",
      " 0.27307191]\n"
     ]
    },
    {
     "data": {
      "text/plain": "  0%|          | 0/1000 [00:00<?, ?it/s]",
      "application/vnd.jupyter.widget-view+json": {
       "version_major": 2,
       "version_minor": 0,
       "model_id": "a874bb37bb9449118010b2962b26338c"
      }
     },
     "metadata": {},
     "output_type": "display_data"
    },
    {
     "data": {
      "text/plain": "  0%|          | 0/1001 [00:00<?, ?it/s]",
      "application/vnd.jupyter.widget-view+json": {
       "version_major": 2,
       "version_minor": 0,
       "model_id": "76a5d3e43d764e77b4ab0f843d7d1edc"
      }
     },
     "metadata": {},
     "output_type": "display_data"
    },
    {
     "name": "stdout",
     "output_type": "stream",
     "text": [
      "delta: 0.047584826855895546\n",
      "a: 0.1\n",
      "state: [0.04584905 0.03873206 0.0266598  0.18424056 0.38158767 0.08864462\n",
      " 0.28438492]\n"
     ]
    },
    {
     "data": {
      "text/plain": "  0%|          | 0/1000 [00:00<?, ?it/s]",
      "application/vnd.jupyter.widget-view+json": {
       "version_major": 2,
       "version_minor": 0,
       "model_id": "0d2b4832edbb462cb288e273ca6559c8"
      }
     },
     "metadata": {},
     "output_type": "display_data"
    },
    {
     "data": {
      "text/plain": "  0%|          | 0/1001 [00:00<?, ?it/s]",
      "application/vnd.jupyter.widget-view+json": {
       "version_major": 2,
       "version_minor": 0,
       "model_id": "f8b8c90eb8784ea7a341a0d25f103187"
      }
     },
     "metadata": {},
     "output_type": "display_data"
    },
    {
     "name": "stdout",
     "output_type": "stream",
     "text": [
      "delta: 0.04889680948390941\n",
      "a: 0.1\n",
      "state: [0.0388103  0.03400842 0.02445079 0.18199377 0.37946138 0.10065395\n",
      " 0.29803662]\n"
     ]
    },
    {
     "data": {
      "text/plain": "  0%|          | 0/1000 [00:00<?, ?it/s]",
      "application/vnd.jupyter.widget-view+json": {
       "version_major": 2,
       "version_minor": 0,
       "model_id": "9d32c6209949461f9408bdbd2da18228"
      }
     },
     "metadata": {},
     "output_type": "display_data"
    },
    {
     "data": {
      "text/plain": "  0%|          | 0/1001 [00:00<?, ?it/s]",
      "application/vnd.jupyter.widget-view+json": {
       "version_major": 2,
       "version_minor": 0,
       "model_id": "6e7c3d5200284f97b21c1586009355c8"
      }
     },
     "metadata": {},
     "output_type": "display_data"
    },
    {
     "name": "stdout",
     "output_type": "stream",
     "text": [
      "delta: 0.050602254226940376\n",
      "a: 0.1\n",
      "state: [0.02990855 0.02807425 0.02166537 0.17916361 0.37678575 0.11454558\n",
      " 0.31495988]\n"
     ]
    },
    {
     "data": {
      "text/plain": "  0%|          | 0/1000 [00:00<?, ?it/s]",
      "application/vnd.jupyter.widget-view+json": {
       "version_major": 2,
       "version_minor": 0,
       "model_id": "e318bd90bb1d45b9847a51c018b5d432"
      }
     },
     "metadata": {},
     "output_type": "display_data"
    },
    {
     "data": {
      "text/plain": "  0%|          | 0/1001 [00:00<?, ?it/s]",
      "application/vnd.jupyter.widget-view+json": {
       "version_major": 2,
       "version_minor": 0,
       "model_id": "9bc6fd3dc8994dcd9a6f70c7e45fc72f"
      }
     },
     "metadata": {},
     "output_type": "display_data"
    },
    {
     "name": "stdout",
     "output_type": "stream",
     "text": [
      "delta: 0.05294517427102558\n",
      "a: 0.1\n",
      "state: [0.01812791 0.02026609 0.01798862 0.17543189 0.37326248 0.1312642\n",
      " 0.33678765]\n"
     ]
    },
    {
     "data": {
      "text/plain": "  0%|          | 0/1000 [00:00<?, ?it/s]",
      "application/vnd.jupyter.widget-view+json": {
       "version_major": 2,
       "version_minor": 0,
       "model_id": "3c818ce21229489a9402992d62be356c"
      }
     },
     "metadata": {},
     "output_type": "display_data"
    },
    {
     "data": {
      "text/plain": "  0%|          | 0/1001 [00:00<?, ?it/s]",
      "application/vnd.jupyter.widget-view+json": {
       "version_major": 2,
       "version_minor": 0,
       "model_id": "e6b191867c5e4846bfa16573091ba8e6"
      }
     },
     "metadata": {},
     "output_type": "display_data"
    },
    {
     "name": "stdout",
     "output_type": "stream",
     "text": [
      "delta: 0.05647129213815226\n",
      "a: 0.1\n",
      "state: [0.00139194 0.00922451 0.01277576 0.17014754 0.36828246 0.1526441\n",
      " 0.36675616]\n"
     ]
    },
    {
     "data": {
      "text/plain": "  0%|          | 0/1000 [00:00<?, ?it/s]",
      "application/vnd.jupyter.widget-view+json": {
       "version_major": 2,
       "version_minor": 0,
       "model_id": "742b744282be4dd4a19d17f758f44c03"
      }
     },
     "metadata": {},
     "output_type": "display_data"
    },
    {
     "data": {
      "text/plain": "  0%|          | 0/1001 [00:00<?, ?it/s]",
      "application/vnd.jupyter.widget-view+json": {
       "version_major": 2,
       "version_minor": 0,
       "model_id": "324e6eeb54ad43e799a42ae51fb930e9"
      }
     },
     "metadata": {},
     "output_type": "display_data"
    },
    {
     "name": "stdout",
     "output_type": "stream",
     "text": [
      "delta: 0.059206251016136746\n",
      "a: 0.1\n",
      "state: [0.         0.         0.00440134 0.16167077 0.36031561 0.18301513\n",
      " 0.41268325]\n"
     ]
    },
    {
     "data": {
      "text/plain": "  0%|          | 0/1000 [00:00<?, ?it/s]",
      "application/vnd.jupyter.widget-view+json": {
       "version_major": 2,
       "version_minor": 0,
       "model_id": "ed5dd27c817342659d673031630b3fcd"
      }
     },
     "metadata": {},
     "output_type": "display_data"
    },
    {
     "data": {
      "text/plain": "  0%|          | 0/1001 [00:00<?, ?it/s]",
      "application/vnd.jupyter.widget-view+json": {
       "version_major": 2,
       "version_minor": 0,
       "model_id": "6adad0a80b484c1aae98f5b174188a4d"
      }
     },
     "metadata": {},
     "output_type": "display_data"
    },
    {
     "name": "stdout",
     "output_type": "stream",
     "text": [
      "delta: 0.06170380007501928\n",
      "a: 0.1\n",
      "state: [0.         0.         0.         0.14903325 0.3484527  0.22303325\n",
      " 0.47831767]\n"
     ]
    },
    {
     "data": {
      "text/plain": "  0%|          | 0/1000 [00:00<?, ?it/s]",
      "application/vnd.jupyter.widget-view+json": {
       "version_major": 2,
       "version_minor": 0,
       "model_id": "f39d6dc814f644b1ba01795afb6243ff"
      }
     },
     "metadata": {},
     "output_type": "display_data"
    },
    {
     "data": {
      "text/plain": "  0%|          | 0/1001 [00:00<?, ?it/s]",
      "application/vnd.jupyter.widget-view+json": {
       "version_major": 2,
       "version_minor": 0,
       "model_id": "b8c786920b9d48a9b1cefd502877a874"
      }
     },
     "metadata": {},
     "output_type": "display_data"
    },
    {
     "name": "stdout",
     "output_type": "stream",
     "text": [
      "delta: 0.06495875127394951\n",
      "a: 0.1\n",
      "state: [0.         0.         0.         0.13184004 0.33240329 0.27179862\n",
      " 0.56534688]\n"
     ]
    },
    {
     "data": {
      "text/plain": "  0%|          | 0/1000 [00:00<?, ?it/s]",
      "application/vnd.jupyter.widget-view+json": {
       "version_major": 2,
       "version_minor": 0,
       "model_id": "941ae4ef7e3c4cdfa5a42a7704b16d8a"
      }
     },
     "metadata": {},
     "output_type": "display_data"
    },
    {
     "data": {
      "text/plain": "  0%|          | 0/1001 [00:00<?, ?it/s]",
      "application/vnd.jupyter.widget-view+json": {
       "version_major": 2,
       "version_minor": 0,
       "model_id": "7262760dbd8e46e6a5a1743c79147a5d"
      }
     },
     "metadata": {},
     "output_type": "display_data"
    },
    {
     "name": "stdout",
     "output_type": "stream",
     "text": [
      "delta: 0.06970813546091567\n",
      "a: 0.1\n",
      "state: [0.         0.         0.         0.10910944 0.31146917 0.33171578\n",
      " 0.67895257]\n"
     ]
    },
    {
     "data": {
      "text/plain": "  0%|          | 0/1000 [00:00<?, ?it/s]",
      "application/vnd.jupyter.widget-view+json": {
       "version_major": 2,
       "version_minor": 0,
       "model_id": "9be7fb1a61c548429027325099ba4bb0"
      }
     },
     "metadata": {},
     "output_type": "display_data"
    },
    {
     "data": {
      "text/plain": "  0%|          | 0/1001 [00:00<?, ?it/s]",
      "application/vnd.jupyter.widget-view+json": {
       "version_major": 2,
       "version_minor": 0,
       "model_id": "6456e095840f4deea2b4479fa7e83157"
      }
     },
     "metadata": {},
     "output_type": "display_data"
    },
    {
     "name": "stdout",
     "output_type": "stream",
     "text": [
      "delta: 0.07718070866126893\n",
      "a: 0.1\n",
      "state: [0.         0.         0.         0.07918578 0.28446758 0.40776113\n",
      " 0.82934366]\n"
     ]
    },
    {
     "data": {
      "text/plain": "  0%|          | 0/1000 [00:00<?, ?it/s]",
      "application/vnd.jupyter.widget-view+json": {
       "version_major": 2,
       "version_minor": 0,
       "model_id": "cb4d147d7dbd43919f080147e44ac862"
      }
     },
     "metadata": {},
     "output_type": "display_data"
    },
    {
     "data": {
      "text/plain": "  0%|          | 0/1001 [00:00<?, ?it/s]",
      "application/vnd.jupyter.widget-view+json": {
       "version_major": 2,
       "version_minor": 0,
       "model_id": "14ed09e63c9c48bda53ee9f3f589f747"
      }
     },
     "metadata": {},
     "output_type": "display_data"
    },
    {
     "name": "stdout",
     "output_type": "stream",
     "text": [
      "delta: 0.08883700013404122\n",
      "a: 0.1\n",
      "state: [0.         0.         0.         0.04006054 0.25024942 0.50744981\n",
      " 1.        ]\n"
     ]
    },
    {
     "data": {
      "text/plain": "  0%|          | 0/1000 [00:00<?, ?it/s]",
      "application/vnd.jupyter.widget-view+json": {
       "version_major": 2,
       "version_minor": 0,
       "model_id": "c0e592fc6397468b934d8cdd3158b7a3"
      }
     },
     "metadata": {},
     "output_type": "display_data"
    },
    {
     "data": {
      "text/plain": "  0%|          | 0/1001 [00:00<?, ?it/s]",
      "application/vnd.jupyter.widget-view+json": {
       "version_major": 2,
       "version_minor": 0,
       "model_id": "0e21aece12c244a1bc48f5268f99eb40"
      }
     },
     "metadata": {},
     "output_type": "display_data"
    },
    {
     "name": "stdout",
     "output_type": "stream",
     "text": [
      "delta: 0.09715293964630396\n",
      "a: 0.1\n",
      "state: [0.         0.         0.         0.         0.2076431  0.63902986\n",
      " 1.        ]\n"
     ]
    },
    {
     "data": {
      "text/plain": "  0%|          | 0/1000 [00:00<?, ?it/s]",
      "application/vnd.jupyter.widget-view+json": {
       "version_major": 2,
       "version_minor": 0,
       "model_id": "fedeb831e75f43329785082ed987f3ee"
      }
     },
     "metadata": {},
     "output_type": "display_data"
    },
    {
     "data": {
      "text/plain": "  0%|          | 0/1001 [00:00<?, ?it/s]",
      "application/vnd.jupyter.widget-view+json": {
       "version_major": 2,
       "version_minor": 0,
       "model_id": "ece3455e1cbd4432a2d347d1c90ac463"
      }
     },
     "metadata": {},
     "output_type": "display_data"
    },
    {
     "name": "stdout",
     "output_type": "stream",
     "text": [
      "delta: 0.10513130859446569\n",
      "a: 0.1\n",
      "state: [0.         0.         0.         0.         0.15266875 0.78790363\n",
      " 1.        ]\n"
     ]
    },
    {
     "data": {
      "text/plain": "  0%|          | 0/1000 [00:00<?, ?it/s]",
      "application/vnd.jupyter.widget-view+json": {
       "version_major": 2,
       "version_minor": 0,
       "model_id": "17c3fa55426042a09370c98e4fe71a01"
      }
     },
     "metadata": {},
     "output_type": "display_data"
    },
    {
     "data": {
      "text/plain": "  0%|          | 0/1001 [00:00<?, ?it/s]",
      "application/vnd.jupyter.widget-view+json": {
       "version_major": 2,
       "version_minor": 0,
       "model_id": "2c1659a1beb44c8499150f29583144b4"
      }
     },
     "metadata": {},
     "output_type": "display_data"
    },
    {
     "name": "stdout",
     "output_type": "stream",
     "text": [
      "delta: 0.11412449526849797\n",
      "a: 0.1\n",
      "state: [0.         0.         0.         0.         0.09520675 0.92992801\n",
      " 1.        ]\n"
     ]
    },
    {
     "data": {
      "text/plain": "  0%|          | 0/1000 [00:00<?, ?it/s]",
      "application/vnd.jupyter.widget-view+json": {
       "version_major": 2,
       "version_minor": 0,
       "model_id": "e02f99a717474b5e8939ee64a5e6fc7d"
      }
     },
     "metadata": {},
     "output_type": "display_data"
    },
    {
     "data": {
      "text/plain": "  0%|          | 0/1001 [00:00<?, ?it/s]",
      "application/vnd.jupyter.widget-view+json": {
       "version_major": 2,
       "version_minor": 0,
       "model_id": "160bf8533222447981d8c139b6a1f30f"
      }
     },
     "metadata": {},
     "output_type": "display_data"
    },
    {
     "name": "stdout",
     "output_type": "stream",
     "text": [
      "delta: 0.12012404537038333\n",
      "a: 0.1\n",
      "state: [0.         0.         0.         0.         0.03455577 1.\n",
      " 1.        ]\n"
     ]
    },
    {
     "data": {
      "text/plain": "  0%|          | 0/1000 [00:00<?, ?it/s]",
      "application/vnd.jupyter.widget-view+json": {
       "version_major": 2,
       "version_minor": 0,
       "model_id": "d8fbf9aeff25422a8bba9205709920f5"
      }
     },
     "metadata": {},
     "output_type": "display_data"
    },
    {
     "data": {
      "text/plain": "  0%|          | 0/1001 [00:00<?, ?it/s]",
      "application/vnd.jupyter.widget-view+json": {
       "version_major": 2,
       "version_minor": 0,
       "model_id": "418a5244441c4c50977996e8a10190c1"
      }
     },
     "metadata": {},
     "output_type": "display_data"
    },
    {
     "name": "stdout",
     "output_type": "stream",
     "text": [
      "delta: 0.12152450352216707\n",
      "a: 0.1\n",
      "state: [0. 0. 0. 0. 0. 1. 1.]\n"
     ]
    },
    {
     "data": {
      "text/plain": "  0%|          | 0/1000 [00:00<?, ?it/s]",
      "application/vnd.jupyter.widget-view+json": {
       "version_major": 2,
       "version_minor": 0,
       "model_id": "f4d8517ad94f4b6db596380efe84397a"
      }
     },
     "metadata": {},
     "output_type": "display_data"
    },
    {
     "data": {
      "text/plain": "  0%|          | 0/1001 [00:00<?, ?it/s]",
      "application/vnd.jupyter.widget-view+json": {
       "version_major": 2,
       "version_minor": 0,
       "model_id": "541417554512400c9546a2625d4b87ea"
      }
     },
     "metadata": {},
     "output_type": "display_data"
    },
    {
     "name": "stderr",
     "output_type": "stream",
     "text": [
      "Process ForkPoolWorker-4:\n"
     ]
    },
    {
     "ename": "KeyboardInterrupt",
     "evalue": "",
     "output_type": "error",
     "traceback": [
      "\u001B[0;31m---------------------------------------------------------------------------\u001B[0m",
      "\u001B[0;31mKeyboardInterrupt\u001B[0m                         Traceback (most recent call last)",
      "Cell \u001B[0;32mIn[95], line 12\u001B[0m\n\u001B[1;32m     10\u001B[0m                 batch[multy \u001B[38;5;241m*\u001B[39m num \u001B[38;5;241m+\u001B[39m j, l] \u001B[38;5;241m=\u001B[39m \u001B[38;5;28mmin\u001B[39m(\u001B[38;5;28mmax\u001B[39m(res[k][l] \u001B[38;5;241m+\u001B[39m random\u001B[38;5;241m.\u001B[39mrandom() \u001B[38;5;241m/\u001B[39m \u001B[38;5;241m20\u001B[39m \u001B[38;5;241m-\u001B[39m \u001B[38;5;241m1\u001B[39m \u001B[38;5;241m/\u001B[39m \u001B[38;5;241m40\u001B[39m, \u001B[38;5;241m0\u001B[39m), \u001B[38;5;241m1\u001B[39m)\n\u001B[1;32m     11\u001B[0m \u001B[38;5;66;03m# tmp = list(tqdm(p.imap(count, batch), total=len(batch)))\u001B[39;00m\n\u001B[0;32m---> 12\u001B[0m tmp \u001B[38;5;241m=\u001B[39m \u001B[43mcount\u001B[49m\u001B[43m(\u001B[49m\u001B[43mstate\u001B[49m\u001B[38;5;241;43m=\u001B[39;49m\u001B[43mbatch\u001B[49m\u001B[43m[\u001B[49m\u001B[38;5;241;43m0\u001B[39;49m\u001B[43m]\u001B[49m\u001B[43m)\u001B[49m\n\u001B[1;32m     13\u001B[0m \u001B[38;5;28mprint\u001B[39m(tmp)\n",
      "Cell \u001B[0;32mIn[89], line 29\u001B[0m, in \u001B[0;36mcount\u001B[0;34m(state)\u001B[0m\n\u001B[1;32m     26\u001B[0m c[\u001B[38;5;241m5\u001B[39m, \u001B[38;5;241m1\u001B[39m] \u001B[38;5;241m=\u001B[39m state[\u001B[38;5;241m5\u001B[39m]\n\u001B[1;32m     27\u001B[0m c[\u001B[38;5;241m6\u001B[39m, \u001B[38;5;241m0\u001B[39m] \u001B[38;5;241m=\u001B[39m state[\u001B[38;5;241m6\u001B[39m]\n\u001B[0;32m---> 29\u001B[0m q, dc \u001B[38;5;241m=\u001B[39m \u001B[43msolver\u001B[49m\u001B[43m(\u001B[49m\u001B[43mc\u001B[49m\u001B[43m,\u001B[49m\u001B[43m \u001B[49m\u001B[43mT\u001B[49m\u001B[43m,\u001B[49m\u001B[43m \u001B[49m\u001B[43mSTEP\u001B[49m\u001B[43m)\u001B[49m\n\u001B[1;32m     30\u001B[0m data \u001B[38;5;241m=\u001B[39m np\u001B[38;5;241m.\u001B[39mzeros(N \u001B[38;5;241m+\u001B[39m \u001B[38;5;241m1\u001B[39m)\n\u001B[1;32m     31\u001B[0m \u001B[38;5;28;01mfor\u001B[39;00m j \u001B[38;5;129;01min\u001B[39;00m \u001B[38;5;28mrange\u001B[39m(N \u001B[38;5;241m+\u001B[39m \u001B[38;5;241m1\u001B[39m):\n",
      "Cell \u001B[0;32mIn[88], line 9\u001B[0m, in \u001B[0;36msolver\u001B[0;34m(C0, TIME, STEP)\u001B[0m\n\u001B[1;32m      7\u001B[0m     prev \u001B[38;5;241m=\u001B[39m C_new\n\u001B[1;32m      8\u001B[0m     c\u001B[38;5;241m.\u001B[39mappend(prev)\n\u001B[0;32m----> 9\u001B[0m \u001B[38;5;28;01mreturn\u001B[39;00m prev, \u001B[43mback_prop\u001B[49m\u001B[43m(\u001B[49m\u001B[43mc\u001B[49m\u001B[43m,\u001B[49m\u001B[43m \u001B[49m\u001B[43mget_b\u001B[49m\u001B[43m(\u001B[49m\u001B[43m)\u001B[49m\u001B[43m)\u001B[49m\n",
      "Cell \u001B[0;32mIn[86], line 31\u001B[0m, in \u001B[0;36mback_prop\u001B[0;34m(c, b)\u001B[0m\n\u001B[1;32m     28\u001B[0m     dPrev[i, j, k, l] \u001B[38;5;241m-\u001B[39m\u001B[38;5;241m=\u001B[39m K[i, j, k, l] \u001B[38;5;241m*\u001B[39m _C[i, j] \u001B[38;5;241m*\u001B[39m (\u001B[38;5;241m1\u001B[39m \u001B[38;5;241m-\u001B[39m E[i, k] \u001B[38;5;241m*\u001B[39m E[j, l])\n\u001B[1;32m     30\u001B[0m dPrev \u001B[38;5;241m*\u001B[39m\u001B[38;5;241m=\u001B[39m STEP\n\u001B[0;32m---> 31\u001B[0m dPrev \u001B[38;5;241m+\u001B[39m\u001B[38;5;241m=\u001B[39m \u001B[43mnp\u001B[49m\u001B[38;5;241;43m.\u001B[39;49m\u001B[43meinsum\u001B[49m\u001B[43m(\u001B[49m\u001B[38;5;124;43m'\u001B[39;49m\u001B[38;5;124;43mij,kl->iklj\u001B[39;49m\u001B[38;5;124;43m'\u001B[39;49m\u001B[43m,\u001B[49m\u001B[43m \u001B[49m\u001B[43mE\u001B[49m\u001B[43m,\u001B[49m\u001B[43m \u001B[49m\u001B[43mE\u001B[49m\u001B[43m)\u001B[49m\n\u001B[1;32m     32\u001B[0m dC \u001B[38;5;241m=\u001B[39m np\u001B[38;5;241m.\u001B[39meinsum(\u001B[38;5;124m'\u001B[39m\u001B[38;5;124mkl,klij->ij\u001B[39m\u001B[38;5;124m'\u001B[39m, dC, dPrev)\n\u001B[1;32m     34\u001B[0m \u001B[38;5;66;03m# print(dC[6,0])\u001B[39;00m\n",
      "File \u001B[0;32m~/programming/graphs/venv/lib/python3.10/site-packages/numpy/core/einsumfunc.py:1371\u001B[0m, in \u001B[0;36meinsum\u001B[0;34m(out, optimize, *operands, **kwargs)\u001B[0m\n\u001B[1;32m   1369\u001B[0m     \u001B[38;5;28;01mif\u001B[39;00m specified_out:\n\u001B[1;32m   1370\u001B[0m         kwargs[\u001B[38;5;124m'\u001B[39m\u001B[38;5;124mout\u001B[39m\u001B[38;5;124m'\u001B[39m] \u001B[38;5;241m=\u001B[39m out\n\u001B[0;32m-> 1371\u001B[0m     \u001B[38;5;28;01mreturn\u001B[39;00m \u001B[43mc_einsum\u001B[49m\u001B[43m(\u001B[49m\u001B[38;5;241;43m*\u001B[39;49m\u001B[43moperands\u001B[49m\u001B[43m,\u001B[49m\u001B[43m \u001B[49m\u001B[38;5;241;43m*\u001B[39;49m\u001B[38;5;241;43m*\u001B[39;49m\u001B[43mkwargs\u001B[49m\u001B[43m)\u001B[49m\n\u001B[1;32m   1373\u001B[0m \u001B[38;5;66;03m# Check the kwargs to avoid a more cryptic error later, without having to\u001B[39;00m\n\u001B[1;32m   1374\u001B[0m \u001B[38;5;66;03m# repeat default values here\u001B[39;00m\n\u001B[1;32m   1375\u001B[0m valid_einsum_kwargs \u001B[38;5;241m=\u001B[39m [\u001B[38;5;124m'\u001B[39m\u001B[38;5;124mdtype\u001B[39m\u001B[38;5;124m'\u001B[39m, \u001B[38;5;124m'\u001B[39m\u001B[38;5;124morder\u001B[39m\u001B[38;5;124m'\u001B[39m, \u001B[38;5;124m'\u001B[39m\u001B[38;5;124mcasting\u001B[39m\u001B[38;5;124m'\u001B[39m]\n",
      "\u001B[0;31mKeyboardInterrupt\u001B[0m: "
     ]
    }
   ],
   "source": [
    "with Pool(1) as p:\n",
    "    for i in trange(iter_number):\n",
    "        if len(res) == 0:\n",
    "            batch = np.random.random((batch_size, 7))\n",
    "        else:\n",
    "            batch = np.random.random((batch_size, 7))\n",
    "            for num, k in enumerate(res):\n",
    "                for j in range(multy):\n",
    "                    for l in range(7):\n",
    "                        batch[multy * num + j, l] = min(max(res[k][l] + random.random() / 20 - 1 / 40, 0), 1)\n",
    "        # tmp = list(tqdm(p.imap(count, batch), total=len(batch)))\n",
    "        tmp = count(state=batch[0])\n",
    "        print(tmp)"
   ],
   "metadata": {
    "collapsed": false,
    "ExecuteTime": {
     "end_time": "2024-06-20T19:25:35.204871Z",
     "start_time": "2024-06-20T19:16:04.842896Z"
    }
   },
   "id": "25bfc6db996d6aaf",
   "execution_count": 95
  }
 ],
 "metadata": {
  "kernelspec": {
   "display_name": "Python 3",
   "language": "python",
   "name": "python3"
  },
  "language_info": {
   "codemirror_mode": {
    "name": "ipython",
    "version": 2
   },
   "file_extension": ".py",
   "mimetype": "text/x-python",
   "name": "python",
   "nbconvert_exporter": "python",
   "pygments_lexer": "ipython2",
   "version": "2.7.6"
  }
 },
 "nbformat": 4,
 "nbformat_minor": 5
}
