{
 "cells": [
  {
   "cell_type": "code",
   "outputs": [],
   "source": [
    "import random\n",
    "from multiprocessing import Pool\n",
    "\n",
    "import numpy as np\n",
    "import matplotlib.pyplot as plt\n",
    "from tqdm.notebook import tqdm, trange\n"
   ],
   "metadata": {
    "collapsed": false
   },
   "id": "72671d9643825ea8"
  },
  {
   "cell_type": "code",
   "outputs": [],
   "source": [
    "plt.rc('legend', fontsize=8)  # legend fontsize\n",
    "plt.rcParams.update({'font.size': 14})"
   ],
   "metadata": {
    "collapsed": false
   },
   "id": "53090f9cf3fc0c08"
  },
  {
   "cell_type": "code",
   "outputs": [],
   "source": [
    "N = 24  # число субъединиц"
   ],
   "metadata": {
    "collapsed": false
   },
   "id": "d59c2802325b0cc2"
  },
  {
   "cell_type": "code",
   "outputs": [],
   "source": [
    "K = np.zeros((N + 1, N + 1, N + 1, N + 1))\n",
    "for i in range(N + 1):\n",
    "    for j in range(N + 1):\n",
    "        for k in range(N + 1):\n",
    "            for l in range(N + 1):\n",
    "                a = i + j\n",
    "                b = k + l\n",
    "                # if a == 1 and b == 1:\n",
    "                #   K[i,j,k,l]=1\n",
    "                # if a == 2 and b == 2:\n",
    "                #   K[i,j,k,l]=1\n",
    "                # if (a == 4 and b == 2) or (a == 2 and b == 4):\n",
    "                #   K[i,j,k,l]=1\n",
    "                if a == 6 and b == 6:\n",
    "                    K[i, j, k, l] = 1\n",
    "                if a == 12 and b == 12:\n",
    "                    K[i, j, k, l] = 1\n",
    "\n",
    "indx = np.argwhere(K > 0.01)"
   ],
   "metadata": {
    "collapsed": false
   },
   "id": "69a54f887bcbd840"
  },
  {
   "cell_type": "code",
   "outputs": [],
   "source": [
    "def model(_C, delta_time):  # уравнения Смолуховского\n",
    "    dC = np.zeros((N + 1, N + 1))\n",
    "    for [i, j, k, l] in indx:\n",
    "        dC[i + k, j + l] += 1 / 2 * _C[i, j] * _C[k, l] * K[i, j, k, l]\n",
    "        dC[i, j] -= K[i, j, k, l] * _C[i, j] * _C[k, l]\n",
    "    return _C + dC * delta_time"
   ],
   "metadata": {
    "collapsed": false
   },
   "id": "744bb04f0337e5bb"
  },
  {
   "cell_type": "code",
   "outputs": [],
   "source": [
    "def get_b():\n",
    "    b = np.zeros(25)\n",
    "    b[0] = 0.015\n",
    "    b[1] = 0.025\n",
    "    b[2] = 0.038\n",
    "    b[3] = 0.05\n",
    "    b[4] = 0.061\n",
    "    b[5] = 0.068\n",
    "    b[6] = 0.068\n",
    "    b[7] = 0.065\n",
    "    b[8] = 0.061\n",
    "    b[9] = 0.059\n",
    "    b[10] = 0.059\n",
    "    b[11] = 0.061\n",
    "    b[12] = 0.055\n",
    "    b[13] = 0.052\n",
    "    b[14] = 0.047\n",
    "    b[15] = 0.043\n",
    "    b[16] = 0.036\n",
    "    b[17] = 0.03\n",
    "    b[18] = 0.025\n",
    "    b[19] = 0.02\n",
    "    b[20] = 0.017\n",
    "    b[21] = 0.015\n",
    "    b[22] = 0.011\n",
    "    b[23] = 0.009\n",
    "    b[24] = 0.007\n",
    "\n",
    "    b /= np.sum(b)\n",
    "    return b"
   ],
   "metadata": {
    "collapsed": false
   },
   "id": "6da76dbaa2d9199d"
  },
  {
   "cell_type": "code",
   "execution_count": null,
   "id": "initial_id",
   "metadata": {
    "collapsed": true
   },
   "outputs": [],
   "source": [
    "def solver(C0, TIME, STEP):\n",
    "    prev = C0\n",
    "    # times = [-STEP]\n",
    "    for t in np.arange(0, TIME, STEP):\n",
    "        C_new = model(prev, STEP)\n",
    "        prev = C_new\n",
    "    return prev"
   ]
  },
  {
   "cell_type": "code",
   "outputs": [],
   "source": [
    "def count(state,T,STEP):\n",
    "    c = np.zeros((N + 1, N + 1))\n",
    "    c[0, 6] = state[0]\n",
    "    c[1, 5] = state[1]\n",
    "    c[2, 4] = state[2]\n",
    "    c[3, 3] = state[3]\n",
    "    c[4, 2] = state[4]\n",
    "    c[5, 1] = state[5]\n",
    "    c[6, 0] = state[6]\n",
    "\n",
    "    c /= np.sum(c)\n",
    "\n",
    "    c = solver(c, T, STEP)\n",
    "\n",
    "    data = np.zeros(N + 1)\n",
    "    for j in range(N + 1):\n",
    "        data[j] = c[j, N - j]\n",
    "    return np.sum(((data - get_b()) ** 2) / b), state"
   ],
   "metadata": {
    "collapsed": false
   },
   "id": "6027b331afa8771c"
  },
  {
   "cell_type": "markdown",
   "source": [
    "Solver params"
   ],
   "metadata": {
    "collapsed": false
   },
   "id": "cf1df8f869bf3a04"
  },
  {
   "cell_type": "code",
   "outputs": [],
   "source": [
    "STEP = 0.001\n",
    "T = 100"
   ],
   "metadata": {
    "collapsed": false
   },
   "id": "bb759d04598e0ac"
  },
  {
   "cell_type": "markdown",
   "source": [
    "Fitting params"
   ],
   "metadata": {
    "collapsed": false
   },
   "id": "1b3a2098277a98ca"
  },
  {
   "cell_type": "code",
   "outputs": [],
   "source": [
    "iter_number  = 30\n",
    "min_delta = 1000000\n",
    "min_data = None\n",
    "batch_size = 16\n",
    "best = 5\n",
    "multy = 2"
   ],
   "metadata": {
    "collapsed": false
   },
   "id": "f0596c158d277bd9"
  },
  {
   "cell_type": "markdown",
   "source": [
    "others"
   ],
   "metadata": {
    "collapsed": false
   },
   "id": "872ff67ebe3f4487"
  },
  {
   "cell_type": "code",
   "outputs": [],
   "source": [
    "import multiprocessing\n",
    "\n",
    "NUM_THREADS = multiprocessing.cpu_count()\n",
    "b = get_b()\n",
    "res = {}"
   ],
   "metadata": {
    "collapsed": false
   },
   "id": "e56620e77099591a"
  },
  {
   "cell_type": "code",
   "outputs": [],
   "source": [
    "NUM_THREADS"
   ],
   "metadata": {
    "collapsed": false
   },
   "id": "f37b5be17bb43de8"
  },
  {
   "cell_type": "code",
   "outputs": [],
   "source": [
    "with Pool(NUM_THREADS) as p:\n",
    "    for i in trange(iter_number):\n",
    "        if len(res) == 0:\n",
    "            batch = np.random.random((batch_size, 7))\n",
    "        else:\n",
    "            batch = np.random.random((batch_size, 7))\n",
    "            for num, k in enumerate(res):\n",
    "                for j in range(multy):\n",
    "                    for l in range(7):\n",
    "                        batch[multy * num + j, l] = min(max(res[k][l] + random.random() / 20 - 1/40, 0), 1)\n",
    "        tmp = list(tqdm(p.imap(count, batch), total=len(batch)))\n",
    "        for t in tmp:\n",
    "            res[t[0]] = t[1]\n",
    "        q = list(res.items())\n",
    "        q.sort(key=lambda x: x[0])\n",
    "        res = dict(q[0:best])\n",
    "\n",
    "        q = list(res.items())\n",
    "        q.sort(key=lambda x: x[0])\n",
    "        q = q[0:1]\n",
    "        print('delta:', q[0][0])\n",
    "        print('c:', q[0][1])"
   ],
   "metadata": {
    "collapsed": false
   },
   "id": "25bfc6db996d6aaf"
  }
 ],
 "metadata": {
  "kernelspec": {
   "display_name": "Python 3",
   "language": "python",
   "name": "python3"
  },
  "language_info": {
   "codemirror_mode": {
    "name": "ipython",
    "version": 2
   },
   "file_extension": ".py",
   "mimetype": "text/x-python",
   "name": "python",
   "nbconvert_exporter": "python",
   "pygments_lexer": "ipython2",
   "version": "2.7.6"
  }
 },
 "nbformat": 4,
 "nbformat_minor": 5
}
