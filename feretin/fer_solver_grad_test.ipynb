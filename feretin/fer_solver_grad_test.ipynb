{
 "cells": [
  {
   "cell_type": "code",
   "outputs": [],
   "source": [
    "import random\n",
    "from multiprocessing import Pool\n",
    "\n",
    "import numpy as np\n",
    "from tqdm.notebook import tqdm, trange\n"
   ],
   "metadata": {
    "collapsed": false,
    "ExecuteTime": {
     "end_time": "2024-06-20T18:45:04.184940Z",
     "start_time": "2024-06-20T18:45:04.181964Z"
    }
   },
   "id": "72671d9643825ea8",
   "execution_count": 31
  },
  {
   "cell_type": "code",
   "outputs": [],
   "source": [],
   "metadata": {
    "collapsed": false,
    "ExecuteTime": {
     "end_time": "2024-06-20T18:45:04.265498Z",
     "start_time": "2024-06-20T18:45:04.262820Z"
    }
   },
   "id": "53090f9cf3fc0c08",
   "execution_count": 31
  },
  {
   "cell_type": "code",
   "outputs": [],
   "source": [
    "def model(x, dt):\n",
    "    return x + dt*x"
   ],
   "metadata": {
    "collapsed": false,
    "ExecuteTime": {
     "end_time": "2024-06-20T18:45:04.292009Z",
     "start_time": "2024-06-20T18:45:04.288696Z"
    }
   },
   "id": "d59c2802325b0cc2",
   "execution_count": 32
  },
  {
   "cell_type": "code",
   "outputs": [],
   "source": [
    "\n",
    "def back_prop(c, b, dt):\n",
    "    dC = 2 * (c[-1] - b)\n",
    "    for i in range(len(c) - 1, -1, -1):\n",
    "        dPrev = 1 + dt\n",
    "        dC = dC* dPrev\n",
    "    return dC"
   ],
   "metadata": {
    "collapsed": false,
    "ExecuteTime": {
     "end_time": "2024-06-20T18:45:04.325141Z",
     "start_time": "2024-06-20T18:45:04.320508Z"
    }
   },
   "id": "beb7790827a55166",
   "execution_count": 33
  },
  {
   "cell_type": "code",
   "outputs": [],
   "source": [
    "def solver(C0, TIME, STEP):\n",
    "    prev = C0\n",
    "    c = [C0]\n",
    "    # times = [-STEP]\n",
    "    for t in np.arange(0, TIME, STEP):\n",
    "        C_new = model(prev, STEP)\n",
    "        prev = C_new\n",
    "        c.append(prev)\n",
    "    return prev, back_prop(c,5, STEP)"
   ],
   "metadata": {
    "collapsed": false,
    "ExecuteTime": {
     "end_time": "2024-06-20T18:45:04.356868Z",
     "start_time": "2024-06-20T18:45:04.352831Z"
    }
   },
   "id": "69a54f887bcbd840",
   "execution_count": 34
  },
  {
   "cell_type": "code",
   "outputs": [
    {
     "name": "stdout",
     "output_type": "stream",
     "text": [
      "25.937424600999996\n",
      "-5.051010446291958\n",
      "9.82498745269011\n",
      "2.683764827126838\n",
      "6.111908668915522\n",
      "4.4662282558830695\n",
      "5.25623711981265\n",
      "4.876993373490562\n",
      "5.059049329684533\n",
      "4.971653369943244\n",
      "5.0136077994427275\n",
      "4.993467576029222\n",
      "5.003135890054347\n",
      "4.99849461601437\n",
      "5.000722659565518\n",
      "4.999653087283629\n",
      "5.000166535445627\n",
      "4.999920054661184\n",
      "5.000038377759005\n",
      "4.999981576757218\n",
      "5.000008844077492\n",
      "4.9999957544007\n",
      "5.000002038099896\n",
      "4.999999021610168\n",
      "5.00000046967603\n",
      "4.999999774532026\n",
      "5.0000001082358985\n",
      "4.999999948041358\n",
      "5.000000024942746\n",
      "4.999999988026234\n",
      "5.000000005748007\n",
      "4.999999997240668\n",
      "5.000000001324617\n",
      "4.999999999364119\n",
      "5.0000000003052545\n",
      "4.999999999853463\n",
      "5.000000000070343\n",
      "4.999999999966232\n",
      "5.00000000001621\n",
      "4.999999999992219\n",
      "5.000000000003736\n",
      "4.999999999998207\n",
      "5.0000000000008615\n",
      "4.999999999999585\n",
      "5.000000000000202\n",
      "4.999999999999901\n",
      "5.000000000000046\n",
      "4.999999999999978\n",
      "5.000000000000012\n",
      "4.999999999999993\n",
      "5.000000000000003\n",
      "4.999999999999998\n",
      "5.000000000000003\n",
      "4.999999999999998\n",
      "5.000000000000002\n",
      "4.999999999999998\n",
      "5.000000000000002\n",
      "4.999999999999998\n",
      "5.000000000000002\n",
      "4.999999999999998\n",
      "5.000000000000002\n",
      "4.999999999999998\n",
      "5.000000000000002\n",
      "4.999999999999998\n",
      "5.000000000000002\n",
      "4.999999999999998\n",
      "5.000000000000002\n",
      "4.999999999999998\n",
      "5.000000000000002\n",
      "4.999999999999998\n",
      "5.000000000000002\n",
      "4.999999999999998\n",
      "5.000000000000002\n",
      "4.999999999999998\n",
      "5.000000000000002\n",
      "4.999999999999998\n",
      "5.000000000000002\n",
      "4.999999999999998\n",
      "5.000000000000002\n",
      "4.999999999999998\n",
      "5.000000000000002\n",
      "4.999999999999998\n",
      "5.000000000000002\n",
      "4.999999999999998\n",
      "5.000000000000002\n",
      "4.999999999999998\n",
      "5.000000000000002\n",
      "4.999999999999998\n",
      "5.000000000000002\n",
      "4.999999999999998\n",
      "5.000000000000002\n",
      "4.999999999999998\n",
      "5.000000000000002\n",
      "4.999999999999998\n",
      "5.000000000000002\n",
      "4.999999999999998\n",
      "5.000000000000002\n",
      "4.999999999999998\n",
      "5.000000000000002\n",
      "4.999999999999998\n"
     ]
    }
   ],
   "source": [
    "TIME = 1\n",
    "STEP = 0.1\n",
    "x0 = 10\n",
    "for i in range(100):\n",
    "    f,dx = solver(x0,TIME, STEP)\n",
    "    x0 -= dx * 0.1\n",
    "    print(f)\n",
    "    "
   ],
   "metadata": {
    "collapsed": false,
    "ExecuteTime": {
     "end_time": "2024-06-20T18:45:57.051345Z",
     "start_time": "2024-06-20T18:45:57.044960Z"
    }
   },
   "id": "744bb04f0337e5bb",
   "execution_count": 38
  },
  {
   "cell_type": "code",
   "outputs": [],
   "source": [],
   "metadata": {
    "collapsed": false,
    "ExecuteTime": {
     "end_time": "2024-06-20T18:45:04.404697Z",
     "start_time": "2024-06-20T18:45:04.402161Z"
    }
   },
   "id": "6da76dbaa2d9199d",
   "execution_count": 35
  },
  {
   "cell_type": "code",
   "outputs": [],
   "source": [],
   "metadata": {
    "collapsed": false,
    "ExecuteTime": {
     "end_time": "2024-06-20T18:45:04.535238Z",
     "start_time": "2024-06-20T18:45:04.532325Z"
    }
   },
   "id": "23746443351126bd",
   "execution_count": 35
  },
  {
   "cell_type": "code",
   "outputs": [],
   "source": [],
   "metadata": {
    "collapsed": false,
    "ExecuteTime": {
     "end_time": "2024-06-20T18:45:04.556179Z",
     "start_time": "2024-06-20T18:45:04.553319Z"
    }
   },
   "id": "89f77e8efb835ff5",
   "execution_count": 35
  },
  {
   "cell_type": "code",
   "outputs": [],
   "source": [],
   "metadata": {
    "collapsed": false,
    "ExecuteTime": {
     "end_time": "2024-06-20T18:45:04.593306Z",
     "start_time": "2024-06-20T18:45:04.590628Z"
    }
   },
   "id": "128553929f19a8e4",
   "execution_count": 35
  },
  {
   "cell_type": "code",
   "outputs": [],
   "source": [
    "# np.einsum('ij,kl->ijkl',E,E)"
   ],
   "metadata": {
    "collapsed": false,
    "ExecuteTime": {
     "end_time": "2024-06-20T18:45:04.614636Z",
     "start_time": "2024-06-20T18:45:04.610811Z"
    }
   },
   "id": "4b88801d9b64221b",
   "execution_count": 36
  },
  {
   "cell_type": "code",
   "execution_count": 36,
   "id": "initial_id",
   "metadata": {
    "collapsed": true,
    "ExecuteTime": {
     "end_time": "2024-06-20T18:45:04.635368Z",
     "start_time": "2024-06-20T18:45:04.632287Z"
    }
   },
   "outputs": [],
   "source": []
  },
  {
   "cell_type": "code",
   "outputs": [],
   "source": [],
   "metadata": {
    "collapsed": false,
    "ExecuteTime": {
     "end_time": "2024-06-20T18:45:04.649584Z",
     "start_time": "2024-06-20T18:45:04.645859Z"
    }
   },
   "id": "6027b331afa8771c",
   "execution_count": 36
  },
  {
   "cell_type": "markdown",
   "source": [
    "Solver params"
   ],
   "metadata": {
    "collapsed": false
   },
   "id": "cf1df8f869bf3a04"
  },
  {
   "cell_type": "code",
   "outputs": [],
   "source": [],
   "metadata": {
    "collapsed": false,
    "ExecuteTime": {
     "end_time": "2024-06-20T18:45:04.655451Z",
     "start_time": "2024-06-20T18:45:04.652425Z"
    }
   },
   "id": "bb759d04598e0ac",
   "execution_count": 36
  },
  {
   "cell_type": "markdown",
   "source": [
    "Fitting params"
   ],
   "metadata": {
    "collapsed": false
   },
   "id": "1b3a2098277a98ca"
  },
  {
   "cell_type": "code",
   "outputs": [],
   "source": [],
   "metadata": {
    "collapsed": false,
    "ExecuteTime": {
     "end_time": "2024-06-20T18:45:04.661947Z",
     "start_time": "2024-06-20T18:45:04.658778Z"
    }
   },
   "id": "f0596c158d277bd9",
   "execution_count": 36
  },
  {
   "cell_type": "markdown",
   "source": [
    "others"
   ],
   "metadata": {
    "collapsed": false
   },
   "id": "872ff67ebe3f4487"
  },
  {
   "cell_type": "code",
   "outputs": [],
   "source": [],
   "metadata": {
    "collapsed": false,
    "ExecuteTime": {
     "end_time": "2024-06-20T18:45:04.718526Z",
     "start_time": "2024-06-20T18:45:04.715082Z"
    }
   },
   "id": "e56620e77099591a",
   "execution_count": 36
  },
  {
   "cell_type": "code",
   "outputs": [],
   "source": [],
   "metadata": {
    "collapsed": false,
    "ExecuteTime": {
     "end_time": "2024-06-20T18:45:04.741301Z",
     "start_time": "2024-06-20T18:45:04.738816Z"
    }
   },
   "id": "f37b5be17bb43de8",
   "execution_count": 36
  },
  {
   "cell_type": "code",
   "outputs": [],
   "source": [],
   "metadata": {
    "collapsed": false,
    "ExecuteTime": {
     "end_time": "2024-06-20T18:45:04.766502Z",
     "start_time": "2024-06-20T18:45:04.763538Z"
    }
   },
   "id": "25bfc6db996d6aaf",
   "execution_count": 36
  }
 ],
 "metadata": {
  "kernelspec": {
   "display_name": "Python 3",
   "language": "python",
   "name": "python3"
  },
  "language_info": {
   "codemirror_mode": {
    "name": "ipython",
    "version": 2
   },
   "file_extension": ".py",
   "mimetype": "text/x-python",
   "name": "python",
   "nbconvert_exporter": "python",
   "pygments_lexer": "ipython2",
   "version": "2.7.6"
  }
 },
 "nbformat": 4,
 "nbformat_minor": 5
}
