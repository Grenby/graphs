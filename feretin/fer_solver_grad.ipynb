{
 "cells": [
  {
   "cell_type": "code",
   "outputs": [],
   "source": [
    "import random\n",
    "from multiprocessing import Pool\n",
    "\n",
    "import numpy as np\n",
    "from tqdm.notebook import tqdm, trange\n"
   ],
   "metadata": {
    "collapsed": false,
    "ExecuteTime": {
     "end_time": "2024-06-24T21:57:29.031045Z",
     "start_time": "2024-06-24T21:57:28.703571Z"
    }
   },
   "id": "72671d9643825ea8",
   "execution_count": 1
  },
  {
   "cell_type": "code",
   "outputs": [],
   "source": [],
   "metadata": {
    "collapsed": false,
    "ExecuteTime": {
     "end_time": "2024-06-24T21:57:29.037548Z",
     "start_time": "2024-06-24T21:57:29.034260Z"
    }
   },
   "id": "53090f9cf3fc0c08",
   "execution_count": 1
  },
  {
   "cell_type": "code",
   "outputs": [],
   "source": [
    "N = 24  # число субъединиц"
   ],
   "metadata": {
    "collapsed": false,
    "ExecuteTime": {
     "end_time": "2024-06-24T21:57:29.043101Z",
     "start_time": "2024-06-24T21:57:29.039486Z"
    }
   },
   "id": "d59c2802325b0cc2",
   "execution_count": 2
  },
  {
   "cell_type": "code",
   "outputs": [],
   "source": [
    "K = np.zeros((N + 1, N + 1, N + 1, N + 1))\n",
    "for i in range(N + 1):\n",
    "    for j in range(N + 1):\n",
    "        for k in range(N + 1):\n",
    "            for l in range(N + 1):\n",
    "                a = i + j\n",
    "                b = k + l\n",
    "                # if a == 1 and b == 1:\n",
    "                #   K[i,j,k,l]=1\n",
    "                # if a == 2 and b == 2:\n",
    "                #   K[i,j,k,l]=1\n",
    "                # if (a == 4 and b == 2) or (a == 2 and b == 4):\n",
    "                #   K[i,j,k,l]=1\n",
    "                if a == 6 and b == 6:\n",
    "                    K[i, j, k, l] = 1\n",
    "                if a == 12 and b == 12:\n",
    "                    K[i, j, k, l] = 1\n",
    "\n",
    "indx = np.argwhere(K > 0.01)"
   ],
   "metadata": {
    "collapsed": false,
    "ExecuteTime": {
     "end_time": "2024-06-24T21:57:29.203254Z",
     "start_time": "2024-06-24T21:57:29.046663Z"
    }
   },
   "id": "69a54f887bcbd840",
   "execution_count": 3
  },
  {
   "cell_type": "code",
   "outputs": [],
   "source": [
    "A = np.zeros((N+1,N+1,N+1))"
   ],
   "metadata": {
    "collapsed": false,
    "ExecuteTime": {
     "end_time": "2024-06-24T21:57:29.209759Z",
     "start_time": "2024-06-24T21:57:29.205109Z"
    }
   },
   "id": "a4789135ba5535fb",
   "execution_count": 4
  },
  {
   "cell_type": "code",
   "outputs": [],
   "source": [
    "def model(_C, delta_time):  # уравнения Смолуховского\n",
    "    dC = np.zeros((N + 1, N + 1))\n",
    "    for [i, j, k, l] in indx:\n",
    "        dC[i + k, j + l] += 1 / 2 * _C[i, j] * _C[k, l] * K[i, j, k, l]\n",
    "        dC[i, j] -= K[i, j, k, l] * _C[i, j] * _C[k, l]\n",
    "    return _C + dC * delta_time"
   ],
   "metadata": {
    "collapsed": false,
    "ExecuteTime": {
     "end_time": "2024-06-24T21:57:29.219907Z",
     "start_time": "2024-06-24T21:57:29.212396Z"
    }
   },
   "id": "744bb04f0337e5bb",
   "execution_count": 5
  },
  {
   "cell_type": "code",
   "outputs": [],
   "source": [],
   "metadata": {
    "collapsed": false,
    "ExecuteTime": {
     "end_time": "2024-06-24T21:57:29.225523Z",
     "start_time": "2024-06-24T21:57:29.222368Z"
    }
   },
   "id": "aea237beb74ee42c",
   "execution_count": 5
  },
  {
   "cell_type": "code",
   "outputs": [],
   "source": [],
   "metadata": {
    "collapsed": false,
    "ExecuteTime": {
     "end_time": "2024-06-24T21:57:29.230497Z",
     "start_time": "2024-06-24T21:57:29.227560Z"
    }
   },
   "id": "1e1f85be2450947d",
   "execution_count": 5
  },
  {
   "cell_type": "code",
   "outputs": [],
   "source": [
    "def get_b():\n",
    "    b = np.zeros(25)\n",
    "    b[0] = 0.015\n",
    "    b[1] = 0.025\n",
    "    b[2] = 0.038\n",
    "    b[3] = 0.05\n",
    "    b[4] = 0.061\n",
    "    b[5] = 0.068\n",
    "    b[6] = 0.068\n",
    "    b[7] = 0.065\n",
    "    b[8] = 0.061\n",
    "    b[9] = 0.059\n",
    "    b[10] = 0.059\n",
    "    b[11] = 0.061\n",
    "    b[12] = 0.055\n",
    "    b[13] = 0.052\n",
    "    b[14] = 0.047\n",
    "    b[15] = 0.043\n",
    "    b[16] = 0.036\n",
    "    b[17] = 0.03\n",
    "    b[18] = 0.025\n",
    "    b[19] = 0.02\n",
    "    b[20] = 0.017\n",
    "    b[21] = 0.015\n",
    "    b[22] = 0.011\n",
    "    b[23] = 0.009\n",
    "    b[24] = 0.007\n",
    "    b = [0.0040782,  0.01298694, 0.02030641, 0.02340803, 0.02375074, 0.03095877,\n",
    " 0.04973027 ,0.06252962, 0.06053318, 0.0524339,  0.05017999, 0.05999055,\n",
    " 0.06524802, 0.05391921, 0.03848055, 0.02961201, 0.02858626, 0.02762937,\n",
    " 0.01945947, 0.01024822, 0.00584425, 0.00461172, 0.00398311, 0.00234085,\n",
    " 0.00058389]\n",
    "    b = np.array(b)\n",
    "    b /= np.sum(b)\n",
    "    return b"
   ],
   "metadata": {
    "collapsed": false,
    "ExecuteTime": {
     "end_time": "2024-06-24T21:57:29.243254Z",
     "start_time": "2024-06-24T21:57:29.232480Z"
    }
   },
   "id": "6da76dbaa2d9199d",
   "execution_count": 6
  },
  {
   "cell_type": "code",
   "outputs": [],
   "source": [
    "peaks = [0.8404011571463119,\n",
    "         0.7945252162031439,\n",
    "         0.7565027674486093,\n",
    "         0.7240338993470374,\n",
    "         0.6957011425876662,\n",
    "         0.670568808802902,\n",
    "         0.6479866902539299,\n",
    "         0.6274845888270858,\n",
    "         0.6087114326964933,\n",
    "         0.59139816643289,\n",
    "         0.5753340223941958,\n",
    "         0.5603508228778717,\n",
    "         0.546312224280532,\n",
    "         0.5331061496493349,\n",
    "         0.5206393684159613,\n",
    "         0.5088334710519952,\n",
    "         0.497621899879081,\n",
    "         0.4869476823216445,\n",
    "         0.4767616474002418,\n",
    "         0.46702109557436516,\n",
    "         0.4576886778234583,\n",
    "         0.44873157363966143,\n",
    "         0.4401207537122128,\n",
    "         0.431830436904474,\n",
    "         0.4238376219588875]\n",
    "\n",
    "\n",
    "def gaussian(x, amplitude, mean, stddev):\n",
    "    return np.sqrt(1 / (2 * np.pi)) * amplitude * np.exp(-(x - mean) ** 2 / (2 * stddev ** 2))\n",
    "\n",
    "\n",
    "def smooth(peaks, num, intensity):\n",
    "    if intensity == 0:\n",
    "        return np.zeros(25)\n",
    "    Fer_sigma = 0.011\n",
    "    FerSumo_sigma = 0.024\n",
    "    sigma = FerSumo_sigma * (24 - num) / 24.0 + Fer_sigma * num / 24.0\n",
    "    peak_center = peaks[num]\n",
    "    smoothed_peak = np.zeros(25)\n",
    "    for i in range(1, 24):\n",
    "        smoothed_peak[i] = gaussian(peaks[i], intensity, peak_center, sigma) * (peaks[i - 1] - peaks[i + 1]) / 2\n",
    "    smoothed_peak[0] = gaussian(peaks[0], intensity, peak_center, sigma) * (peaks[0] - peaks[1])\n",
    "    smoothed_peak[24] = gaussian(peaks[24], intensity, peak_center, sigma) * (peaks[23] - peaks[24])\n",
    "    return smoothed_peak / sum(smoothed_peak) * intensity\n",
    "\n",
    "\n",
    "def smooth_profile(p_24):\n",
    "    result = np.zeros(25)\n",
    "    for i in range(0, 25):\n",
    "        result += smooth(peaks, i, p_24[i])\n",
    "    return result"
   ],
   "metadata": {
    "collapsed": false,
    "ExecuteTime": {
     "end_time": "2024-06-24T21:57:29.260409Z",
     "start_time": "2024-06-24T21:57:29.248974Z"
    }
   },
   "id": "23746443351126bd",
   "execution_count": 7
  },
  {
   "cell_type": "code",
   "outputs": [],
   "source": [],
   "metadata": {
    "collapsed": false,
    "ExecuteTime": {
     "end_time": "2024-06-24T21:57:29.265978Z",
     "start_time": "2024-06-24T21:57:29.262720Z"
    }
   },
   "id": "89f77e8efb835ff5",
   "execution_count": 7
  },
  {
   "cell_type": "code",
   "outputs": [],
   "source": [
    "E = np.identity(N + 1)\n",
    "\n",
    "\n",
    "def back_prop(c, b):\n",
    "    dC = np.zeros((N + 1, N + 1))\n",
    "    data = np.zeros(N + 1)\n",
    "    for j in range(N + 1):\n",
    "        data[j] = c[-1][j, N - j]\n",
    "    # data = smooth_profile(data)\n",
    "    s = np.sum(data)\n",
    "    data /= s\n",
    "    d = np.zeros(N + 1)\n",
    "    for i in range(N + 1):\n",
    "        d[i] = 2 * (data[i] - b[i])\n",
    "    d = d / s - np.sum(data * d) / (s * s)\n",
    "    for i in range(N + 1):\n",
    "        dC[i, N - 1] = d[i]\n",
    "\n",
    "    for i in range(len(c) - 1, -1, -1):\n",
    "        dPrev = np.zeros((N + 1, N + 1, N + 1, N + 1))\n",
    "        _C = c[i]\n",
    "        for [i, j, k, l] in indx:\n",
    "            dPrev[i + k, j + l, i, j] += (1 - E[i, k] * E[j, l]) * K[i, j, k, l] * _C[k, l] / 2\n",
    "            dPrev[i + k, j + l, k, l] += (1 - E[i, k] * E[j, l]) * K[i, j, k, l] * _C[i, j] / 2\n",
    "            dPrev[i + k, j + l, i, j] += E[i, k] * E[j, l] * K[i, j, k, l] * _C[k, l]\n",
    "\n",
    "            dPrev[i, j, i, j] -= 2 * K[i, j, i, j] * _C[i, j] * E[i, k] * E[j, l]\n",
    "            dPrev[i, j, k, l] -= K[i, j, k, l] * _C[i, j] * (1 - E[i, k] * E[j, l])\n",
    "\n",
    "        dPrev *= STEP\n",
    "        dPrev += np.einsum('ac,bd->abcd', E, E)\n",
    "        dC = np.einsum('kl,klij->ij', dC, dPrev)\n",
    "\n",
    "        # print(dC[6,0])\n",
    "    return dC"
   ],
   "metadata": {
    "collapsed": false,
    "ExecuteTime": {
     "end_time": "2024-06-24T21:57:29.283665Z",
     "start_time": "2024-06-24T21:57:29.268163Z"
    }
   },
   "id": "128553929f19a8e4",
   "execution_count": 8
  },
  {
   "cell_type": "code",
   "outputs": [],
   "source": [
    "# np.einsum('ij,kl->ijkl',E,E)"
   ],
   "metadata": {
    "collapsed": false,
    "ExecuteTime": {
     "end_time": "2024-06-24T21:57:29.292068Z",
     "start_time": "2024-06-24T21:57:29.285676Z"
    }
   },
   "id": "4b88801d9b64221b",
   "execution_count": 9
  },
  {
   "cell_type": "code",
   "execution_count": 10,
   "id": "initial_id",
   "metadata": {
    "collapsed": true,
    "ExecuteTime": {
     "end_time": "2024-06-24T21:57:29.301008Z",
     "start_time": "2024-06-24T21:57:29.294388Z"
    }
   },
   "outputs": [],
   "source": [
    "def solver(C0, TIME, STEP):\n",
    "    prev = C0\n",
    "    c = [C0]\n",
    "    # times = [-STEP]\n",
    "    for t in np.arange(0, TIME, STEP):\n",
    "        C_new = model(prev, STEP)\n",
    "        prev = C_new\n",
    "        c.append(prev)\n",
    "    return prev, back_prop(c, get_b())"
   ]
  },
  {
   "cell_type": "code",
   "outputs": [],
   "source": [
    "def count(state):\n",
    "    dc = None\n",
    "\n",
    "    state = np.array(state)\n",
    "    state /= sum(state)\n",
    "    a = 0.1\n",
    "\n",
    "    for i in range(100):\n",
    "        if dc is not None:\n",
    "            state[0] -= dc[0, 6] * a\n",
    "            state[1] -= dc[1, 5] * a\n",
    "            state[2] -= dc[2, 4] * a\n",
    "            state[3] -= dc[3, 3] * a\n",
    "            state[4] -= dc[4, 2] * a\n",
    "            state[5] -= dc[5, 1] * a\n",
    "            state[6] -= dc[6, 0] * a\n",
    "            # a = a * 0.99\n",
    "            for i in range(7):\n",
    "                state[i] = max(0, min(1, state[i]))\n",
    "        c = np.zeros((N + 1, N + 1))\n",
    "        c[0, 6] = state[0]\n",
    "        c[1, 5] = state[1]\n",
    "        c[2, 4] = state[2]\n",
    "        c[3, 3] = state[3]\n",
    "        c[4, 2] = state[4]\n",
    "        c[5, 1] = state[5]\n",
    "        c[6, 0] = state[6]\n",
    "\n",
    "        q, dc = solver(c, T, STEP)\n",
    "        data = np.zeros(N + 1)\n",
    "        for j in range(N + 1):\n",
    "            data[j] = q[j, N - j]\n",
    "        print('delta:', np.sum(((data - get_b()) ** 2)/data))\n",
    "        print('a:', a)\n",
    "        print('state:', state)\n",
    "    return state"
   ],
   "metadata": {
    "collapsed": false,
    "ExecuteTime": {
     "end_time": "2024-06-24T21:57:29.316906Z",
     "start_time": "2024-06-24T21:57:29.303332Z"
    }
   },
   "id": "6027b331afa8771c",
   "execution_count": 11
  },
  {
   "cell_type": "markdown",
   "source": [
    "Solver params"
   ],
   "metadata": {
    "collapsed": false
   },
   "id": "cf1df8f869bf3a04"
  },
  {
   "cell_type": "code",
   "outputs": [],
   "source": [
    "STEP = 0.1\n",
    "T = 100"
   ],
   "metadata": {
    "collapsed": false,
    "ExecuteTime": {
     "end_time": "2024-06-24T21:57:29.325174Z",
     "start_time": "2024-06-24T21:57:29.319107Z"
    }
   },
   "id": "bb759d04598e0ac",
   "execution_count": 12
  },
  {
   "cell_type": "markdown",
   "source": [
    "Fitting params"
   ],
   "metadata": {
    "collapsed": false
   },
   "id": "1b3a2098277a98ca"
  },
  {
   "cell_type": "code",
   "outputs": [],
   "source": [
    "iter_number = 30\n",
    "min_delta = 1000000\n",
    "min_data = None\n",
    "batch_size = 16\n",
    "best = 5\n",
    "multy = 2"
   ],
   "metadata": {
    "collapsed": false,
    "ExecuteTime": {
     "end_time": "2024-06-24T21:57:29.331981Z",
     "start_time": "2024-06-24T21:57:29.327410Z"
    }
   },
   "id": "f0596c158d277bd9",
   "execution_count": 13
  },
  {
   "cell_type": "markdown",
   "source": [
    "others"
   ],
   "metadata": {
    "collapsed": false
   },
   "id": "872ff67ebe3f4487"
  },
  {
   "cell_type": "code",
   "outputs": [],
   "source": [
    "import multiprocessing\n",
    "\n",
    "NUM_THREADS = multiprocessing.cpu_count()\n",
    "b = get_b()\n",
    "res = {}"
   ],
   "metadata": {
    "collapsed": false,
    "ExecuteTime": {
     "end_time": "2024-06-24T21:57:29.338328Z",
     "start_time": "2024-06-24T21:57:29.333830Z"
    }
   },
   "id": "e56620e77099591a",
   "execution_count": 14
  },
  {
   "cell_type": "code",
   "outputs": [
    {
     "data": {
      "text/plain": "8"
     },
     "execution_count": 15,
     "metadata": {},
     "output_type": "execute_result"
    }
   ],
   "source": [
    "NUM_THREADS"
   ],
   "metadata": {
    "collapsed": false,
    "ExecuteTime": {
     "end_time": "2024-06-24T21:57:29.353545Z",
     "start_time": "2024-06-24T21:57:29.340749Z"
    }
   },
   "id": "f37b5be17bb43de8",
   "execution_count": 15
  },
  {
   "cell_type": "code",
   "outputs": [],
   "source": [
    "# C = np.zeros((N+1,N+1))\n",
    "# C[0,6] = 0.81773414\n",
    "# C[1,5] = 0.6510148\n",
    "# C[2,4] = 0.24049913\n",
    "# C[3,3] = 0.18639066\n",
    "# C[4,2] = 0.09990727\n",
    "# C[5,1] = 0.50415137\n",
    "# C[6,0] = 0.50301096\n",
    "# print(solver(C, 100,0.1)[0])"
   ],
   "metadata": {
    "collapsed": false,
    "ExecuteTime": {
     "end_time": "2024-06-24T21:57:29.360469Z",
     "start_time": "2024-06-24T21:57:29.355819Z"
    }
   },
   "id": "858b3f05f5b0684c",
   "execution_count": 16
  },
  {
   "cell_type": "code",
   "outputs": [
    {
     "data": {
      "text/plain": "  0%|          | 0/30 [00:00<?, ?it/s]",
      "application/vnd.jupyter.widget-view+json": {
       "version_major": 2,
       "version_minor": 0,
       "model_id": "e41e76dccae542d2b16181964c2b385f"
      }
     },
     "metadata": {},
     "output_type": "display_data"
    },
    {
     "name": "stdout",
     "output_type": "stream",
     "text": [
      "delta: 0.03975785980348671\n",
      "a: 0.1\n",
      "state: [0.17512425 0.07367457 0.05775391 0.10284768 0.25929627 0.05587704\n",
      " 0.27542629]\n",
      "delta: 0.03957225907062015\n",
      "a: 0.1\n",
      "state: [0.17816001 0.07627843 0.05675002 0.10190187 0.25854731 0.05485353\n",
      " 0.27468479]\n",
      "delta: 0.039391034512617884\n",
      "a: 0.1\n",
      "state: [0.18125178 0.07886156 0.05570347 0.10091612 0.25776691 0.05378632\n",
      " 0.27391228]\n",
      "delta: 0.03921459143852363\n",
      "a: 0.1\n",
      "state: [0.18439446 0.08142341 0.05461407 0.09989029 0.25695502 0.05267517\n",
      " 0.27310871]\n",
      "delta: 0.03904333879773163\n",
      "a: 0.1\n",
      "state: [0.1875827  0.08396313 0.05348173 0.09882435 0.2561117  0.05152002\n",
      " 0.27227417]\n",
      "delta: 0.03887768595495304\n",
      "a: 0.1\n",
      "state: [0.19081098 0.08647959 0.05230654 0.09771841 0.25523712 0.05032091\n",
      " 0.27140883]\n",
      "delta: 0.038718039227822514\n",
      "a: 0.1\n",
      "state: [0.19407356 0.08897142 0.05108873 0.09657275 0.25433159 0.0490781\n",
      " 0.27051305]\n",
      "delta: 0.03856479817953752\n",
      "a: 0.1\n",
      "state: [0.19736446 0.09143701 0.04982875 0.09538783 0.25339556 0.04779202\n",
      " 0.26958728]\n",
      "delta: 0.03841835166370591\n",
      "a: 0.1\n",
      "state: [0.20067751 0.09387455 0.04852721 0.09416429 0.25242967 0.0464633\n",
      " 0.26863217]\n",
      "delta: 0.03827907362450294\n",
      "a: 0.1\n",
      "state: [0.20400632 0.096282   0.04718499 0.09290301 0.25143471 0.04509284\n",
      " 0.26764854]\n",
      "delta: 0.03814731866272765\n",
      "a: 0.1\n",
      "state: [0.20734429 0.09865717 0.04580321 0.09160511 0.25041168 0.04368178\n",
      " 0.2666374 ]\n",
      "delta: 0.03802341738780504\n",
      "a: 0.1\n",
      "state: [0.21068464 0.10099766 0.04438325 0.09027194 0.24936178 0.04223153\n",
      " 0.26559998]\n",
      "delta: 0.03790767158757739\n",
      "a: 0.1\n",
      "state: [0.21402044 0.10330098 0.04292678 0.08890515 0.24828643 0.04074382\n",
      " 0.26453769]\n",
      "delta: 0.03780034926215552\n",
      "a: 0.1\n",
      "state: [0.21734459 0.10556449 0.04143579 0.08750666 0.24718729 0.03922068\n",
      " 0.2634522 ]\n",
      "delta: 0.03770167958529427\n",
      "a: 0.1\n",
      "state: [0.22064988 0.10778546 0.03991258 0.08607871 0.24606623 0.03766447\n",
      " 0.26234541]\n",
      "delta: 0.03761184787664129\n",
      "a: 0.1\n",
      "state: [0.22392904 0.10996111 0.03835978 0.08462383 0.24492539 0.0360779\n",
      " 0.26121944]\n",
      "delta: 0.0375309906903773\n",
      "a: 0.1\n",
      "state: [0.22717473 0.1120886  0.03678037 0.08314488 0.24376715 0.03446402\n",
      " 0.26007667]\n",
      "delta: 0.03745919114940847\n",
      "a: 0.1\n",
      "state: [0.23037963 0.1141651  0.03517767 0.08164503 0.24259413 0.03282627\n",
      " 0.2589197 ]\n",
      "delta: 0.03739647467805581\n",
      "a: 0.1\n",
      "state: [0.23353647 0.11618781 0.03355534 0.08012779 0.24140917 0.03116838\n",
      " 0.25775139]\n",
      "delta: 0.03734280530821053\n",
      "a: 0.1\n",
      "state: [0.23663812 0.11815401 0.03191737 0.07859693 0.24021536 0.02949448\n",
      " 0.25657479]\n",
      "delta: 0.037298082751686\n",
      "a: 0.1\n",
      "state: [0.23967759 0.12006107 0.03026807 0.07705655 0.239016   0.02780898\n",
      " 0.25539316]\n",
      "delta: 0.03726214044198068\n",
      "a: 0.1\n",
      "state: [0.24264819 0.12190652 0.02861203 0.07551098 0.23781453 0.0261166\n",
      " 0.25420994]\n",
      "delta: 0.03723474474851927\n",
      "a: 0.1\n",
      "state: [0.24554352 0.1236881  0.02695409 0.07396477 0.23661459 0.02442231\n",
      " 0.25302871]\n",
      "delta: 0.037215595552321866\n",
      "a: 0.1\n",
      "state: [0.24835758 0.12540377 0.02529928 0.07242265 0.2354199  0.02273128\n",
      " 0.25185314]\n",
      "delta: 0.037204328341112154\n",
      "a: 0.1\n",
      "state: [0.25108488 0.12705178 0.0236528  0.07088948 0.23423426 0.02104884\n",
      " 0.25068698]\n",
      "delta: 0.0372005179323724\n",
      "a: 0.1\n",
      "state: [0.25372044 0.12863066 0.0220199  0.06937016 0.23306147 0.01938039\n",
      " 0.24953397]\n",
      "delta: 0.03720368386479775\n",
      "a: 0.1\n",
      "state: [0.25625991 0.13013935 0.02040584 0.06786958 0.23190531 0.01773131\n",
      " 0.24839781]\n",
      "delta: 0.037213297414352225\n",
      "a: 0.1\n",
      "state: [0.25869965 0.13157711 0.01881581 0.06639255 0.23076943 0.01610691\n",
      " 0.24728209]\n",
      "delta: 0.037228790095722886\n",
      "a: 0.1\n",
      "state: [0.2610367  0.13294363 0.01725482 0.06494369 0.22965734 0.01451234\n",
      " 0.24619025]\n",
      "delta: 0.03724956341107127\n",
      "a: 0.1\n",
      "state: [0.26326891 0.13423901 0.01572765 0.06352739 0.22857234 0.01295249\n",
      " 0.24512547]\n",
      "delta: 0.03727499951529278\n",
      "a: 0.1\n",
      "state: [0.26539491 0.13546374 0.01423874 0.06214771 0.22751742 0.01143188\n",
      " 0.24409071]\n",
      "delta: 0.03730447239110947\n",
      "a: 0.1\n",
      "state: [0.26741412 0.13661874 0.01279212 0.06080833 0.22649528 0.00995465\n",
      " 0.24308855]\n",
      "delta: 0.03733735907815163\n",
      "a: 0.1\n",
      "state: [0.26932673 0.13770531 0.01139136 0.05951247 0.22550824 0.00852443\n",
      " 0.24212125]\n",
      "delta: 0.037373050485230375\n",
      "a: 0.1\n",
      "state: [0.27113371 0.13872511 0.01003951 0.05826287 0.22455822 0.00714434\n",
      " 0.24119064]\n",
      "delta: 0.0374109613378271\n",
      "a: 0.1\n",
      "state: [0.27283671 0.13968013 0.00873905 0.05706174 0.22364674 0.0058169\n",
      " 0.24029819]\n",
      "delta: 0.03745053887214237\n",
      "a: 0.1\n",
      "state: [0.27443803 0.14057264 0.00749191 0.05591075 0.22277489 0.00454405\n",
      " 0.23944491]\n",
      "delta: 0.037491269976690444\n",
      "a: 0.1\n",
      "state: [0.27594054 0.14140515 0.00629942 0.05481104 0.22194337 0.00332716\n",
      " 0.23863144]\n",
      "delta: 0.037532686592276654\n",
      "a: 0.1\n",
      "state: [0.27734758 0.14218037 0.00516235 0.05376321 0.22115244 0.00216698\n",
      " 0.23785801]\n",
      "delta: 0.03757436929885615\n",
      "a: 0.1\n",
      "state: [0.27866291 0.14290114 0.00408093 0.0527674  0.22040202 0.00106375\n",
      " 0.23712448]\n",
      "delta: 0.037615949130657085\n",
      "a: 0.1\n",
      "state: [2.79890570e-01 1.43570399e-01 3.05492083e-03 5.18232526e-02\n",
      " 2.19691690e-01 1.71878861e-05 2.36430408e-01]\n",
      "delta: 0.03764026135924742\n",
      "a: 0.1\n",
      "state: [0.28103484 0.14419111 0.00208361 0.05093004 0.21902072 0.\n",
      " 0.23577504]\n",
      "delta: 0.03766397074688102\n",
      "a: 0.1\n",
      "state: [0.28209912 0.14476631 0.00116895 0.05008938 0.21838995 0.\n",
      " 0.23515911]\n",
      "delta: 0.03768719522935033\n",
      "a: 0.1\n",
      "state: [0.2830875  0.14529865 0.00030959 0.04929996 0.21779827 0.\n",
      " 0.2345815 ]\n",
      "delta: 0.03769378941796695\n",
      "a: 0.1\n",
      "state: [0.28400415 0.14579076 0.         0.04856017 0.21724435 0.\n",
      " 0.2340409 ]\n",
      "delta: 0.03769127649132577\n",
      "a: 0.1\n",
      "state: [0.28485252 0.14624502 0.         0.04786955 0.21672772 0.\n",
      " 0.23353675]\n",
      "delta: 0.037689470813351444\n",
      "a: 0.1\n",
      "state: [0.28563662 0.14666396 0.         0.04722652 0.21624708 0.\n",
      " 0.23306777]\n",
      "delta: 0.03768824854938767\n",
      "a: 0.1\n",
      "state: [0.2863608  0.14705009 0.         0.04662855 0.21580044 0.\n",
      " 0.23263201]\n",
      "delta: 0.03768750351510086\n",
      "a: 0.1\n",
      "state: [0.28702917 0.14740581 0.         0.04607313 0.21538588 0.\n",
      " 0.23222758]\n",
      "delta: 0.03768714512898999\n",
      "a: 0.1\n",
      "state: [0.28764567 0.14773335 0.         0.04555779 0.21500149 0.\n",
      " 0.2318526 ]\n",
      "delta: 0.037687096520300674\n",
      "a: 0.1\n",
      "state: [0.288214   0.14803481 0.         0.04508012 0.21464541 0.\n",
      " 0.23150527]\n",
      "delta: 0.03768729279872645\n",
      "a: 0.1\n",
      "state: [0.28873763 0.14831215 0.         0.04463778 0.21431585 0.\n",
      " 0.23118384]\n",
      "delta: 0.037687679486710125\n",
      "a: 0.1\n",
      "state: [0.28921986 0.14856721 0.         0.0442285  0.21401109 0.\n",
      " 0.23088661]\n",
      "delta: 0.03768821111086134\n",
      "a: 0.1\n",
      "state: [0.28966376 0.14880171 0.         0.04385012 0.21372948 0.\n",
      " 0.23061196]\n",
      "delta: 0.03768884994583475\n",
      "a: 0.1\n",
      "state: [0.29007222 0.14901722 0.         0.04350057 0.21346943 0.\n",
      " 0.23035837]\n",
      "delta: 0.037689564901806256\n",
      "a: 0.1\n",
      "state: [0.29044792 0.14921524 0.         0.04317786 0.21322946 0.\n",
      " 0.23012437]\n",
      "delta: 0.03769033054527898\n",
      "a: 0.1\n",
      "state: [0.29079337 0.14939713 0.         0.04288012 0.21300815 0.\n",
      " 0.22990857]\n",
      "delta: 0.037691126242190114\n",
      "a: 0.1\n",
      "state: [0.2911109  0.14956417 0.         0.04260558 0.21280415 0.\n",
      " 0.22970967]\n",
      "delta: 0.03769193541203502\n",
      "a: 0.1\n",
      "state: [0.2914027  0.14971754 0.         0.04235257 0.21261622 0.\n",
      " 0.22952643]\n",
      "delta: 0.03769274488185098\n",
      "a: 0.1\n",
      "state: [0.29167077 0.14985834 0.         0.04211951 0.21244315 0.\n",
      " 0.22935769]\n",
      "delta: 0.03769354432930666\n",
      "a: 0.1\n",
      "state: [0.29191699 0.14998756 0.         0.04190493 0.21228385 0.\n",
      " 0.22920239]\n",
      "delta: 0.037694325804735064\n",
      "a: 0.1\n",
      "state: [0.29214308 0.15010614 0.         0.04170744 0.21213728 0.\n",
      " 0.2290595 ]\n",
      "delta: 0.03769508332266281\n",
      "a: 0.1\n",
      "state: [0.29235066 0.15021494 0.         0.04152575 0.21200247 0.\n",
      " 0.22892808]\n",
      "delta: 0.03769581251416489\n",
      "a: 0.1\n",
      "state: [0.29254119 0.15031476 0.         0.04135866 0.21187852 0.\n",
      " 0.22880724]\n",
      "delta: 0.037696510332179044\n",
      "a: 0.1\n",
      "state: [0.29271606 0.15040632 0.         0.04120504 0.21176459 0.\n",
      " 0.22869618]\n",
      "delta: 0.03769717480270782\n",
      "a: 0.1\n",
      "state: [0.29287652 0.15049029 0.         0.04106385 0.21165989 0.\n",
      " 0.22859412]\n",
      "delta: 0.037697804815605016\n",
      "a: 0.1\n",
      "state: [0.29302374 0.15056731 0.         0.04093412 0.21156371 0.\n",
      " 0.22850037]\n",
      "delta: 0.037698399949367\n",
      "a: 0.1\n",
      "state: [0.29315879 0.15063793 0.         0.04081494 0.21147537 0.\n",
      " 0.22841426]\n"
     ]
    },
    {
     "name": "stderr",
     "output_type": "stream",
     "text": [
      "\n",
      "KeyboardInterrupt\n",
      "\n"
     ]
    }
   ],
   "source": [
    "with Pool(1) as p:\n",
    "    for i in trange(iter_number):\n",
    "        if len(res) == 0:\n",
    "            batch = np.random.random((batch_size, 7))\n",
    "        else:\n",
    "            batch = np.random.random((batch_size, 7))\n",
    "            for num, k in enumerate(res):\n",
    "                for j in range(multy):\n",
    "                    for l in range(7):\n",
    "                        batch[multy * num + j, l] = min(max(res[k][l] + random.random() / 20 - 1 / 40, 0), 1)\n",
    "        # tmp = list(tqdm(p.imap(count, batch), total=len(batch)))\n",
    "        tmp = count(state=batch[0])\n",
    "        print(tmp)"
   ],
   "metadata": {
    "collapsed": false,
    "ExecuteTime": {
     "end_time": "2024-06-24T22:01:54.455944Z",
     "start_time": "2024-06-24T21:57:29.363102Z"
    }
   },
   "id": "25bfc6db996d6aaf",
   "execution_count": 17
  }
 ],
 "metadata": {
  "kernelspec": {
   "display_name": "Python 3",
   "language": "python",
   "name": "python3"
  },
  "language_info": {
   "codemirror_mode": {
    "name": "ipython",
    "version": 2
   },
   "file_extension": ".py",
   "mimetype": "text/x-python",
   "name": "python",
   "nbconvert_exporter": "python",
   "pygments_lexer": "ipython2",
   "version": "2.7.6"
  }
 },
 "nbformat": 4,
 "nbformat_minor": 5
}
